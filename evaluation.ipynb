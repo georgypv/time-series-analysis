{
 "cells": [
  {
   "cell_type": "code",
   "execution_count": 1,
   "metadata": {},
   "outputs": [
    {
     "name": "stderr",
     "output_type": "stream",
     "text": [
      "C:\\Users\\Georgy\\Anaconda3\\lib\\site-packages\\pandas_datareader\\compat\\__init__.py:7: FutureWarning: pandas.util.testing is deprecated. Use the functions in the public API at pandas.testing instead.\n",
      "  from pandas.util.testing import assert_frame_equal\n"
     ]
    }
   ],
   "source": [
    "import pandas as pd\n",
    "import pandas_datareader as pdr\n",
    "import numpy as np\n",
    "import matplotlib.pyplot as plt\n",
    "import seaborn as sns\n",
    "%matplotlib inline\n",
    "from datetime import datetime\n",
    "\n",
    "import pymc3 as pm\n",
    "import GPy\n",
    "import arch\n",
    "from sklearn.metrics import mean_squared_error, mean_absolute_error\n",
    "import sys\n",
    "import pickle\n",
    "\n",
    "import warnings\n",
    "warnings.filterwarnings('ignore')"
   ]
  },
  {
   "cell_type": "code",
   "execution_count": 2,
   "metadata": {},
   "outputs": [],
   "source": [
    "with open('data1504.pickle', 'rb') as pp:\n",
    "    data = pickle.load(pp)"
   ]
  },
  {
   "cell_type": "code",
   "execution_count": 3,
   "metadata": {},
   "outputs": [],
   "source": [
    "mapping = {'alum':'Алюминий (тонна/доллар США)',\n",
    "            'bovespa':'Индекс Bovespa',\n",
    "          'brent': 'Нефть марки Brent (баррель/доллар США)',\n",
    "           'bse_sensex': 'Индекс BSE SENSEX',\n",
    "           'btc_usd': 'Bitcoin/Доллар США',\n",
    "           'eth_usd': 'Ethereum/Доллар США',\n",
    "           'eurgbr':'Евро/Британский фунт стерлинга',\n",
    "           'eurrub': 'Евро/Российский рубль',\n",
    "           'eurusd': 'Евро/Доллар США',\n",
    "           'gold': 'Золото (унция/доллар США)',\n",
    "           'imoex':'Индекс Московской Биржи',\n",
    "           'lukoil':'Акции Лукойл',\n",
    "           'megafon':'Акции Мегафон',\n",
    "           'mts':'Акции МТС',\n",
    "           'n225': 'Индекс Nikkei 225',\n",
    "           'nasdaq': 'Индекс NASDAQ Composite',\n",
    "           'nickel': 'Никель (тонна/доллар США)',\n",
    "           'nlmk': 'Акции НЛМК',\n",
    "           'nornikel': 'Акции Норильский Никель',\n",
    "           'sevstal':'Акции Северсталь',\n",
    "#            'plat': 'Платина',\n",
    "           'rtsi':'Индекс PTC',\n",
    "           'shanghai': 'Индекс Shanghai Composite',\n",
    "           'silver': 'Серебро (унция/доллар США)',\n",
    "           'usdrub': 'Доллар США/Российский рубль',\n",
    "           'wheat': 'Пшеница (5000 бушелей/доллар США)',\n",
    "#            'yandex': 'Акции Yandex'\n",
    "          }\n",
    "\n",
    "currencies = ['btc_usd', 'eth_usd', 'eurgbr', 'eurrub', 'eurusd','usdrub']\n",
    "indicies = ['bovespa', 'bse_sensex', 'imoex', 'n225', 'nasdaq', 'rtsi']\n",
    "stocks = ['lukoil','megafon','mts', 'nlmk','nornikel','sevstal']\n",
    "commodities = ['alum', 'brent','gold','nickel', 'silver', 'wheat']"
   ]
  },
  {
   "cell_type": "code",
   "execution_count": 4,
   "metadata": {},
   "outputs": [],
   "source": [
    "ts_test = data['btc_usd']['return_abs']\n",
    "ts_g = data['btc_usd']['return']\n",
    "ts_g = ts_g.reset_index(drop=True)"
   ]
  },
  {
   "cell_type": "code",
   "execution_count": 5,
   "metadata": {},
   "outputs": [],
   "source": [
    "def MSE2(y_true, y_eval):\n",
    "    y_true = y_true.values\n",
    "    y_eval = y_eval.values\n",
    "    if y_true.shape !=  y_eval.shape:\n",
    "        y_eval = y_eval.reshape(y_true.shape)\n",
    "    n = y_true.shape[0]\n",
    "    return sum(((y_true**2) - (y_eval**2))**2) / n\n",
    "\n",
    "def MAE2(y_true, y_eval):\n",
    "    y_true = y_true.values\n",
    "    y_eval = y_eval.values\n",
    "    if y_true.shape !=  y_eval.shape:\n",
    "        y_eval = y_eval.reshape(y_true.shape)\n",
    "    n = y_true.shape[0]\n",
    "    return np.sum(np.abs((y_true**2) - (y_eval**2))) / n\n",
    "\n",
    "def MdRAE(y_true, y_eval):\n",
    "    y_true = y_true.values\n",
    "    y_eval = y_eval.values\n",
    "    if y_true.shape !=  y_eval.shape:\n",
    "        y_eval = y_eval.reshape(y_true.shape)\n",
    "    y_true = pd.Series(y_true)\n",
    "    y_eval = pd.Series(y_eval)\n",
    "    temp =  ((y_true - y_eval)/ (y_true - y_true.shift()))\n",
    "    temp = temp.dropna()\n",
    "    return np.median(np.abs(temp))\n",
    "\n",
    "def sMAPE(y_true, y_eval):\n",
    "    y_true = y_true.values\n",
    "    y_eval = y_eval.values\n",
    "    if y_true.shape !=  y_eval.shape:\n",
    "        y_eval = y_eval.reshape(y_true.shape)\n",
    "    n = y_true.shape[0]\n",
    "    return np.sum((np.abs(y_true - y_eval)/ (y_true + y_eval))*200) / n\n",
    "    \n",
    "    "
   ]
  },
  {
   "cell_type": "code",
   "execution_count": 6,
   "metadata": {},
   "outputs": [],
   "source": [
    "def fixed_window_naive(ts, window_size=252):\n",
    "    from datetime import datetime\n",
    "    dt1 = datetime.now()\n",
    "    ts_forecasts = {}\n",
    "    ts_forecasts['naive'] = []\n",
    "    \n",
    "    first = 0\n",
    "    last = window_size\n",
    "    \n",
    "    ts = ts.reset_index(drop=True)\n",
    "    ts = np.array(ts)\n",
    "    \n",
    "    for t in range(ts.shape[0] - window_size):\n",
    "        naive_forecast = ts[window_size+t-1]\n",
    "        ts_forecasts['naive'].append(naive_forecast)\n",
    "    \n",
    "    fcst_df = pd.DataFrame(ts_forecasts)\n",
    "    length = fcst_df.shape[0]\n",
    "    \n",
    "    fcst_df.index = range(251, length+251)\n",
    "    \n",
    "    dt2 = datetime.now() - dt1\n",
    "    print('\"Наивная\" модель. Выполнено за {}'.format(dt2))\n",
    "    \n",
    "    return fcst_df\n",
    "    "
   ]
  },
  {
   "cell_type": "code",
   "execution_count": 7,
   "metadata": {},
   "outputs": [],
   "source": [
    "def fixed_window_garch(ts, window_size=252, model_params=('Garch',1,0,1, 2.0, 'Normal')):\n",
    "    from datetime import datetime\n",
    "    dt1 = datetime.now()\n",
    "\n",
    "    ts_forecasts = {}\n",
    "    \n",
    "    first = 0\n",
    "    last = window_size - 1\n",
    "    \n",
    "    ts = ts.reset_index(drop=True)\n",
    "    ts = np.array(ts)\n",
    "    \n",
    "    model_to_fit = arch.arch_model(ts, \n",
    "                              vol=model_params[0],\n",
    "                              p=model_params[1], \n",
    "                              o=model_params[2], \n",
    "                              q=model_params[3],\n",
    "                              power=model_params[4],\n",
    "                            dist=model_params[5])\n",
    "    for t in range(ts.shape[0] - window_size):\n",
    "        garch_results = model_to_fit.fit(first_obs=first+t, last_obs=last+t, update_freq=0, disp='off')\n",
    "        temp_res = garch_results.forecast(horizon=1).variance\n",
    "        temp_forecast = temp_res.iloc[last+t]\n",
    "        ts_forecasts[temp_forecast.name] = np.sqrt(temp_forecast)\n",
    "        if t%500 == 0:\n",
    "            print('Модель {}: посчитана {} точка'.format(model_to_fit.volatility.name, t + 1))\n",
    "    fcst_var = pd.DataFrame(ts_forecasts).T\n",
    "    dt2 = datetime.now() - dt1\n",
    "    print('Выполнено за {}'.format(dt2))\n",
    "    return fcst_var"
   ]
  },
  {
   "cell_type": "code",
   "execution_count": 8,
   "metadata": {},
   "outputs": [],
   "source": [
    "def fixed_window_GP(ts, kernel, window_size = 252):\n",
    "    from datetime import datetime\n",
    "    dt1 = datetime.now()\n",
    "    ts_forecasts = {}\n",
    "    ts_forecasts['GP'] = []\n",
    "    \n",
    "    first = 0\n",
    "    last = window_size\n",
    "    \n",
    "    ts = ts.reset_index(drop=True)\n",
    "    ts = np.array(ts)\n",
    "    \n",
    "    ts = np.log(ts + 1)\n",
    "    \n",
    "    for t in range(ts.shape[0] - window_size):\n",
    "        X = np.arange(t, window_size+t).reshape(-1,1)\n",
    "        y = ts[t:window_size+t].reshape(-1,1)\n",
    "        GP_model = GPy.models.GPRegression(X,y, kernel)\n",
    "        GP_model.optimize()\n",
    "        fcst, var = GP_model.predict(np.array([[window_size+t]]))\n",
    "        ts_forecasts['GP'].append(np.exp(fcst[0][0]) - 1)\n",
    "        if t%500 == 0:\n",
    "            print('Модель GP ({}): посчитана {} точка'.format(GP_model.kern.name, t + 1))\n",
    "            \n",
    "    fcst_df = pd.DataFrame(ts_forecasts)\n",
    "    length = fcst_df.shape[0]\n",
    "    \n",
    "    fcst_df.index = range(251, length+251)\n",
    "    \n",
    "    dt2 = datetime.now() - dt1\n",
    "    print('Выполнено за {}'.format(dt2))\n",
    "    return fcst_df\n",
    "    \n",
    "    "
   ]
  },
  {
   "cell_type": "code",
   "execution_count": 9,
   "metadata": {},
   "outputs": [],
   "source": [
    "garch_param_dict = {\n",
    "                    'GARCH': ('Garch',1,0,1, 2.0, 'Normal'),\n",
    "                    'GJR-GARCH':('Garch',1,1,1, 2.0, 'Normal'),\n",
    "                    'TGARCH':('Garch',1,1,1, 1.0, 'Normal')\n",
    "                    \n",
    "                   }\n",
    "\n",
    "GP_kernel_dict = {\n",
    "                     'GP (RBF)': GPy.kern.RBF(1),  \n",
    "                    'GP (Matern52)': GPy.kern.Matern52(1)\n",
    "                    \n",
    "}"
   ]
  },
  {
   "cell_type": "code",
   "execution_count": 798,
   "metadata": {
    "scrolled": false
   },
   "outputs": [
    {
     "name": "stdout",
     "output_type": "stream",
     "text": [
      "Модель GP (rbf): посчитана 1 точка\n",
      "Модель GP (rbf): посчитана 501 точка\n",
      "Модель GP (rbf): посчитана 1001 точка\n",
      "Выполнено за 0:06:39.900607\n"
     ]
    }
   ],
   "source": [
    "btc_fcst = fixed_window_GP(data['btc_usd']['return_abs'], kernel=GPy.kern.RBF(1))"
   ]
  },
  {
   "cell_type": "code",
   "execution_count": 799,
   "metadata": {},
   "outputs": [
    {
     "data": {
      "text/plain": [
       "[<matplotlib.lines.Line2D at 0x20ab612de80>]"
      ]
     },
     "execution_count": 799,
     "metadata": {},
     "output_type": "execute_result"
    },
    {
     "data": {
      "image/png": "[encoded data removed]",
      "text/plain": [
       "<Figure size 432x288 with 1 Axes>"
      ]
     },
     "metadata": {
      "needs_background": "light"
     },
     "output_type": "display_data"
    }
   ],
   "source": [
    "plt.plot(btc_fcst)\n",
    "plt.plot(np.sqrt(data['btc_usd']['return_abs'].reset_index(drop=True)[252:]), alpha=0.2)"
   ]
  },
  {
   "cell_type": "code",
   "execution_count": 689,
   "metadata": {},
   "outputs": [
    {
     "name": "stdout",
     "output_type": "stream",
     "text": [
      "Модель GARCH: посчитана 1 точка\n",
      "Модель GARCH: посчитана 501 точка\n",
      "Модель GARCH: посчитана 1001 точка\n",
      "Выполнено за 0:01:00.114296\n"
     ]
    }
   ],
   "source": [
    "test_fcst_g = fixed_window_garch(ts_g)"
   ]
  },
  {
   "cell_type": "code",
   "execution_count": 704,
   "metadata": {},
   "outputs": [
    {
     "name": "stdout",
     "output_type": "stream",
     "text": [
      "\"Наивная\" модель. Выполнено за 0:00:00.002034\n"
     ]
    }
   ],
   "source": [
    "test_fcst_naive = fixed_window_naive(ts_test)\n"
   ]
  },
  {
   "cell_type": "code",
   "execution_count": 707,
   "metadata": {},
   "outputs": [
    {
     "data": {
      "text/plain": [
       "<matplotlib.legend.Legend at 0x20accb05cf8>"
      ]
     },
     "execution_count": 707,
     "metadata": {},
     "output_type": "execute_result"
    },
    {
     "data": {
      "image/png": "[encoded data removed]",
      "text/plain": [
       "<Figure size 1152x576 with 1 Axes>"
      ]
     },
     "metadata": {
      "needs_background": "light"
     },
     "output_type": "display_data"
    }
   ],
   "source": [
    "plt.figure(figsize=(16,8))\n",
    "plt.plot(np.sqrt(ts_test.reset_index(drop=True)[252:]), alpha=0.3, color='grey', label='Абс. доходность (в корне)')\n",
    "plt.plot(np.sqrt(test_fcst_g), label='GARCH предсказание')\n",
    "plt.plot(np.sqrt(test_fcst['GP']), label='ГП предсказание')\n",
    "plt.legend()"
   ]
  },
  {
   "cell_type": "code",
   "execution_count": 800,
   "metadata": {},
   "outputs": [
    {
     "name": "stdout",
     "output_type": "stream",
     "text": [
      "Работа с активом Акции Лукойл\n",
      "-----------------------------------\n",
      "Модель GARCH: посчитана 1 точка\n",
      "Модель GARCH: посчитана 501 точка\n",
      "Модель GARCH: посчитана 1001 точка\n",
      "Модель GARCH: посчитана 1501 точка\n",
      "Модель GARCH: посчитана 2001 точка\n",
      "Модель GARCH: посчитана 2501 точка\n",
      "Модель GARCH: посчитана 3001 точка\n",
      "Модель GARCH: посчитана 3501 точка\n",
      "Модель GARCH: посчитана 4001 точка\n",
      "Модель GARCH: посчитана 4501 точка\n",
      "Выполнено за 0:02:35.060187\n",
      "Модель GJR-GARCH: посчитана 1 точка\n",
      "Модель GJR-GARCH: посчитана 501 точка\n",
      "Модель GJR-GARCH: посчитана 1001 точка\n",
      "Модель GJR-GARCH: посчитана 1501 точка\n",
      "Модель GJR-GARCH: посчитана 2001 точка\n",
      "Модель GJR-GARCH: посчитана 2501 точка\n",
      "Модель GJR-GARCH: посчитана 3001 точка\n",
      "Модель GJR-GARCH: посчитана 3501 точка\n",
      "Модель GJR-GARCH: посчитана 4001 точка\n",
      "Модель GJR-GARCH: посчитана 4501 точка\n",
      "Выполнено за 0:02:51.630595\n",
      "Модель TARCH/ZARCH: посчитана 1 точка\n",
      "Модель TARCH/ZARCH: посчитана 501 точка\n",
      "Модель TARCH/ZARCH: посчитана 1001 точка\n",
      "Модель TARCH/ZARCH: посчитана 1501 точка\n",
      "Модель TARCH/ZARCH: посчитана 2001 точка\n",
      "Модель TARCH/ZARCH: посчитана 2501 точка\n"
     ]
    },
    {
     "name": "stderr",
     "output_type": "stream",
     "text": [
      " C:\\Users\\Georgy\\Anaconda3\\lib\\site-packages\\arch\\univariate\\base.py:711: ConvergenceWarning:The optimizer returned code 8. The message is:\n",
      "Positive directional derivative for linesearch\n",
      "See scipy.optimize.fmin_slsqp for code meaning.\n",
      "\n",
      " C:\\Users\\Georgy\\Anaconda3\\lib\\site-packages\\arch\\univariate\\base.py:711: ConvergenceWarning:The optimizer returned code 8. The message is:\n",
      "Positive directional derivative for linesearch\n",
      "See scipy.optimize.fmin_slsqp for code meaning.\n",
      "\n"
     ]
    },
    {
     "name": "stdout",
     "output_type": "stream",
     "text": [
      "Модель TARCH/ZARCH: посчитана 3001 точка\n",
      "Модель TARCH/ZARCH: посчитана 3501 точка\n",
      "Модель TARCH/ZARCH: посчитана 4001 точка\n"
     ]
    },
    {
     "name": "stderr",
     "output_type": "stream",
     "text": [
      " C:\\Users\\Georgy\\Anaconda3\\lib\\site-packages\\arch\\univariate\\base.py:711: ConvergenceWarning:The optimizer returned code 8. The message is:\n",
      "Positive directional derivative for linesearch\n",
      "See scipy.optimize.fmin_slsqp for code meaning.\n",
      "\n"
     ]
    },
    {
     "name": "stdout",
     "output_type": "stream",
     "text": [
      "Модель TARCH/ZARCH: посчитана 4501 точка\n",
      "Выполнено за 0:03:07.226436\n",
      "Модель GP (rbf): посчитана 1 точка\n",
      "Модель GP (rbf): посчитана 501 точка\n",
      "Модель GP (rbf): посчитана 1001 точка\n",
      "Модель GP (rbf): посчитана 1501 точка\n",
      "Модель GP (rbf): посчитана 2001 точка\n",
      "Модель GP (rbf): посчитана 2501 точка\n",
      "Модель GP (rbf): посчитана 3001 точка\n",
      "Модель GP (rbf): посчитана 3501 точка\n",
      "Модель GP (rbf): посчитана 4001 точка\n",
      "Модель GP (rbf): посчитана 4501 точка\n",
      "Выполнено за 0:14:20.195391\n",
      "Модель GP (Mat52): посчитана 1 точка\n",
      "Модель GP (Mat52): посчитана 501 точка\n",
      "Модель GP (Mat52): посчитана 1001 точка\n",
      "Модель GP (Mat52): посчитана 1501 точка\n",
      "Модель GP (Mat52): посчитана 2001 точка\n",
      "Модель GP (Mat52): посчитана 2501 точка\n",
      "Модель GP (Mat52): посчитана 3001 точка\n",
      "Модель GP (Mat52): посчитана 3501 точка\n",
      "Модель GP (Mat52): посчитана 4001 точка\n",
      "Модель GP (Mat52): посчитана 4501 точка\n",
      "Выполнено за 0:15:54.937703\n",
      "\"Наивная\" модель. Выполнено за 0:00:00.006015\n",
      "Работа с активом Акции Мегафон\n",
      "-----------------------------------\n",
      "Модель GARCH: посчитана 1 точка\n",
      "Модель GARCH: посчитана 501 точка\n",
      "Модель GARCH: посчитана 1001 точка\n",
      "Выполнено за 0:00:42.934846\n",
      "Модель GJR-GARCH: посчитана 1 точка\n",
      "Модель GJR-GARCH: посчитана 501 точка\n",
      "Модель GJR-GARCH: посчитана 1001 точка\n",
      "Выполнено за 0:00:50.965046\n",
      "Модель TARCH/ZARCH: посчитана 1 точка\n",
      "Модель TARCH/ZARCH: посчитана 501 точка\n",
      "Модель TARCH/ZARCH: посчитана 1001 точка\n",
      "Выполнено за 0:00:57.058393\n",
      "Модель GP (rbf): посчитана 1 точка\n",
      "Модель GP (rbf): посчитана 501 точка\n",
      "Модель GP (rbf): посчитана 1001 точка\n",
      "Выполнено за 0:04:10.473269\n",
      "Модель GP (Mat52): посчитана 1 точка\n",
      "Модель GP (Mat52): посчитана 501 точка\n",
      "Модель GP (Mat52): посчитана 1001 точка\n",
      "Выполнено за 0:04:30.302242\n",
      "\"Наивная\" модель. Выполнено за 0:00:00.002992\n",
      "Работа с активом Акции МТС\n",
      "-----------------------------------\n",
      "Модель GARCH: посчитана 1 точка\n",
      "Модель GARCH: посчитана 501 точка\n",
      "Модель GARCH: посчитана 1001 точка\n",
      "Модель GARCH: посчитана 1501 точка\n"
     ]
    },
    {
     "name": "stderr",
     "output_type": "stream",
     "text": [
      " C:\\Users\\Georgy\\Anaconda3\\lib\\site-packages\\arch\\univariate\\base.py:711: ConvergenceWarning:The optimizer returned code 8. The message is:\n",
      "Positive directional derivative for linesearch\n",
      "See scipy.optimize.fmin_slsqp for code meaning.\n",
      "\n",
      " C:\\Users\\Georgy\\Anaconda3\\lib\\site-packages\\arch\\univariate\\base.py:711: ConvergenceWarning:The optimizer returned code 8. The message is:\n",
      "Positive directional derivative for linesearch\n",
      "See scipy.optimize.fmin_slsqp for code meaning.\n",
      "\n",
      " C:\\Users\\Georgy\\Anaconda3\\lib\\site-packages\\arch\\univariate\\base.py:711: ConvergenceWarning:The optimizer returned code 8. The message is:\n",
      "Positive directional derivative for linesearch\n",
      "See scipy.optimize.fmin_slsqp for code meaning.\n",
      "\n",
      " C:\\Users\\Georgy\\Anaconda3\\lib\\site-packages\\arch\\univariate\\base.py:711: ConvergenceWarning:The optimizer returned code 8. The message is:\n",
      "Positive directional derivative for linesearch\n",
      "See scipy.optimize.fmin_slsqp for code meaning.\n",
      "\n",
      " C:\\Users\\Georgy\\Anaconda3\\lib\\site-packages\\arch\\univariate\\base.py:711: ConvergenceWarning:The optimizer returned code 8. The message is:\n",
      "Positive directional derivative for linesearch\n",
      "See scipy.optimize.fmin_slsqp for code meaning.\n",
      "\n",
      " C:\\Users\\Georgy\\Anaconda3\\lib\\site-packages\\arch\\univariate\\base.py:711: ConvergenceWarning:The optimizer returned code 8. The message is:\n",
      "Positive directional derivative for linesearch\n",
      "See scipy.optimize.fmin_slsqp for code meaning.\n",
      "\n"
     ]
    },
    {
     "name": "stdout",
     "output_type": "stream",
     "text": [
      "Модель GARCH: посчитана 2001 точка\n",
      "Модель GARCH: посчитана 2501 точка\n",
      "Модель GARCH: посчитана 3001 точка\n",
      "Модель GARCH: посчитана 3501 точка\n",
      "Выполнено за 0:01:53.935339\n",
      "Модель GJR-GARCH: посчитана 1 точка\n",
      "Модель GJR-GARCH: посчитана 501 точка\n",
      "Модель GJR-GARCH: посчитана 1001 точка\n",
      "Модель GJR-GARCH: посчитана 1501 точка\n",
      "Модель GJR-GARCH: посчитана 2001 точка\n",
      "Модель GJR-GARCH: посчитана 2501 точка\n",
      "Модель GJR-GARCH: посчитана 3001 точка\n"
     ]
    },
    {
     "name": "stderr",
     "output_type": "stream",
     "text": [
      " C:\\Users\\Georgy\\Anaconda3\\lib\\site-packages\\arch\\univariate\\base.py:711: ConvergenceWarning:The optimizer returned code 8. The message is:\n",
      "Positive directional derivative for linesearch\n",
      "See scipy.optimize.fmin_slsqp for code meaning.\n",
      "\n",
      " C:\\Users\\Georgy\\Anaconda3\\lib\\site-packages\\arch\\univariate\\base.py:711: ConvergenceWarning:The optimizer returned code 8. The message is:\n",
      "Positive directional derivative for linesearch\n",
      "See scipy.optimize.fmin_slsqp for code meaning.\n",
      "\n",
      " C:\\Users\\Georgy\\Anaconda3\\lib\\site-packages\\arch\\univariate\\base.py:711: ConvergenceWarning:The optimizer returned code 8. The message is:\n",
      "Positive directional derivative for linesearch\n",
      "See scipy.optimize.fmin_slsqp for code meaning.\n",
      "\n"
     ]
    },
    {
     "name": "stdout",
     "output_type": "stream",
     "text": [
      "Модель GJR-GARCH: посчитана 3501 точка\n",
      "Выполнено за 0:02:16.126643\n",
      "Модель TARCH/ZARCH: посчитана 1 точка\n",
      "Модель TARCH/ZARCH: посчитана 501 точка\n",
      "Модель TARCH/ZARCH: посчитана 1001 точка\n"
     ]
    },
    {
     "name": "stderr",
     "output_type": "stream",
     "text": [
      " C:\\Users\\Georgy\\Anaconda3\\lib\\site-packages\\arch\\univariate\\base.py:711: ConvergenceWarning:The optimizer returned code 8. The message is:\n",
      "Positive directional derivative for linesearch\n",
      "See scipy.optimize.fmin_slsqp for code meaning.\n",
      "\n",
      " C:\\Users\\Georgy\\Anaconda3\\lib\\site-packages\\arch\\univariate\\base.py:711: ConvergenceWarning:The optimizer returned code 8. The message is:\n",
      "Positive directional derivative for linesearch\n",
      "See scipy.optimize.fmin_slsqp for code meaning.\n",
      "\n",
      " C:\\Users\\Georgy\\Anaconda3\\lib\\site-packages\\arch\\univariate\\base.py:711: ConvergenceWarning:The optimizer returned code 8. The message is:\n",
      "Positive directional derivative for linesearch\n",
      "See scipy.optimize.fmin_slsqp for code meaning.\n",
      "\n",
      " C:\\Users\\Georgy\\Anaconda3\\lib\\site-packages\\arch\\univariate\\base.py:711: ConvergenceWarning:The optimizer returned code 8. The message is:\n",
      "Positive directional derivative for linesearch\n",
      "See scipy.optimize.fmin_slsqp for code meaning.\n",
      "\n"
     ]
    },
    {
     "name": "stdout",
     "output_type": "stream",
     "text": [
      "Модель TARCH/ZARCH: посчитана 1501 точка\n"
     ]
    },
    {
     "name": "stderr",
     "output_type": "stream",
     "text": [
      " C:\\Users\\Georgy\\Anaconda3\\lib\\site-packages\\arch\\univariate\\base.py:711: ConvergenceWarning:The optimizer returned code 8. The message is:\n",
      "Positive directional derivative for linesearch\n",
      "See scipy.optimize.fmin_slsqp for code meaning.\n",
      "\n",
      " C:\\Users\\Georgy\\Anaconda3\\lib\\site-packages\\arch\\univariate\\base.py:711: ConvergenceWarning:The optimizer returned code 8. The message is:\n",
      "Positive directional derivative for linesearch\n",
      "See scipy.optimize.fmin_slsqp for code meaning.\n",
      "\n",
      " C:\\Users\\Georgy\\Anaconda3\\lib\\site-packages\\arch\\univariate\\base.py:711: ConvergenceWarning:The optimizer returned code 8. The message is:\n",
      "Positive directional derivative for linesearch\n",
      "See scipy.optimize.fmin_slsqp for code meaning.\n",
      "\n"
     ]
    },
    {
     "name": "stdout",
     "output_type": "stream",
     "text": [
      "Модель TARCH/ZARCH: посчитана 2001 точка\n",
      "Модель TARCH/ZARCH: посчитана 2501 точка\n",
      "Модель TARCH/ZARCH: посчитана 3001 точка\n",
      "Модель TARCH/ZARCH: посчитана 3501 точка\n",
      "Выполнено за 0:02:45.787286\n",
      "Модель GP (rbf): посчитана 1 точка\n",
      "Модель GP (rbf): посчитана 501 точка\n",
      "Модель GP (rbf): посчитана 1001 точка\n",
      "Модель GP (rbf): посчитана 1501 точка\n",
      "Модель GP (rbf): посчитана 2001 точка\n",
      "Модель GP (rbf): посчитана 2501 точка\n",
      "Модель GP (rbf): посчитана 3001 точка\n",
      "Модель GP (rbf): посчитана 3501 точка\n",
      "Выполнено за 0:11:54.264192\n",
      "Модель GP (Mat52): посчитана 1 точка\n",
      "Модель GP (Mat52): посчитана 501 точка\n",
      "Модель GP (Mat52): посчитана 1001 точка\n",
      "Модель GP (Mat52): посчитана 1501 точка\n",
      "Модель GP (Mat52): посчитана 2001 точка\n",
      "Модель GP (Mat52): посчитана 2501 точка\n",
      "Модель GP (Mat52): посчитана 3001 точка\n",
      "Модель GP (Mat52): посчитана 3501 точка\n",
      "Выполнено за 0:13:33.469623\n",
      "\"Наивная\" модель. Выполнено за 0:00:00.005985\n",
      "Работа с активом Акции НЛМК\n",
      "-----------------------------------\n",
      "Модель GARCH: посчитана 1 точка\n",
      "Модель GARCH: посчитана 501 точка\n",
      "Модель GARCH: посчитана 1001 точка\n",
      "Модель GARCH: посчитана 1501 точка\n",
      "Модель GARCH: посчитана 2001 точка\n",
      "Модель GARCH: посчитана 2501 точка\n",
      "Модель GARCH: посчитана 3001 точка\n",
      "Выполнено за 0:01:39.030745\n",
      "Модель GJR-GARCH: посчитана 1 точка\n"
     ]
    },
    {
     "name": "stderr",
     "output_type": "stream",
     "text": [
      " C:\\Users\\Georgy\\Anaconda3\\lib\\site-packages\\arch\\univariate\\base.py:711: ConvergenceWarning:The optimizer returned code 8. The message is:\n",
      "Positive directional derivative for linesearch\n",
      "See scipy.optimize.fmin_slsqp for code meaning.\n",
      "\n"
     ]
    },
    {
     "name": "stdout",
     "output_type": "stream",
     "text": [
      "Модель GJR-GARCH: посчитана 501 точка\n",
      "Модель GJR-GARCH: посчитана 1001 точка\n",
      "Модель GJR-GARCH: посчитана 1501 точка\n",
      "Модель GJR-GARCH: посчитана 2001 точка\n",
      "Модель GJR-GARCH: посчитана 2501 точка\n",
      "Модель GJR-GARCH: посчитана 3001 точка\n",
      "Выполнено за 0:01:58.389456\n",
      "Модель TARCH/ZARCH: посчитана 1 точка\n",
      "Модель TARCH/ZARCH: посчитана 501 точка\n",
      "Модель TARCH/ZARCH: посчитана 1001 точка\n",
      "Модель TARCH/ZARCH: посчитана 1501 точка\n",
      "Модель TARCH/ZARCH: посчитана 2001 точка\n",
      "Модель TARCH/ZARCH: посчитана 2501 точка\n",
      "Модель TARCH/ZARCH: посчитана 3001 точка\n",
      "Выполнено за 0:02:05.588914\n",
      "Модель GP (rbf): посчитана 1 точка\n",
      "Модель GP (rbf): посчитана 501 точка\n",
      "Модель GP (rbf): посчитана 1001 точка\n",
      "Модель GP (rbf): посчитана 1501 точка\n",
      "Модель GP (rbf): посчитана 2001 точка\n",
      "Модель GP (rbf): посчитана 2501 точка\n",
      "Модель GP (rbf): посчитана 3001 точка\n",
      "Выполнено за 0:09:04.173747\n",
      "Модель GP (Mat52): посчитана 1 точка\n",
      "Модель GP (Mat52): посчитана 501 точка\n",
      "Модель GP (Mat52): посчитана 1001 точка\n",
      "Модель GP (Mat52): посчитана 1501 точка\n",
      "Модель GP (Mat52): посчитана 2001 точка\n",
      "Модель GP (Mat52): посчитана 2501 точка\n",
      "Модель GP (Mat52): посчитана 3001 точка\n",
      "Выполнено за 0:09:18.806398\n",
      "\"Наивная\" модель. Выполнено за 0:00:00.004028\n",
      "Работа с активом Акции Норильский Никель\n",
      "-----------------------------------\n",
      "Модель GARCH: посчитана 1 точка\n",
      "Модель GARCH: посчитана 501 точка\n",
      "Модель GARCH: посчитана 1001 точка\n",
      "Модель GARCH: посчитана 1501 точка\n",
      "Модель GARCH: посчитана 2001 точка\n",
      "Модель GARCH: посчитана 2501 точка\n",
      "Модель GARCH: посчитана 3001 точка\n",
      "Модель GARCH: посчитана 3501 точка\n"
     ]
    },
    {
     "name": "stderr",
     "output_type": "stream",
     "text": [
      " C:\\Users\\Georgy\\Anaconda3\\lib\\site-packages\\arch\\univariate\\base.py:711: ConvergenceWarning:The optimizer returned code 8. The message is:\n",
      "Positive directional derivative for linesearch\n",
      "See scipy.optimize.fmin_slsqp for code meaning.\n",
      "\n"
     ]
    },
    {
     "name": "stdout",
     "output_type": "stream",
     "text": [
      "Модель GARCH: посчитана 4001 точка\n",
      "Выполнено за 0:02:03.985040\n",
      "Модель GJR-GARCH: посчитана 1 точка\n",
      "Модель GJR-GARCH: посчитана 501 точка\n",
      "Модель GJR-GARCH: посчитана 1001 точка\n",
      "Модель GJR-GARCH: посчитана 1501 точка\n",
      "Модель GJR-GARCH: посчитана 2001 точка\n",
      "Модель GJR-GARCH: посчитана 2501 точка\n",
      "Модель GJR-GARCH: посчитана 3001 точка\n",
      "Модель GJR-GARCH: посчитана 3501 точка\n"
     ]
    },
    {
     "name": "stderr",
     "output_type": "stream",
     "text": [
      " C:\\Users\\Georgy\\Anaconda3\\lib\\site-packages\\arch\\univariate\\base.py:711: ConvergenceWarning:The optimizer returned code 8. The message is:\n",
      "Positive directional derivative for linesearch\n",
      "See scipy.optimize.fmin_slsqp for code meaning.\n",
      "\n"
     ]
    },
    {
     "name": "stdout",
     "output_type": "stream",
     "text": [
      "Модель GJR-GARCH: посчитана 4001 точка\n",
      "Выполнено за 0:02:29.447482\n",
      "Модель TARCH/ZARCH: посчитана 1 точка\n",
      "Модель TARCH/ZARCH: посчитана 501 точка\n"
     ]
    },
    {
     "name": "stderr",
     "output_type": "stream",
     "text": [
      " C:\\Users\\Georgy\\Anaconda3\\lib\\site-packages\\arch\\univariate\\base.py:711: ConvergenceWarning:The optimizer returned code 8. The message is:\n",
      "Positive directional derivative for linesearch\n",
      "See scipy.optimize.fmin_slsqp for code meaning.\n",
      "\n"
     ]
    },
    {
     "name": "stdout",
     "output_type": "stream",
     "text": [
      "Модель TARCH/ZARCH: посчитана 1001 точка\n",
      "Модель TARCH/ZARCH: посчитана 1501 точка\n",
      "Модель TARCH/ZARCH: посчитана 2001 точка\n",
      "Модель TARCH/ZARCH: посчитана 2501 точка\n",
      "Модель TARCH/ZARCH: посчитана 3001 точка\n",
      "Модель TARCH/ZARCH: посчитана 3501 точка\n",
      "Модель TARCH/ZARCH: посчитана 4001 точка\n",
      "Выполнено за 0:02:40.559966\n",
      "Модель GP (rbf): посчитана 1 точка\n",
      "Модель GP (rbf): посчитана 501 точка\n",
      "Модель GP (rbf): посчитана 1001 точка\n",
      "Модель GP (rbf): посчитана 1501 точка\n",
      "Модель GP (rbf): посчитана 2001 точка\n",
      "Модель GP (rbf): посчитана 2501 точка\n",
      "Модель GP (rbf): посчитана 3001 точка\n",
      "Модель GP (rbf): посчитана 3501 точка\n",
      "Модель GP (rbf): посчитана 4001 точка\n",
      "Выполнено за 0:12:05.873909\n",
      "Модель GP (Mat52): посчитана 1 точка\n",
      "Модель GP (Mat52): посчитана 501 точка\n",
      "Модель GP (Mat52): посчитана 1001 точка\n",
      "Модель GP (Mat52): посчитана 1501 точка\n",
      "Модель GP (Mat52): посчитана 2001 точка\n",
      "Модель GP (Mat52): посчитана 2501 точка\n",
      "Модель GP (Mat52): посчитана 3001 точка\n",
      "Модель GP (Mat52): посчитана 3501 точка\n",
      "Модель GP (Mat52): посчитана 4001 точка\n",
      "Выполнено за 0:12:51.455745\n",
      "\"Наивная\" модель. Выполнено за 0:00:00.004985\n",
      "Работа с активом Акции Северсталь\n",
      "-----------------------------------\n",
      "Модель GARCH: посчитана 1 точка\n"
     ]
    },
    {
     "name": "stderr",
     "output_type": "stream",
     "text": [
      " C:\\Users\\Georgy\\Anaconda3\\lib\\site-packages\\arch\\univariate\\base.py:711: ConvergenceWarning:The optimizer returned code 8. The message is:\n",
      "Positive directional derivative for linesearch\n",
      "See scipy.optimize.fmin_slsqp for code meaning.\n",
      "\n"
     ]
    },
    {
     "name": "stdout",
     "output_type": "stream",
     "text": [
      "Модель GARCH: посчитана 501 точка\n",
      "Модель GARCH: посчитана 1001 точка\n",
      "Модель GARCH: посчитана 1501 точка\n",
      "Модель GARCH: посчитана 2001 точка\n",
      "Модель GARCH: посчитана 2501 точка\n",
      "Модель GARCH: посчитана 3001 точка\n",
      "Выполнено за 0:01:42.364258\n",
      "Модель GJR-GARCH: посчитана 1 точка\n"
     ]
    },
    {
     "name": "stderr",
     "output_type": "stream",
     "text": [
      " C:\\Users\\Georgy\\Anaconda3\\lib\\site-packages\\arch\\univariate\\base.py:711: ConvergenceWarning:The optimizer returned code 8. The message is:\n",
      "Positive directional derivative for linesearch\n",
      "See scipy.optimize.fmin_slsqp for code meaning.\n",
      "\n"
     ]
    },
    {
     "name": "stdout",
     "output_type": "stream",
     "text": [
      "Модель GJR-GARCH: посчитана 501 точка\n",
      "Модель GJR-GARCH: посчитана 1001 точка\n",
      "Модель GJR-GARCH: посчитана 1501 точка\n",
      "Модель GJR-GARCH: посчитана 2001 точка\n",
      "Модель GJR-GARCH: посчитана 2501 точка\n",
      "Модель GJR-GARCH: посчитана 3001 точка\n",
      "Выполнено за 0:01:59.972198\n",
      "Модель TARCH/ZARCH: посчитана 1 точка\n",
      "Модель TARCH/ZARCH: посчитана 501 точка\n",
      "Модель TARCH/ZARCH: посчитана 1001 точка\n",
      "Модель TARCH/ZARCH: посчитана 1501 точка\n",
      "Модель TARCH/ZARCH: посчитана 2001 точка\n",
      "Модель TARCH/ZARCH: посчитана 2501 точка\n",
      "Модель TARCH/ZARCH: посчитана 3001 точка\n",
      "Выполнено за 0:02:05.178907\n",
      "Модель GP (rbf): посчитана 1 точка\n",
      "Модель GP (rbf): посчитана 501 точка\n",
      "Модель GP (rbf): посчитана 1001 точка\n",
      "Модель GP (rbf): посчитана 1501 точка\n",
      "Модель GP (rbf): посчитана 2001 точка\n",
      "Модель GP (rbf): посчитана 2501 точка\n",
      "Модель GP (rbf): посчитана 3001 точка\n",
      "Выполнено за 0:09:36.493165\n",
      "Модель GP (Mat52): посчитана 1 точка\n",
      "Модель GP (Mat52): посчитана 501 точка\n",
      "Модель GP (Mat52): посчитана 1001 точка\n",
      "Модель GP (Mat52): посчитана 1501 точка\n",
      "Модель GP (Mat52): посчитана 2001 точка\n",
      "Модель GP (Mat52): посчитана 2501 точка\n",
      "Модель GP (Mat52): посчитана 3001 точка\n",
      "Выполнено за 0:10:05.939699\n",
      "\"Наивная\" модель. Выполнено за 0:00:00.004990\n"
     ]
    }
   ],
   "source": [
    "results_stocks={}\n",
    "for stock_name in stocks:\n",
    "    results_stocks[stock_name] = {}\n",
    "    ts = data[stock_name]['return']\n",
    "    ts = ts.reset_index(drop=True)\n",
    "    \n",
    "    ts_for_GP = data[stock_name]['return_abs']\n",
    "   \n",
    "    print('Работа с активом {}'.format(mapping[stock_name]))\n",
    "    print('-----------------------------------')\n",
    "    for garch_param in garch_param_dict:\n",
    "        results_stocks[stock_name][garch_param] = fixed_window_garch(ts, model_params=garch_param_dict[garch_param])\n",
    "    for GP_kernel in GP_kernel_dict:\n",
    "        results_stocks[stock_name][GP_kernel] = fixed_window_GP(ts_for_GP, kernel=GP_kernel_dict[GP_kernel])\n",
    "    results_stocks[stock_name]['naive'] = fixed_window_naive(ts_for_GP)\n",
    "        \n",
    "        "
   ]
  },
  {
   "cell_type": "code",
   "execution_count": 890,
   "metadata": {},
   "outputs": [
    {
     "name": "stdout",
     "output_type": "stream",
     "text": [
      "Работа с активом Индекс Bovespa\n",
      "-----------------------------------\n",
      "Модель GARCH: посчитана 1 точка\n",
      "Модель GARCH: посчитана 501 точка\n",
      "Модель GARCH: посчитана 1001 точка\n",
      "Модель GARCH: посчитана 1501 точка\n",
      "Модель GARCH: посчитана 2001 точка\n",
      "Модель GARCH: посчитана 2501 точка\n",
      "Модель GARCH: посчитана 3001 точка\n",
      "Модель GARCH: посчитана 3501 точка\n",
      "Модель GARCH: посчитана 4001 точка\n",
      "Выполнено за 0:02:11.748558\n",
      "Модель GJR-GARCH: посчитана 1 точка\n",
      "Модель GJR-GARCH: посчитана 501 точка\n"
     ]
    },
    {
     "name": "stderr",
     "output_type": "stream",
     "text": [
      " C:\\Users\\Georgy\\Anaconda3\\lib\\site-packages\\arch\\univariate\\base.py:711: ConvergenceWarning:The optimizer returned code 8. The message is:\n",
      "Positive directional derivative for linesearch\n",
      "See scipy.optimize.fmin_slsqp for code meaning.\n",
      "\n",
      " C:\\Users\\Georgy\\Anaconda3\\lib\\site-packages\\arch\\univariate\\base.py:711: ConvergenceWarning:The optimizer returned code 8. The message is:\n",
      "Positive directional derivative for linesearch\n",
      "See scipy.optimize.fmin_slsqp for code meaning.\n",
      "\n"
     ]
    },
    {
     "name": "stdout",
     "output_type": "stream",
     "text": [
      "Модель GJR-GARCH: посчитана 1001 точка\n",
      "Модель GJR-GARCH: посчитана 1501 точка\n",
      "Модель GJR-GARCH: посчитана 2001 точка\n",
      "Модель GJR-GARCH: посчитана 2501 точка\n",
      "Модель GJR-GARCH: посчитана 3001 точка\n",
      "Модель GJR-GARCH: посчитана 3501 точка\n",
      "Модель GJR-GARCH: посчитана 4001 точка\n",
      "Выполнено за 0:02:30.812715\n",
      "Модель TARCH/ZARCH: посчитана 1 точка\n",
      "Модель TARCH/ZARCH: посчитана 501 точка\n",
      "Модель TARCH/ZARCH: посчитана 1001 точка\n",
      "Модель TARCH/ZARCH: посчитана 1501 точка\n",
      "Модель TARCH/ZARCH: посчитана 2001 точка\n",
      "Модель TARCH/ZARCH: посчитана 2501 точка\n"
     ]
    },
    {
     "name": "stderr",
     "output_type": "stream",
     "text": [
      " C:\\Users\\Georgy\\Anaconda3\\lib\\site-packages\\arch\\univariate\\base.py:711: ConvergenceWarning:The optimizer returned code 8. The message is:\n",
      "Positive directional derivative for linesearch\n",
      "See scipy.optimize.fmin_slsqp for code meaning.\n",
      "\n"
     ]
    },
    {
     "name": "stdout",
     "output_type": "stream",
     "text": [
      "Модель TARCH/ZARCH: посчитана 3001 точка\n",
      "Модель TARCH/ZARCH: посчитана 3501 точка\n",
      "Модель TARCH/ZARCH: посчитана 4001 точка\n",
      "Выполнено за 0:02:47.176320\n",
      "Модель GP (rbf): посчитана 1 точка\n",
      "Модель GP (rbf): посчитана 501 точка\n",
      "Модель GP (rbf): посчитана 1001 точка\n",
      "Модель GP (rbf): посчитана 1501 точка\n",
      "Модель GP (rbf): посчитана 2001 точка\n",
      "Модель GP (rbf): посчитана 2501 точка\n",
      "Модель GP (rbf): посчитана 3001 точка\n",
      "Модель GP (rbf): посчитана 3501 точка\n",
      "Модель GP (rbf): посчитана 4001 точка\n",
      "Выполнено за 0:12:48.066151\n",
      "Модель GP (Mat52): посчитана 1 точка\n",
      "Модель GP (Mat52): посчитана 501 точка\n",
      "Модель GP (Mat52): посчитана 1001 точка\n",
      "Модель GP (Mat52): посчитана 1501 точка\n",
      "Модель GP (Mat52): посчитана 2001 точка\n",
      "Модель GP (Mat52): посчитана 2501 точка\n",
      "Модель GP (Mat52): посчитана 3001 точка\n",
      "Модель GP (Mat52): посчитана 3501 точка\n",
      "Модель GP (Mat52): посчитана 4001 точка\n",
      "Выполнено за 0:13:17.438858\n",
      "\"Наивная\" модель. Выполнено за 0:00:00.004951\n",
      "Работа с активом Индекс BSE SENSEX\n",
      "-----------------------------------\n",
      "Модель GARCH: посчитана 1 точка\n",
      "Модель GARCH: посчитана 501 точка\n",
      "Модель GARCH: посчитана 1001 точка\n"
     ]
    },
    {
     "name": "stderr",
     "output_type": "stream",
     "text": [
      " C:\\Users\\Georgy\\Anaconda3\\lib\\site-packages\\arch\\univariate\\base.py:711: ConvergenceWarning:The optimizer returned code 8. The message is:\n",
      "Positive directional derivative for linesearch\n",
      "See scipy.optimize.fmin_slsqp for code meaning.\n",
      "\n"
     ]
    },
    {
     "name": "stdout",
     "output_type": "stream",
     "text": [
      "Модель GARCH: посчитана 1501 точка\n",
      "Модель GARCH: посчитана 2001 точка\n",
      "Модель GARCH: посчитана 2501 точка\n",
      "Выполнено за 0:01:29.117044\n",
      "Модель GJR-GARCH: посчитана 1 точка\n"
     ]
    },
    {
     "name": "stderr",
     "output_type": "stream",
     "text": [
      " C:\\Users\\Georgy\\Anaconda3\\lib\\site-packages\\arch\\univariate\\base.py:711: ConvergenceWarning:The optimizer returned code 8. The message is:\n",
      "Positive directional derivative for linesearch\n",
      "See scipy.optimize.fmin_slsqp for code meaning.\n",
      "\n"
     ]
    },
    {
     "name": "stdout",
     "output_type": "stream",
     "text": [
      "Модель GJR-GARCH: посчитана 501 точка\n",
      "Модель GJR-GARCH: посчитана 1001 точка\n",
      "Модель GJR-GARCH: посчитана 1501 точка\n",
      "Модель GJR-GARCH: посчитана 2001 точка\n",
      "Модель GJR-GARCH: посчитана 2501 точка\n",
      "Выполнено за 0:01:37.950273\n",
      "Модель TARCH/ZARCH: посчитана 1 точка\n"
     ]
    },
    {
     "name": "stderr",
     "output_type": "stream",
     "text": [
      " C:\\Users\\Georgy\\Anaconda3\\lib\\site-packages\\arch\\univariate\\base.py:711: ConvergenceWarning:The optimizer returned code 8. The message is:\n",
      "Positive directional derivative for linesearch\n",
      "See scipy.optimize.fmin_slsqp for code meaning.\n",
      "\n"
     ]
    },
    {
     "name": "stdout",
     "output_type": "stream",
     "text": [
      "Модель TARCH/ZARCH: посчитана 501 точка\n",
      "Модель TARCH/ZARCH: посчитана 1001 точка\n",
      "Модель TARCH/ZARCH: посчитана 1501 точка\n",
      "Модель TARCH/ZARCH: посчитана 2001 точка\n",
      "Модель TARCH/ZARCH: посчитана 2501 точка\n",
      "Выполнено за 0:01:47.082184\n",
      "Модель GP (rbf): посчитана 1 точка\n",
      "Модель GP (rbf): посчитана 501 точка\n",
      "Модель GP (rbf): посчитана 1001 точка\n",
      "Модель GP (rbf): посчитана 1501 точка\n",
      "Модель GP (rbf): посчитана 2001 точка\n",
      "Модель GP (rbf): посчитана 2501 точка\n",
      "Выполнено за 0:09:15.433771\n",
      "Модель GP (Mat52): посчитана 1 точка\n",
      "Модель GP (Mat52): посчитана 501 точка\n",
      "Модель GP (Mat52): посчитана 1001 точка\n",
      "Модель GP (Mat52): посчитана 1501 точка\n",
      "Модель GP (Mat52): посчитана 2001 точка\n",
      "Модель GP (Mat52): посчитана 2501 точка\n",
      "Выполнено за 0:10:00.386658\n",
      "\"Наивная\" модель. Выполнено за 0:00:00.004986\n",
      "Работа с активом Индекс Московской Биржи\n",
      "-----------------------------------\n",
      "Модель GARCH: посчитана 1 точка\n",
      "Модель GARCH: посчитана 501 точка\n",
      "Модель GARCH: посчитана 1001 точка\n",
      "Модель GARCH: посчитана 1501 точка\n",
      "Модель GARCH: посчитана 2001 точка\n",
      "Модель GARCH: посчитана 2501 точка\n",
      "Модель GARCH: посчитана 3001 точка\n",
      "Модель GARCH: посчитана 3501 точка\n",
      "Модель GARCH: посчитана 4001 точка\n",
      "Модель GARCH: посчитана 4501 точка\n",
      "Выполнено за 0:02:21.640649\n",
      "Модель GJR-GARCH: посчитана 1 точка\n",
      "Модель GJR-GARCH: посчитана 501 точка\n",
      "Модель GJR-GARCH: посчитана 1001 точка\n",
      "Модель GJR-GARCH: посчитана 1501 точка\n",
      "Модель GJR-GARCH: посчитана 2001 точка\n",
      "Модель GJR-GARCH: посчитана 2501 точка\n",
      "Модель GJR-GARCH: посчитана 3001 точка\n",
      "Модель GJR-GARCH: посчитана 3501 точка\n",
      "Модель GJR-GARCH: посчитана 4001 точка\n"
     ]
    },
    {
     "name": "stderr",
     "output_type": "stream",
     "text": [
      " C:\\Users\\Georgy\\Anaconda3\\lib\\site-packages\\arch\\univariate\\base.py:711: ConvergenceWarning:The optimizer returned code 8. The message is:\n",
      "Positive directional derivative for linesearch\n",
      "See scipy.optimize.fmin_slsqp for code meaning.\n",
      "\n",
      " C:\\Users\\Georgy\\Anaconda3\\lib\\site-packages\\arch\\univariate\\base.py:711: ConvergenceWarning:The optimizer returned code 8. The message is:\n",
      "Positive directional derivative for linesearch\n",
      "See scipy.optimize.fmin_slsqp for code meaning.\n",
      "\n",
      " C:\\Users\\Georgy\\Anaconda3\\lib\\site-packages\\arch\\univariate\\base.py:711: ConvergenceWarning:The optimizer returned code 8. The message is:\n",
      "Positive directional derivative for linesearch\n",
      "See scipy.optimize.fmin_slsqp for code meaning.\n",
      "\n",
      " C:\\Users\\Georgy\\Anaconda3\\lib\\site-packages\\arch\\univariate\\base.py:711: ConvergenceWarning:The optimizer returned code 8. The message is:\n",
      "Positive directional derivative for linesearch\n",
      "See scipy.optimize.fmin_slsqp for code meaning.\n",
      "\n",
      " C:\\Users\\Georgy\\Anaconda3\\lib\\site-packages\\arch\\univariate\\base.py:711: ConvergenceWarning:The optimizer returned code 8. The message is:\n",
      "Positive directional derivative for linesearch\n",
      "See scipy.optimize.fmin_slsqp for code meaning.\n",
      "\n",
      " C:\\Users\\Georgy\\Anaconda3\\lib\\site-packages\\arch\\univariate\\base.py:711: ConvergenceWarning:The optimizer returned code 8. The message is:\n",
      "Positive directional derivative for linesearch\n",
      "See scipy.optimize.fmin_slsqp for code meaning.\n",
      "\n"
     ]
    },
    {
     "name": "stdout",
     "output_type": "stream",
     "text": [
      "Модель GJR-GARCH: посчитана 4501 точка\n",
      "Выполнено за 0:03:10.855391\n",
      "Модель TARCH/ZARCH: посчитана 1 точка\n",
      "Модель TARCH/ZARCH: посчитана 501 точка\n",
      "Модель TARCH/ZARCH: посчитана 1001 точка\n",
      "Модель TARCH/ZARCH: посчитана 1501 точка\n",
      "Модель TARCH/ZARCH: посчитана 2001 точка\n"
     ]
    },
    {
     "name": "stderr",
     "output_type": "stream",
     "text": [
      " C:\\Users\\Georgy\\Anaconda3\\lib\\site-packages\\arch\\univariate\\base.py:711: ConvergenceWarning:The optimizer returned code 8. The message is:\n",
      "Positive directional derivative for linesearch\n",
      "See scipy.optimize.fmin_slsqp for code meaning.\n",
      "\n"
     ]
    },
    {
     "name": "stdout",
     "output_type": "stream",
     "text": [
      "Модель TARCH/ZARCH: посчитана 2501 точка\n",
      "Модель TARCH/ZARCH: посчитана 3001 точка\n",
      "Модель TARCH/ZARCH: посчитана 3501 точка\n",
      "Модель TARCH/ZARCH: посчитана 4001 точка\n",
      "Модель TARCH/ZARCH: посчитана 4501 точка\n",
      "Выполнено за 0:03:14.619295\n",
      "Модель GP (rbf): посчитана 1 точка\n",
      "Модель GP (rbf): посчитана 501 точка\n",
      "Модель GP (rbf): посчитана 1001 точка\n",
      "Модель GP (rbf): посчитана 1501 точка\n",
      "Модель GP (rbf): посчитана 2001 точка\n",
      "Модель GP (rbf): посчитана 2501 точка\n",
      "Модель GP (rbf): посчитана 3001 точка\n",
      "Модель GP (rbf): посчитана 3501 точка\n",
      "Модель GP (rbf): посчитана 4001 точка\n",
      "Модель GP (rbf): посчитана 4501 точка\n",
      "Выполнено за 0:14:28.293022\n",
      "Модель GP (Mat52): посчитана 1 точка\n",
      "Модель GP (Mat52): посчитана 501 точка\n",
      "Модель GP (Mat52): посчитана 1001 точка\n",
      "Модель GP (Mat52): посчитана 1501 точка\n",
      "Модель GP (Mat52): посчитана 2001 точка\n",
      "Модель GP (Mat52): посчитана 2501 точка\n",
      "Модель GP (Mat52): посчитана 3001 точка\n",
      "Модель GP (Mat52): посчитана 3501 точка\n",
      "Модель GP (Mat52): посчитана 4001 точка\n",
      "Модель GP (Mat52): посчитана 4501 точка\n",
      "Выполнено за 0:15:25.311753\n",
      "\"Наивная\" модель. Выполнено за 0:00:00.008975\n",
      "Работа с активом Индекс Nikkei 225\n",
      "-----------------------------------\n",
      "Модель GARCH: посчитана 1 точка\n",
      "Модель GARCH: посчитана 501 точка\n",
      "Модель GARCH: посчитана 1001 точка\n",
      "Модель GARCH: посчитана 1501 точка\n",
      "Модель GARCH: посчитана 2001 точка\n",
      "Модель GARCH: посчитана 2501 точка\n"
     ]
    },
    {
     "name": "stderr",
     "output_type": "stream",
     "text": [
      " C:\\Users\\Georgy\\Anaconda3\\lib\\site-packages\\arch\\univariate\\base.py:711: ConvergenceWarning:The optimizer returned code 8. The message is:\n",
      "Positive directional derivative for linesearch\n",
      "See scipy.optimize.fmin_slsqp for code meaning.\n",
      "\n"
     ]
    },
    {
     "name": "stdout",
     "output_type": "stream",
     "text": [
      "Модель GARCH: посчитана 3001 точка\n",
      "Модель GARCH: посчитана 3501 точка\n",
      "Модель GARCH: посчитана 4001 точка\n",
      "Модель GARCH: посчитана 4501 точка\n",
      "Выполнено за 0:02:31.422673\n",
      "Модель GJR-GARCH: посчитана 1 точка\n",
      "Модель GJR-GARCH: посчитана 501 точка\n",
      "Модель GJR-GARCH: посчитана 1001 точка\n",
      "Модель GJR-GARCH: посчитана 1501 точка\n",
      "Модель GJR-GARCH: посчитана 2001 точка\n",
      "Модель GJR-GARCH: посчитана 2501 точка\n"
     ]
    },
    {
     "name": "stderr",
     "output_type": "stream",
     "text": [
      " C:\\Users\\Georgy\\Anaconda3\\lib\\site-packages\\arch\\univariate\\base.py:711: ConvergenceWarning:The optimizer returned code 8. The message is:\n",
      "Positive directional derivative for linesearch\n",
      "See scipy.optimize.fmin_slsqp for code meaning.\n",
      "\n",
      " C:\\Users\\Georgy\\Anaconda3\\lib\\site-packages\\arch\\univariate\\base.py:711: ConvergenceWarning:The optimizer returned code 8. The message is:\n",
      "Positive directional derivative for linesearch\n",
      "See scipy.optimize.fmin_slsqp for code meaning.\n",
      "\n",
      " C:\\Users\\Georgy\\Anaconda3\\lib\\site-packages\\arch\\univariate\\base.py:711: ConvergenceWarning:The optimizer returned code 8. The message is:\n",
      "Positive directional derivative for linesearch\n",
      "See scipy.optimize.fmin_slsqp for code meaning.\n",
      "\n",
      " C:\\Users\\Georgy\\Anaconda3\\lib\\site-packages\\arch\\univariate\\base.py:711: ConvergenceWarning:The optimizer returned code 8. The message is:\n",
      "Positive directional derivative for linesearch\n",
      "See scipy.optimize.fmin_slsqp for code meaning.\n",
      "\n",
      " C:\\Users\\Georgy\\Anaconda3\\lib\\site-packages\\arch\\univariate\\base.py:711: ConvergenceWarning:The optimizer returned code 8. The message is:\n",
      "Positive directional derivative for linesearch\n",
      "See scipy.optimize.fmin_slsqp for code meaning.\n",
      "\n",
      " C:\\Users\\Georgy\\Anaconda3\\lib\\site-packages\\arch\\univariate\\base.py:711: ConvergenceWarning:The optimizer returned code 8. The message is:\n",
      "Positive directional derivative for linesearch\n",
      "See scipy.optimize.fmin_slsqp for code meaning.\n",
      "\n",
      " C:\\Users\\Georgy\\Anaconda3\\lib\\site-packages\\arch\\univariate\\base.py:711: ConvergenceWarning:The optimizer returned code 8. The message is:\n",
      "Positive directional derivative for linesearch\n",
      "See scipy.optimize.fmin_slsqp for code meaning.\n",
      "\n"
     ]
    },
    {
     "name": "stdout",
     "output_type": "stream",
     "text": [
      "Модель GJR-GARCH: посчитана 3001 точка\n",
      "Модель GJR-GARCH: посчитана 3501 точка\n",
      "Модель GJR-GARCH: посчитана 4001 точка\n",
      "Модель GJR-GARCH: посчитана 4501 точка\n",
      "Выполнено за 0:02:50.919346\n",
      "Модель TARCH/ZARCH: посчитана 1 точка\n",
      "Модель TARCH/ZARCH: посчитана 501 точка\n",
      "Модель TARCH/ZARCH: посчитана 1001 точка\n",
      "Модель TARCH/ZARCH: посчитана 1501 точка\n",
      "Модель TARCH/ZARCH: посчитана 2001 точка\n",
      "Модель TARCH/ZARCH: посчитана 2501 точка\n"
     ]
    },
    {
     "name": "stderr",
     "output_type": "stream",
     "text": [
      " C:\\Users\\Georgy\\Anaconda3\\lib\\site-packages\\arch\\univariate\\base.py:711: ConvergenceWarning:The optimizer returned code 8. The message is:\n",
      "Positive directional derivative for linesearch\n",
      "See scipy.optimize.fmin_slsqp for code meaning.\n",
      "\n"
     ]
    },
    {
     "name": "stdout",
     "output_type": "stream",
     "text": [
      "Модель TARCH/ZARCH: посчитана 3001 точка\n",
      "Модель TARCH/ZARCH: посчитана 3501 точка\n",
      "Модель TARCH/ZARCH: посчитана 4001 точка\n",
      "Модель TARCH/ZARCH: посчитана 4501 точка\n",
      "Выполнено за 0:02:56.187917\n",
      "Модель GP (rbf): посчитана 1 точка\n",
      "Модель GP (rbf): посчитана 501 точка\n",
      "Модель GP (rbf): посчитана 1001 точка\n",
      "Модель GP (rbf): посчитана 1501 точка\n",
      "Модель GP (rbf): посчитана 2001 точка\n",
      "Модель GP (rbf): посчитана 2501 точка\n",
      "Модель GP (rbf): посчитана 3001 точка\n",
      "Модель GP (rbf): посчитана 3501 точка\n",
      "Модель GP (rbf): посчитана 4001 точка\n",
      "Модель GP (rbf): посчитана 4501 точка\n",
      "Выполнено за 0:14:06.198207\n",
      "Модель GP (Mat52): посчитана 1 точка\n",
      "Модель GP (Mat52): посчитана 501 точка\n",
      "Модель GP (Mat52): посчитана 1001 точка\n",
      "Модель GP (Mat52): посчитана 1501 точка\n",
      "Модель GP (Mat52): посчитана 2001 точка\n",
      "Модель GP (Mat52): посчитана 2501 точка\n",
      "Модель GP (Mat52): посчитана 3001 точка\n",
      "Модель GP (Mat52): посчитана 3501 точка\n",
      "Модель GP (Mat52): посчитана 4001 точка\n",
      "Модель GP (Mat52): посчитана 4501 точка\n",
      "Выполнено за 0:14:36.960404\n",
      "\"Наивная\" модель. Выполнено за 0:00:00.006980\n",
      "Работа с активом Индекс NASDAQ Composite\n",
      "-----------------------------------\n",
      "Модель GARCH: посчитана 1 точка\n",
      "Модель GARCH: посчитана 501 точка\n",
      "Модель GARCH: посчитана 1001 точка\n",
      "Модель GARCH: посчитана 1501 точка\n",
      "Модель GARCH: посчитана 2001 точка\n"
     ]
    },
    {
     "name": "stderr",
     "output_type": "stream",
     "text": [
      " C:\\Users\\Georgy\\Anaconda3\\lib\\site-packages\\arch\\univariate\\base.py:711: ConvergenceWarning:The optimizer returned code 8. The message is:\n",
      "Positive directional derivative for linesearch\n",
      "See scipy.optimize.fmin_slsqp for code meaning.\n",
      "\n"
     ]
    },
    {
     "name": "stdout",
     "output_type": "stream",
     "text": [
      "Модель GARCH: посчитана 2501 точка\n",
      "Модель GARCH: посчитана 3001 точка\n",
      "Модель GARCH: посчитана 3501 точка\n",
      "Модель GARCH: посчитана 4001 точка\n",
      "Модель GARCH: посчитана 4501 точка\n",
      "Выполнено за 0:02:17.116783\n",
      "Модель GJR-GARCH: посчитана 1 точка\n",
      "Модель GJR-GARCH: посчитана 501 точка\n",
      "Модель GJR-GARCH: посчитана 1001 точка\n",
      "Модель GJR-GARCH: посчитана 1501 точка\n",
      "Модель GJR-GARCH: посчитана 2001 точка\n",
      "Модель GJR-GARCH: посчитана 2501 точка\n",
      "Модель GJR-GARCH: посчитана 3001 точка\n",
      "Модель GJR-GARCH: посчитана 3501 точка\n",
      "Модель GJR-GARCH: посчитана 4001 точка\n",
      "Модель GJR-GARCH: посчитана 4501 точка\n",
      "Выполнено за 0:02:49.460265\n",
      "Модель TARCH/ZARCH: посчитана 1 точка\n",
      "Модель TARCH/ZARCH: посчитана 501 точка\n",
      "Модель TARCH/ZARCH: посчитана 1001 точка\n",
      "Модель TARCH/ZARCH: посчитана 1501 точка\n",
      "Модель TARCH/ZARCH: посчитана 2001 точка\n",
      "Модель TARCH/ZARCH: посчитана 2501 точка\n",
      "Модель TARCH/ZARCH: посчитана 3001 точка\n",
      "Модель TARCH/ZARCH: посчитана 3501 точка\n",
      "Модель TARCH/ZARCH: посчитана 4001 точка\n",
      "Модель TARCH/ZARCH: посчитана 4501 точка\n",
      "Выполнено за 0:03:33.852697\n",
      "Модель GP (rbf): посчитана 1 точка\n",
      "Модель GP (rbf): посчитана 501 точка\n",
      "Модель GP (rbf): посчитана 1001 точка\n",
      "Модель GP (rbf): посчитана 1501 точка\n",
      "Модель GP (rbf): посчитана 2001 точка\n",
      "Модель GP (rbf): посчитана 2501 точка\n",
      "Модель GP (rbf): посчитана 3001 точка\n",
      "Модель GP (rbf): посчитана 3501 точка\n",
      "Модель GP (rbf): посчитана 4001 точка\n",
      "Модель GP (rbf): посчитана 4501 точка\n",
      "Выполнено за 0:16:01.337692\n",
      "Модель GP (Mat52): посчитана 1 точка\n",
      "Модель GP (Mat52): посчитана 501 точка\n",
      "Модель GP (Mat52): посчитана 1001 точка\n",
      "Модель GP (Mat52): посчитана 1501 точка\n",
      "Модель GP (Mat52): посчитана 2001 точка\n",
      "Модель GP (Mat52): посчитана 2501 точка\n",
      "Модель GP (Mat52): посчитана 3001 точка\n",
      "Модель GP (Mat52): посчитана 3501 точка\n",
      "Модель GP (Mat52): посчитана 4001 точка\n",
      "Модель GP (Mat52): посчитана 4501 точка\n",
      "Выполнено за 0:16:00.356706\n",
      "\"Наивная\" модель. Выполнено за 0:00:00.006019\n",
      "Работа с активом Индекс PTC\n",
      "-----------------------------------\n",
      "Модель GARCH: посчитана 1 точка\n",
      "Модель GARCH: посчитана 501 точка\n",
      "Модель GARCH: посчитана 1001 точка\n",
      "Модель GARCH: посчитана 1501 точка\n",
      "Модель GARCH: посчитана 2001 точка\n",
      "Модель GARCH: посчитана 2501 точка\n",
      "Модель GARCH: посчитана 3001 точка\n",
      "Модель GARCH: посчитана 3501 точка\n",
      "Модель GARCH: посчитана 4001 точка\n"
     ]
    },
    {
     "name": "stderr",
     "output_type": "stream",
     "text": [
      " C:\\Users\\Georgy\\Anaconda3\\lib\\site-packages\\arch\\univariate\\base.py:711: ConvergenceWarning:The optimizer returned code 8. The message is:\n",
      "Positive directional derivative for linesearch\n",
      "See scipy.optimize.fmin_slsqp for code meaning.\n",
      "\n",
      " C:\\Users\\Georgy\\Anaconda3\\lib\\site-packages\\arch\\univariate\\base.py:711: ConvergenceWarning:The optimizer returned code 8. The message is:\n",
      "Positive directional derivative for linesearch\n",
      "See scipy.optimize.fmin_slsqp for code meaning.\n",
      "\n",
      " C:\\Users\\Georgy\\Anaconda3\\lib\\site-packages\\arch\\univariate\\base.py:711: ConvergenceWarning:The optimizer returned code 8. The message is:\n",
      "Positive directional derivative for linesearch\n",
      "See scipy.optimize.fmin_slsqp for code meaning.\n",
      "\n",
      " C:\\Users\\Georgy\\Anaconda3\\lib\\site-packages\\arch\\univariate\\base.py:711: ConvergenceWarning:The optimizer returned code 8. The message is:\n",
      "Positive directional derivative for linesearch\n",
      "See scipy.optimize.fmin_slsqp for code meaning.\n",
      "\n"
     ]
    },
    {
     "name": "stdout",
     "output_type": "stream",
     "text": [
      "Модель GARCH: посчитана 4501 точка\n",
      "Выполнено за 0:03:19.253995\n",
      "Модель GJR-GARCH: посчитана 1 точка\n",
      "Модель GJR-GARCH: посчитана 501 точка\n",
      "Модель GJR-GARCH: посчитана 1001 точка\n",
      "Модель GJR-GARCH: посчитана 1501 точка\n",
      "Модель GJR-GARCH: посчитана 2001 точка\n"
     ]
    },
    {
     "name": "stderr",
     "output_type": "stream",
     "text": [
      " C:\\Users\\Georgy\\Anaconda3\\lib\\site-packages\\arch\\univariate\\base.py:711: ConvergenceWarning:The optimizer returned code 4. The message is:\n",
      "Inequality constraints incompatible\n",
      "See scipy.optimize.fmin_slsqp for code meaning.\n",
      "\n"
     ]
    },
    {
     "name": "stdout",
     "output_type": "stream",
     "text": [
      "Модель GJR-GARCH: посчитана 2501 точка\n",
      "Модель GJR-GARCH: посчитана 3001 точка\n",
      "Модель GJR-GARCH: посчитана 3501 точка\n",
      "Модель GJR-GARCH: посчитана 4001 точка\n"
     ]
    },
    {
     "name": "stderr",
     "output_type": "stream",
     "text": [
      " C:\\Users\\Georgy\\Anaconda3\\lib\\site-packages\\arch\\univariate\\base.py:711: ConvergenceWarning:The optimizer returned code 8. The message is:\n",
      "Positive directional derivative for linesearch\n",
      "See scipy.optimize.fmin_slsqp for code meaning.\n",
      "\n",
      " C:\\Users\\Georgy\\Anaconda3\\lib\\site-packages\\arch\\univariate\\base.py:711: ConvergenceWarning:The optimizer returned code 8. The message is:\n",
      "Positive directional derivative for linesearch\n",
      "See scipy.optimize.fmin_slsqp for code meaning.\n",
      "\n",
      " C:\\Users\\Georgy\\Anaconda3\\lib\\site-packages\\arch\\univariate\\base.py:711: ConvergenceWarning:The optimizer returned code 8. The message is:\n",
      "Positive directional derivative for linesearch\n",
      "See scipy.optimize.fmin_slsqp for code meaning.\n",
      "\n"
     ]
    },
    {
     "name": "stdout",
     "output_type": "stream",
     "text": [
      "Модель GJR-GARCH: посчитана 4501 точка\n",
      "Выполнено за 0:02:39.945978\n",
      "Модель TARCH/ZARCH: посчитана 1 точка\n",
      "Модель TARCH/ZARCH: посчитана 501 точка\n",
      "Модель TARCH/ZARCH: посчитана 1001 точка\n",
      "Модель TARCH/ZARCH: посчитана 1501 точка\n",
      "Модель TARCH/ZARCH: посчитана 2001 точка\n",
      "Модель TARCH/ZARCH: посчитана 2501 точка\n",
      "Модель TARCH/ZARCH: посчитана 3001 точка\n",
      "Модель TARCH/ZARCH: посчитана 3501 точка\n",
      "Модель TARCH/ZARCH: посчитана 4001 точка\n",
      "Модель TARCH/ZARCH: посчитана 4501 точка\n",
      "Выполнено за 0:02:47.683006\n",
      "Модель GP (rbf): посчитана 1 точка\n",
      "Модель GP (rbf): посчитана 501 точка\n",
      "Модель GP (rbf): посчитана 1001 точка\n",
      "Модель GP (rbf): посчитана 1501 точка\n",
      "Модель GP (rbf): посчитана 2001 точка\n",
      "Модель GP (rbf): посчитана 2501 точка\n",
      "Модель GP (rbf): посчитана 3001 точка\n",
      "Модель GP (rbf): посчитана 3501 точка\n",
      "Модель GP (rbf): посчитана 4001 точка\n",
      "Модель GP (rbf): посчитана 4501 точка\n",
      "Выполнено за 0:13:50.371075\n",
      "Модель GP (Mat52): посчитана 1 точка\n",
      "Модель GP (Mat52): посчитана 501 точка\n",
      "Модель GP (Mat52): посчитана 1001 точка\n",
      "Модель GP (Mat52): посчитана 1501 точка\n",
      "Модель GP (Mat52): посчитана 2001 точка\n",
      "Модель GP (Mat52): посчитана 2501 точка\n",
      "Модель GP (Mat52): посчитана 3001 точка\n",
      "Модель GP (Mat52): посчитана 3501 точка\n",
      "Модель GP (Mat52): посчитана 4001 точка\n",
      "Модель GP (Mat52): посчитана 4501 точка\n",
      "Выполнено за 0:14:46.224130\n",
      "\"Наивная\" модель. Выполнено за 0:00:00.007017\n"
     ]
    }
   ],
   "source": [
    "results_indicies={}\n",
    "for index in indicies:\n",
    "    results_indicies[index] = {}\n",
    "    ts = data[index]['return']\n",
    "    ts = ts.reset_index(drop=True)\n",
    "    \n",
    "    ts_for_GP = data[index]['return_abs']\n",
    "   \n",
    "    print('Работа с активом {}'.format(mapping[index]))\n",
    "    print('-----------------------------------')\n",
    "    for garch_param in garch_param_dict:\n",
    "        results_indicies[index][garch_param] = fixed_window_garch(ts, model_params=garch_param_dict[garch_param])\n",
    "    for GP_kernel in GP_kernel_dict:\n",
    "        results_indicies[index][GP_kernel] = fixed_window_GP(ts_for_GP, kernel=GP_kernel_dict[GP_kernel])\n",
    "    results_indicies[index]['naive'] = fixed_window_naive(ts_for_GP)\n",
    "        "
   ]
  },
  {
   "cell_type": "code",
   "execution_count": 927,
   "metadata": {},
   "outputs": [
    {
     "name": "stdout",
     "output_type": "stream",
     "text": [
      "Работа с активом Bitcoin/Доллар США\n",
      "-----------------------------------\n",
      "Модель GARCH: посчитана 1 точка\n",
      "Модель GARCH: посчитана 501 точка\n",
      "Модель GARCH: посчитана 1001 точка\n",
      "Выполнено за 0:00:55.571985\n",
      "Модель GJR-GARCH: посчитана 1 точка\n",
      "Модель GJR-GARCH: посчитана 501 точка\n",
      "Модель GJR-GARCH: посчитана 1001 точка\n",
      "Выполнено за 0:01:09.431945\n",
      "Модель TARCH/ZARCH: посчитана 1 точка\n"
     ]
    },
    {
     "name": "stderr",
     "output_type": "stream",
     "text": [
      " C:\\Users\\Georgy\\Anaconda3\\lib\\site-packages\\arch\\univariate\\base.py:711: ConvergenceWarning:The optimizer returned code 8. The message is:\n",
      "Positive directional derivative for linesearch\n",
      "See scipy.optimize.fmin_slsqp for code meaning.\n",
      "\n",
      " C:\\Users\\Georgy\\Anaconda3\\lib\\site-packages\\arch\\univariate\\base.py:711: ConvergenceWarning:The optimizer returned code 8. The message is:\n",
      "Positive directional derivative for linesearch\n",
      "See scipy.optimize.fmin_slsqp for code meaning.\n",
      "\n",
      " C:\\Users\\Georgy\\Anaconda3\\lib\\site-packages\\arch\\univariate\\base.py:711: ConvergenceWarning:The optimizer returned code 8. The message is:\n",
      "Positive directional derivative for linesearch\n",
      "See scipy.optimize.fmin_slsqp for code meaning.\n",
      "\n"
     ]
    },
    {
     "name": "stdout",
     "output_type": "stream",
     "text": [
      "Модель TARCH/ZARCH: посчитана 501 точка\n"
     ]
    },
    {
     "name": "stderr",
     "output_type": "stream",
     "text": [
      " C:\\Users\\Georgy\\Anaconda3\\lib\\site-packages\\arch\\univariate\\base.py:711: ConvergenceWarning:The optimizer returned code 8. The message is:\n",
      "Positive directional derivative for linesearch\n",
      "See scipy.optimize.fmin_slsqp for code meaning.\n",
      "\n",
      " C:\\Users\\Georgy\\Anaconda3\\lib\\site-packages\\arch\\univariate\\base.py:711: ConvergenceWarning:The optimizer returned code 8. The message is:\n",
      "Positive directional derivative for linesearch\n",
      "See scipy.optimize.fmin_slsqp for code meaning.\n",
      "\n"
     ]
    },
    {
     "name": "stdout",
     "output_type": "stream",
     "text": [
      "Модель TARCH/ZARCH: посчитана 1001 точка\n",
      "Выполнено за 0:01:16.963522\n",
      "Модель GP (rbf): посчитана 1 точка\n",
      "Модель GP (rbf): посчитана 501 точка\n",
      "Модель GP (rbf): посчитана 1001 точка\n",
      "Выполнено за 0:03:54.225724\n",
      "Модель GP (Mat52): посчитана 1 точка\n",
      "Модель GP (Mat52): посчитана 501 точка\n",
      "Модель GP (Mat52): посчитана 1001 точка\n",
      "Выполнено за 0:04:19.569426\n",
      "\"Наивная\" модель. Выполнено за 0:00:00.005855\n",
      "Работа с активом Ethereum/Доллар США\n",
      "-----------------------------------\n",
      "Модель GARCH: посчитана 1 точка\n",
      "Модель GARCH: посчитана 501 точка\n",
      "Модель GARCH: посчитана 1001 точка\n",
      "Выполнено за 0:00:39.954087\n",
      "Модель GJR-GARCH: посчитана 1 точка\n",
      "Модель GJR-GARCH: посчитана 501 точка\n",
      "Модель GJR-GARCH: посчитана 1001 точка\n"
     ]
    },
    {
     "name": "stderr",
     "output_type": "stream",
     "text": [
      " C:\\Users\\Georgy\\Anaconda3\\lib\\site-packages\\arch\\univariate\\base.py:711: ConvergenceWarning:The optimizer returned code 8. The message is:\n",
      "Positive directional derivative for linesearch\n",
      "See scipy.optimize.fmin_slsqp for code meaning.\n",
      "\n"
     ]
    },
    {
     "name": "stdout",
     "output_type": "stream",
     "text": [
      "Выполнено за 0:00:46.990637\n",
      "Модель TARCH/ZARCH: посчитана 1 точка\n",
      "Модель TARCH/ZARCH: посчитана 501 точка\n",
      "Модель TARCH/ZARCH: посчитана 1001 точка\n",
      "Выполнено за 0:00:56.821668\n",
      "Модель GP (rbf): посчитана 1 точка\n",
      "Модель GP (rbf): посчитана 501 точка\n",
      "Модель GP (rbf): посчитана 1001 точка\n",
      "Выполнено за 0:03:00.970215\n",
      "Модель GP (Mat52): посчитана 1 точка\n",
      "Модель GP (Mat52): посчитана 501 точка\n",
      "Модель GP (Mat52): посчитана 1001 точка\n",
      "Выполнено за 0:03:21.262840\n",
      "\"Наивная\" модель. Выполнено за 0:00:00\n",
      "Работа с активом Евро/Британский фунт стерлинга\n",
      "-----------------------------------\n",
      "Модель GARCH: посчитана 1 точка\n",
      "Модель GARCH: посчитана 501 точка\n"
     ]
    },
    {
     "name": "stderr",
     "output_type": "stream",
     "text": [
      " C:\\Users\\Georgy\\Anaconda3\\lib\\site-packages\\arch\\univariate\\base.py:711: ConvergenceWarning:The optimizer returned code 8. The message is:\n",
      "Positive directional derivative for linesearch\n",
      "See scipy.optimize.fmin_slsqp for code meaning.\n",
      "\n"
     ]
    },
    {
     "name": "stdout",
     "output_type": "stream",
     "text": [
      "Модель GARCH: посчитана 1001 точка\n"
     ]
    },
    {
     "name": "stderr",
     "output_type": "stream",
     "text": [
      " C:\\Users\\Georgy\\Anaconda3\\lib\\site-packages\\arch\\univariate\\base.py:711: ConvergenceWarning:The optimizer returned code 8. The message is:\n",
      "Positive directional derivative for linesearch\n",
      "See scipy.optimize.fmin_slsqp for code meaning.\n",
      "\n",
      " C:\\Users\\Georgy\\Anaconda3\\lib\\site-packages\\arch\\univariate\\base.py:711: ConvergenceWarning:The optimizer returned code 8. The message is:\n",
      "Positive directional derivative for linesearch\n",
      "See scipy.optimize.fmin_slsqp for code meaning.\n",
      "\n",
      " C:\\Users\\Georgy\\Anaconda3\\lib\\site-packages\\arch\\univariate\\base.py:711: ConvergenceWarning:The optimizer returned code 8. The message is:\n",
      "Positive directional derivative for linesearch\n",
      "See scipy.optimize.fmin_slsqp for code meaning.\n",
      "\n",
      " C:\\Users\\Georgy\\Anaconda3\\lib\\site-packages\\arch\\univariate\\base.py:711: ConvergenceWarning:The optimizer returned code 8. The message is:\n",
      "Positive directional derivative for linesearch\n",
      "See scipy.optimize.fmin_slsqp for code meaning.\n",
      "\n"
     ]
    },
    {
     "name": "stdout",
     "output_type": "stream",
     "text": [
      "Модель GARCH: посчитана 1501 точка\n",
      "Модель GARCH: посчитана 2001 точка\n"
     ]
    },
    {
     "name": "stderr",
     "output_type": "stream",
     "text": [
      " C:\\Users\\Georgy\\Anaconda3\\lib\\site-packages\\arch\\univariate\\base.py:711: ConvergenceWarning:The optimizer returned code 8. The message is:\n",
      "Positive directional derivative for linesearch\n",
      "See scipy.optimize.fmin_slsqp for code meaning.\n",
      "\n",
      " C:\\Users\\Georgy\\Anaconda3\\lib\\site-packages\\arch\\univariate\\base.py:711: ConvergenceWarning:The optimizer returned code 8. The message is:\n",
      "Positive directional derivative for linesearch\n",
      "See scipy.optimize.fmin_slsqp for code meaning.\n",
      "\n"
     ]
    },
    {
     "name": "stdout",
     "output_type": "stream",
     "text": [
      "Модель GARCH: посчитана 2501 точка\n",
      "Модель GARCH: посчитана 3001 точка\n"
     ]
    },
    {
     "name": "stderr",
     "output_type": "stream",
     "text": [
      " C:\\Users\\Georgy\\Anaconda3\\lib\\site-packages\\arch\\univariate\\base.py:711: ConvergenceWarning:The optimizer returned code 8. The message is:\n",
      "Positive directional derivative for linesearch\n",
      "See scipy.optimize.fmin_slsqp for code meaning.\n",
      "\n",
      " C:\\Users\\Georgy\\Anaconda3\\lib\\site-packages\\arch\\univariate\\base.py:711: ConvergenceWarning:The optimizer returned code 8. The message is:\n",
      "Positive directional derivative for linesearch\n",
      "See scipy.optimize.fmin_slsqp for code meaning.\n",
      "\n",
      " C:\\Users\\Georgy\\Anaconda3\\lib\\site-packages\\arch\\univariate\\base.py:711: ConvergenceWarning:The optimizer returned code 8. The message is:\n",
      "Positive directional derivative for linesearch\n",
      "See scipy.optimize.fmin_slsqp for code meaning.\n",
      "\n",
      " C:\\Users\\Georgy\\Anaconda3\\lib\\site-packages\\arch\\univariate\\base.py:711: ConvergenceWarning:The optimizer returned code 8. The message is:\n",
      "Positive directional derivative for linesearch\n",
      "See scipy.optimize.fmin_slsqp for code meaning.\n",
      "\n",
      " C:\\Users\\Georgy\\Anaconda3\\lib\\site-packages\\arch\\univariate\\base.py:711: ConvergenceWarning:The optimizer returned code 8. The message is:\n",
      "Positive directional derivative for linesearch\n",
      "See scipy.optimize.fmin_slsqp for code meaning.\n",
      "\n",
      " C:\\Users\\Georgy\\Anaconda3\\lib\\site-packages\\arch\\univariate\\base.py:711: ConvergenceWarning:The optimizer returned code 8. The message is:\n",
      "Positive directional derivative for linesearch\n",
      "See scipy.optimize.fmin_slsqp for code meaning.\n",
      "\n",
      " C:\\Users\\Georgy\\Anaconda3\\lib\\site-packages\\arch\\univariate\\base.py:711: ConvergenceWarning:The optimizer returned code 8. The message is:\n",
      "Positive directional derivative for linesearch\n",
      "See scipy.optimize.fmin_slsqp for code meaning.\n",
      "\n",
      " C:\\Users\\Georgy\\Anaconda3\\lib\\site-packages\\arch\\univariate\\base.py:711: ConvergenceWarning:The optimizer returned code 8. The message is:\n",
      "Positive directional derivative for linesearch\n",
      "See scipy.optimize.fmin_slsqp for code meaning.\n",
      "\n",
      " C:\\Users\\Georgy\\Anaconda3\\lib\\site-packages\\arch\\univariate\\base.py:711: ConvergenceWarning:The optimizer returned code 8. The message is:\n",
      "Positive directional derivative for linesearch\n",
      "See scipy.optimize.fmin_slsqp for code meaning.\n",
      "\n",
      " C:\\Users\\Georgy\\Anaconda3\\lib\\site-packages\\arch\\univariate\\base.py:711: ConvergenceWarning:The optimizer returned code 8. The message is:\n",
      "Positive directional derivative for linesearch\n",
      "See scipy.optimize.fmin_slsqp for code meaning.\n",
      "\n"
     ]
    },
    {
     "name": "stdout",
     "output_type": "stream",
     "text": [
      "Модель GARCH: посчитана 3501 точка\n",
      "Модель GARCH: посчитана 4001 точка\n"
     ]
    },
    {
     "name": "stderr",
     "output_type": "stream",
     "text": [
      " C:\\Users\\Georgy\\Anaconda3\\lib\\site-packages\\arch\\univariate\\base.py:711: ConvergenceWarning:The optimizer returned code 8. The message is:\n",
      "Positive directional derivative for linesearch\n",
      "See scipy.optimize.fmin_slsqp for code meaning.\n",
      "\n",
      " C:\\Users\\Georgy\\Anaconda3\\lib\\site-packages\\arch\\univariate\\base.py:711: ConvergenceWarning:The optimizer returned code 8. The message is:\n",
      "Positive directional derivative for linesearch\n",
      "See scipy.optimize.fmin_slsqp for code meaning.\n",
      "\n"
     ]
    },
    {
     "name": "stdout",
     "output_type": "stream",
     "text": [
      "Модель GARCH: посчитана 4501 точка\n",
      "Модель GARCH: посчитана 5001 точка\n",
      "Модель GARCH: посчитана 5501 точка\n",
      "Модель GARCH: посчитана 6001 точка\n",
      "Выполнено за 0:03:59.990885\n",
      "Модель GJR-GARCH: посчитана 1 точка\n",
      "Модель GJR-GARCH: посчитана 501 точка\n"
     ]
    },
    {
     "name": "stderr",
     "output_type": "stream",
     "text": [
      " C:\\Users\\Georgy\\Anaconda3\\lib\\site-packages\\arch\\univariate\\base.py:711: ConvergenceWarning:The optimizer returned code 8. The message is:\n",
      "Positive directional derivative for linesearch\n",
      "See scipy.optimize.fmin_slsqp for code meaning.\n",
      "\n",
      " C:\\Users\\Georgy\\Anaconda3\\lib\\site-packages\\arch\\univariate\\base.py:711: ConvergenceWarning:The optimizer returned code 8. The message is:\n",
      "Positive directional derivative for linesearch\n",
      "See scipy.optimize.fmin_slsqp for code meaning.\n",
      "\n",
      " C:\\Users\\Georgy\\Anaconda3\\lib\\site-packages\\arch\\univariate\\base.py:711: ConvergenceWarning:The optimizer returned code 8. The message is:\n",
      "Positive directional derivative for linesearch\n",
      "See scipy.optimize.fmin_slsqp for code meaning.\n",
      "\n",
      " C:\\Users\\Georgy\\Anaconda3\\lib\\site-packages\\arch\\univariate\\base.py:711: ConvergenceWarning:The optimizer returned code 8. The message is:\n",
      "Positive directional derivative for linesearch\n",
      "See scipy.optimize.fmin_slsqp for code meaning.\n",
      "\n",
      " C:\\Users\\Georgy\\Anaconda3\\lib\\site-packages\\arch\\univariate\\base.py:711: ConvergenceWarning:The optimizer returned code 8. The message is:\n",
      "Positive directional derivative for linesearch\n",
      "See scipy.optimize.fmin_slsqp for code meaning.\n",
      "\n"
     ]
    },
    {
     "name": "stdout",
     "output_type": "stream",
     "text": [
      "Модель GJR-GARCH: посчитана 1001 точка\n"
     ]
    },
    {
     "name": "stderr",
     "output_type": "stream",
     "text": [
      " C:\\Users\\Georgy\\Anaconda3\\lib\\site-packages\\arch\\univariate\\base.py:711: ConvergenceWarning:The optimizer returned code 8. The message is:\n",
      "Positive directional derivative for linesearch\n",
      "See scipy.optimize.fmin_slsqp for code meaning.\n",
      "\n",
      " C:\\Users\\Georgy\\Anaconda3\\lib\\site-packages\\arch\\univariate\\base.py:711: ConvergenceWarning:The optimizer returned code 8. The message is:\n",
      "Positive directional derivative for linesearch\n",
      "See scipy.optimize.fmin_slsqp for code meaning.\n",
      "\n",
      " C:\\Users\\Georgy\\Anaconda3\\lib\\site-packages\\arch\\univariate\\base.py:711: ConvergenceWarning:The optimizer returned code 8. The message is:\n",
      "Positive directional derivative for linesearch\n",
      "See scipy.optimize.fmin_slsqp for code meaning.\n",
      "\n",
      " C:\\Users\\Georgy\\Anaconda3\\lib\\site-packages\\arch\\univariate\\base.py:711: ConvergenceWarning:The optimizer returned code 8. The message is:\n",
      "Positive directional derivative for linesearch\n",
      "See scipy.optimize.fmin_slsqp for code meaning.\n",
      "\n"
     ]
    },
    {
     "name": "stdout",
     "output_type": "stream",
     "text": [
      "Модель GJR-GARCH: посчитана 1501 точка\n"
     ]
    },
    {
     "name": "stderr",
     "output_type": "stream",
     "text": [
      " C:\\Users\\Georgy\\Anaconda3\\lib\\site-packages\\arch\\univariate\\base.py:711: ConvergenceWarning:The optimizer returned code 8. The message is:\n",
      "Positive directional derivative for linesearch\n",
      "See scipy.optimize.fmin_slsqp for code meaning.\n",
      "\n"
     ]
    },
    {
     "name": "stdout",
     "output_type": "stream",
     "text": [
      "Модель GJR-GARCH: посчитана 2001 точка\n",
      "Модель GJR-GARCH: посчитана 2501 точка\n",
      "Модель GJR-GARCH: посчитана 3001 точка\n"
     ]
    },
    {
     "name": "stderr",
     "output_type": "stream",
     "text": [
      " C:\\Users\\Georgy\\Anaconda3\\lib\\site-packages\\arch\\univariate\\base.py:711: ConvergenceWarning:The optimizer returned code 8. The message is:\n",
      "Positive directional derivative for linesearch\n",
      "See scipy.optimize.fmin_slsqp for code meaning.\n",
      "\n",
      " C:\\Users\\Georgy\\Anaconda3\\lib\\site-packages\\arch\\univariate\\base.py:711: ConvergenceWarning:The optimizer returned code 8. The message is:\n",
      "Positive directional derivative for linesearch\n",
      "See scipy.optimize.fmin_slsqp for code meaning.\n",
      "\n",
      " C:\\Users\\Georgy\\Anaconda3\\lib\\site-packages\\arch\\univariate\\base.py:711: ConvergenceWarning:The optimizer returned code 8. The message is:\n",
      "Positive directional derivative for linesearch\n",
      "See scipy.optimize.fmin_slsqp for code meaning.\n",
      "\n",
      " C:\\Users\\Georgy\\Anaconda3\\lib\\site-packages\\arch\\univariate\\base.py:711: ConvergenceWarning:The optimizer returned code 8. The message is:\n",
      "Positive directional derivative for linesearch\n",
      "See scipy.optimize.fmin_slsqp for code meaning.\n",
      "\n"
     ]
    },
    {
     "name": "stdout",
     "output_type": "stream",
     "text": [
      "Модель GJR-GARCH: посчитана 3501 точка\n",
      "Модель GJR-GARCH: посчитана 4001 точка\n"
     ]
    },
    {
     "name": "stderr",
     "output_type": "stream",
     "text": [
      " C:\\Users\\Georgy\\Anaconda3\\lib\\site-packages\\arch\\univariate\\base.py:711: ConvergenceWarning:The optimizer returned code 8. The message is:\n",
      "Positive directional derivative for linesearch\n",
      "See scipy.optimize.fmin_slsqp for code meaning.\n",
      "\n",
      " C:\\Users\\Georgy\\Anaconda3\\lib\\site-packages\\arch\\univariate\\base.py:711: ConvergenceWarning:The optimizer returned code 8. The message is:\n",
      "Positive directional derivative for linesearch\n",
      "See scipy.optimize.fmin_slsqp for code meaning.\n",
      "\n",
      " C:\\Users\\Georgy\\Anaconda3\\lib\\site-packages\\arch\\univariate\\base.py:711: ConvergenceWarning:The optimizer returned code 8. The message is:\n",
      "Positive directional derivative for linesearch\n",
      "See scipy.optimize.fmin_slsqp for code meaning.\n",
      "\n",
      " C:\\Users\\Georgy\\Anaconda3\\lib\\site-packages\\arch\\univariate\\base.py:711: ConvergenceWarning:The optimizer returned code 8. The message is:\n",
      "Positive directional derivative for linesearch\n",
      "See scipy.optimize.fmin_slsqp for code meaning.\n",
      "\n",
      " C:\\Users\\Georgy\\Anaconda3\\lib\\site-packages\\arch\\univariate\\base.py:711: ConvergenceWarning:The optimizer returned code 8. The message is:\n",
      "Positive directional derivative for linesearch\n",
      "See scipy.optimize.fmin_slsqp for code meaning.\n",
      "\n",
      " C:\\Users\\Georgy\\Anaconda3\\lib\\site-packages\\arch\\univariate\\base.py:711: ConvergenceWarning:The optimizer returned code 8. The message is:\n",
      "Positive directional derivative for linesearch\n",
      "See scipy.optimize.fmin_slsqp for code meaning.\n",
      "\n",
      " C:\\Users\\Georgy\\Anaconda3\\lib\\site-packages\\arch\\univariate\\base.py:711: ConvergenceWarning:The optimizer returned code 8. The message is:\n",
      "Positive directional derivative for linesearch\n",
      "See scipy.optimize.fmin_slsqp for code meaning.\n",
      "\n"
     ]
    },
    {
     "name": "stdout",
     "output_type": "stream",
     "text": [
      "Модель GJR-GARCH: посчитана 4501 точка\n",
      "Модель GJR-GARCH: посчитана 5001 точка\n",
      "Модель GJR-GARCH: посчитана 5501 точка\n",
      "Модель GJR-GARCH: посчитана 6001 точка\n",
      "Выполнено за 0:04:38.619071\n",
      "Модель TARCH/ZARCH: посчитана 1 точка\n",
      "Модель TARCH/ZARCH: посчитана 501 точка\n",
      "Модель TARCH/ZARCH: посчитана 1001 точка\n",
      "Модель TARCH/ZARCH: посчитана 1501 точка\n"
     ]
    },
    {
     "name": "stderr",
     "output_type": "stream",
     "text": [
      " C:\\Users\\Georgy\\Anaconda3\\lib\\site-packages\\arch\\univariate\\base.py:711: ConvergenceWarning:The optimizer returned code 8. The message is:\n",
      "Positive directional derivative for linesearch\n",
      "See scipy.optimize.fmin_slsqp for code meaning.\n",
      "\n",
      " C:\\Users\\Georgy\\Anaconda3\\lib\\site-packages\\arch\\univariate\\base.py:711: ConvergenceWarning:The optimizer returned code 8. The message is:\n",
      "Positive directional derivative for linesearch\n",
      "See scipy.optimize.fmin_slsqp for code meaning.\n",
      "\n",
      " C:\\Users\\Georgy\\Anaconda3\\lib\\site-packages\\arch\\univariate\\base.py:711: ConvergenceWarning:The optimizer returned code 8. The message is:\n",
      "Positive directional derivative for linesearch\n",
      "See scipy.optimize.fmin_slsqp for code meaning.\n",
      "\n"
     ]
    },
    {
     "name": "stdout",
     "output_type": "stream",
     "text": [
      "Модель TARCH/ZARCH: посчитана 2001 точка\n",
      "Модель TARCH/ZARCH: посчитана 2501 точка\n",
      "Модель TARCH/ZARCH: посчитана 3001 точка\n",
      "Модель TARCH/ZARCH: посчитана 3501 точка\n",
      "Модель TARCH/ZARCH: посчитана 4001 точка\n",
      "Модель TARCH/ZARCH: посчитана 4501 точка\n",
      "Модель TARCH/ZARCH: посчитана 5001 точка\n",
      "Модель TARCH/ZARCH: посчитана 5501 точка\n"
     ]
    },
    {
     "name": "stderr",
     "output_type": "stream",
     "text": [
      " C:\\Users\\Georgy\\Anaconda3\\lib\\site-packages\\arch\\univariate\\base.py:711: ConvergenceWarning:The optimizer returned code 8. The message is:\n",
      "Positive directional derivative for linesearch\n",
      "See scipy.optimize.fmin_slsqp for code meaning.\n",
      "\n"
     ]
    },
    {
     "name": "stdout",
     "output_type": "stream",
     "text": [
      "Модель TARCH/ZARCH: посчитана 6001 точка\n",
      "Выполнено за 0:05:09.621023\n",
      "Модель GP (rbf): посчитана 1 точка\n",
      "Модель GP (rbf): посчитана 501 точка\n",
      "Модель GP (rbf): посчитана 1001 точка\n",
      "Модель GP (rbf): посчитана 1501 точка\n",
      "Модель GP (rbf): посчитана 2001 точка\n",
      "Модель GP (rbf): посчитана 2501 точка\n",
      "Модель GP (rbf): посчитана 3001 точка\n",
      "Модель GP (rbf): посчитана 3501 точка\n",
      "Модель GP (rbf): посчитана 4001 точка\n",
      "Модель GP (rbf): посчитана 4501 точка\n",
      "Модель GP (rbf): посчитана 5001 точка\n",
      "Модель GP (rbf): посчитана 5501 точка\n",
      "Модель GP (rbf): посчитана 6001 точка\n",
      "Выполнено за 0:23:14.003550\n",
      "Модель GP (Mat52): посчитана 1 точка\n",
      "Модель GP (Mat52): посчитана 501 точка\n",
      "Модель GP (Mat52): посчитана 1001 точка\n",
      "Модель GP (Mat52): посчитана 1501 точка\n",
      "Модель GP (Mat52): посчитана 2001 точка\n",
      "Модель GP (Mat52): посчитана 2501 точка\n",
      "Модель GP (Mat52): посчитана 3001 точка\n",
      "Модель GP (Mat52): посчитана 3501 точка\n",
      "Модель GP (Mat52): посчитана 4001 точка\n",
      "Модель GP (Mat52): посчитана 4501 точка\n",
      "Модель GP (Mat52): посчитана 5001 точка\n",
      "Модель GP (Mat52): посчитана 5501 точка\n",
      "Модель GP (Mat52): посчитана 6001 точка\n",
      "Выполнено за 0:23:24.051395\n",
      "\"Наивная\" модель. Выполнено за 0:00:00.006010\n",
      "Работа с активом Евро/Российский рубль\n",
      "-----------------------------------\n",
      "Модель GARCH: посчитана 1 точка\n"
     ]
    },
    {
     "name": "stderr",
     "output_type": "stream",
     "text": [
      " C:\\Users\\Georgy\\Anaconda3\\lib\\site-packages\\arch\\univariate\\base.py:711: ConvergenceWarning:The optimizer returned code 8. The message is:\n",
      "Positive directional derivative for linesearch\n",
      "See scipy.optimize.fmin_slsqp for code meaning.\n",
      "\n"
     ]
    },
    {
     "name": "stdout",
     "output_type": "stream",
     "text": [
      "Модель GARCH: посчитана 501 точка\n",
      "Модель GARCH: посчитана 1001 точка\n"
     ]
    },
    {
     "name": "stderr",
     "output_type": "stream",
     "text": [
      " C:\\Users\\Georgy\\Anaconda3\\lib\\site-packages\\arch\\univariate\\base.py:711: ConvergenceWarning:The optimizer returned code 8. The message is:\n",
      "Positive directional derivative for linesearch\n",
      "See scipy.optimize.fmin_slsqp for code meaning.\n",
      "\n",
      " C:\\Users\\Georgy\\Anaconda3\\lib\\site-packages\\arch\\univariate\\base.py:711: ConvergenceWarning:The optimizer returned code 8. The message is:\n",
      "Positive directional derivative for linesearch\n",
      "See scipy.optimize.fmin_slsqp for code meaning.\n",
      "\n"
     ]
    },
    {
     "name": "stdout",
     "output_type": "stream",
     "text": [
      "Модель GARCH: посчитана 1501 точка\n"
     ]
    },
    {
     "name": "stderr",
     "output_type": "stream",
     "text": [
      " C:\\Users\\Georgy\\Anaconda3\\lib\\site-packages\\arch\\univariate\\base.py:711: ConvergenceWarning:The optimizer returned code 8. The message is:\n",
      "Positive directional derivative for linesearch\n",
      "See scipy.optimize.fmin_slsqp for code meaning.\n",
      "\n",
      " C:\\Users\\Georgy\\Anaconda3\\lib\\site-packages\\arch\\univariate\\base.py:711: ConvergenceWarning:The optimizer returned code 8. The message is:\n",
      "Positive directional derivative for linesearch\n",
      "See scipy.optimize.fmin_slsqp for code meaning.\n",
      "\n",
      " C:\\Users\\Georgy\\Anaconda3\\lib\\site-packages\\arch\\univariate\\base.py:711: ConvergenceWarning:The optimizer returned code 8. The message is:\n",
      "Positive directional derivative for linesearch\n",
      "See scipy.optimize.fmin_slsqp for code meaning.\n",
      "\n",
      " C:\\Users\\Georgy\\Anaconda3\\lib\\site-packages\\arch\\univariate\\base.py:711: ConvergenceWarning:The optimizer returned code 8. The message is:\n",
      "Positive directional derivative for linesearch\n",
      "See scipy.optimize.fmin_slsqp for code meaning.\n",
      "\n",
      " C:\\Users\\Georgy\\Anaconda3\\lib\\site-packages\\arch\\univariate\\base.py:711: ConvergenceWarning:The optimizer returned code 8. The message is:\n",
      "Positive directional derivative for linesearch\n",
      "See scipy.optimize.fmin_slsqp for code meaning.\n",
      "\n",
      " C:\\Users\\Georgy\\Anaconda3\\lib\\site-packages\\arch\\univariate\\base.py:711: ConvergenceWarning:The optimizer returned code 8. The message is:\n",
      "Positive directional derivative for linesearch\n",
      "See scipy.optimize.fmin_slsqp for code meaning.\n",
      "\n",
      " C:\\Users\\Georgy\\Anaconda3\\lib\\site-packages\\arch\\univariate\\base.py:711: ConvergenceWarning:The optimizer returned code 8. The message is:\n",
      "Positive directional derivative for linesearch\n",
      "See scipy.optimize.fmin_slsqp for code meaning.\n",
      "\n",
      " C:\\Users\\Georgy\\Anaconda3\\lib\\site-packages\\arch\\univariate\\base.py:711: ConvergenceWarning:The optimizer returned code 8. The message is:\n",
      "Positive directional derivative for linesearch\n",
      "See scipy.optimize.fmin_slsqp for code meaning.\n",
      "\n",
      " C:\\Users\\Georgy\\Anaconda3\\lib\\site-packages\\arch\\univariate\\base.py:711: ConvergenceWarning:The optimizer returned code 8. The message is:\n",
      "Positive directional derivative for linesearch\n",
      "See scipy.optimize.fmin_slsqp for code meaning.\n",
      "\n",
      " C:\\Users\\Georgy\\Anaconda3\\lib\\site-packages\\arch\\univariate\\base.py:711: ConvergenceWarning:The optimizer returned code 8. The message is:\n",
      "Positive directional derivative for linesearch\n",
      "See scipy.optimize.fmin_slsqp for code meaning.\n",
      "\n",
      " C:\\Users\\Georgy\\Anaconda3\\lib\\site-packages\\arch\\univariate\\base.py:711: ConvergenceWarning:The optimizer returned code 8. The message is:\n",
      "Positive directional derivative for linesearch\n",
      "See scipy.optimize.fmin_slsqp for code meaning.\n",
      "\n",
      " C:\\Users\\Georgy\\Anaconda3\\lib\\site-packages\\arch\\univariate\\base.py:711: ConvergenceWarning:The optimizer returned code 8. The message is:\n",
      "Positive directional derivative for linesearch\n",
      "See scipy.optimize.fmin_slsqp for code meaning.\n",
      "\n",
      " C:\\Users\\Georgy\\Anaconda3\\lib\\site-packages\\arch\\univariate\\base.py:711: ConvergenceWarning:The optimizer returned code 8. The message is:\n",
      "Positive directional derivative for linesearch\n",
      "See scipy.optimize.fmin_slsqp for code meaning.\n",
      "\n",
      " C:\\Users\\Georgy\\Anaconda3\\lib\\site-packages\\arch\\univariate\\base.py:711: ConvergenceWarning:The optimizer returned code 8. The message is:\n",
      "Positive directional derivative for linesearch\n",
      "See scipy.optimize.fmin_slsqp for code meaning.\n",
      "\n",
      " C:\\Users\\Georgy\\Anaconda3\\lib\\site-packages\\arch\\univariate\\base.py:711: ConvergenceWarning:The optimizer returned code 8. The message is:\n",
      "Positive directional derivative for linesearch\n",
      "See scipy.optimize.fmin_slsqp for code meaning.\n",
      "\n",
      " C:\\Users\\Georgy\\Anaconda3\\lib\\site-packages\\arch\\univariate\\base.py:711: ConvergenceWarning:The optimizer returned code 8. The message is:\n",
      "Positive directional derivative for linesearch\n",
      "See scipy.optimize.fmin_slsqp for code meaning.\n",
      "\n",
      " C:\\Users\\Georgy\\Anaconda3\\lib\\site-packages\\arch\\univariate\\base.py:711: ConvergenceWarning:The optimizer returned code 8. The message is:\n",
      "Positive directional derivative for linesearch\n",
      "See scipy.optimize.fmin_slsqp for code meaning.\n",
      "\n",
      " C:\\Users\\Georgy\\Anaconda3\\lib\\site-packages\\arch\\univariate\\base.py:711: ConvergenceWarning:The optimizer returned code 8. The message is:\n",
      "Positive directional derivative for linesearch\n",
      "See scipy.optimize.fmin_slsqp for code meaning.\n",
      "\n",
      " C:\\Users\\Georgy\\Anaconda3\\lib\\site-packages\\arch\\univariate\\base.py:711: ConvergenceWarning:The optimizer returned code 8. The message is:\n",
      "Positive directional derivative for linesearch\n",
      "See scipy.optimize.fmin_slsqp for code meaning.\n",
      "\n",
      " C:\\Users\\Georgy\\Anaconda3\\lib\\site-packages\\arch\\univariate\\base.py:711: ConvergenceWarning:The optimizer returned code 8. The message is:\n",
      "Positive directional derivative for linesearch\n",
      "See scipy.optimize.fmin_slsqp for code meaning.\n",
      "\n",
      " C:\\Users\\Georgy\\Anaconda3\\lib\\site-packages\\arch\\univariate\\base.py:711: ConvergenceWarning:The optimizer returned code 8. The message is:\n",
      "Positive directional derivative for linesearch\n",
      "See scipy.optimize.fmin_slsqp for code meaning.\n",
      "\n",
      " C:\\Users\\Georgy\\Anaconda3\\lib\\site-packages\\arch\\univariate\\base.py:711: ConvergenceWarning:The optimizer returned code 8. The message is:\n",
      "Positive directional derivative for linesearch\n",
      "See scipy.optimize.fmin_slsqp for code meaning.\n",
      "\n",
      " C:\\Users\\Georgy\\Anaconda3\\lib\\site-packages\\arch\\univariate\\base.py:711: ConvergenceWarning:The optimizer returned code 8. The message is:\n",
      "Positive directional derivative for linesearch\n",
      "See scipy.optimize.fmin_slsqp for code meaning.\n",
      "\n",
      " C:\\Users\\Georgy\\Anaconda3\\lib\\site-packages\\arch\\univariate\\base.py:711: ConvergenceWarning:The optimizer returned code 8. The message is:\n",
      "Positive directional derivative for linesearch\n",
      "See scipy.optimize.fmin_slsqp for code meaning.\n",
      "\n"
     ]
    },
    {
     "name": "stdout",
     "output_type": "stream",
     "text": [
      "Модель GARCH: посчитана 2001 точка\n",
      "Модель GARCH: посчитана 2501 точка\n",
      "Модель GARCH: посчитана 3001 точка\n",
      "Модель GARCH: посчитана 3501 точка\n",
      "Модель GARCH: посчитана 4001 точка\n",
      "Модель GARCH: посчитана 4501 точка\n",
      "Модель GARCH: посчитана 5001 точка\n",
      "Модель GARCH: посчитана 5501 точка\n",
      "Выполнено за 0:03:04.700013\n",
      "Модель GJR-GARCH: посчитана 1 точка\n"
     ]
    },
    {
     "name": "stderr",
     "output_type": "stream",
     "text": [
      " C:\\Users\\Georgy\\Anaconda3\\lib\\site-packages\\arch\\univariate\\base.py:711: ConvergenceWarning:The optimizer returned code 8. The message is:\n",
      "Positive directional derivative for linesearch\n",
      "See scipy.optimize.fmin_slsqp for code meaning.\n",
      "\n"
     ]
    },
    {
     "name": "stdout",
     "output_type": "stream",
     "text": [
      "Модель GJR-GARCH: посчитана 501 точка\n",
      "Модель GJR-GARCH: посчитана 1001 точка\n",
      "Модель GJR-GARCH: посчитана 1501 точка\n"
     ]
    },
    {
     "name": "stderr",
     "output_type": "stream",
     "text": [
      " C:\\Users\\Georgy\\Anaconda3\\lib\\site-packages\\arch\\univariate\\base.py:711: ConvergenceWarning:The optimizer returned code 8. The message is:\n",
      "Positive directional derivative for linesearch\n",
      "See scipy.optimize.fmin_slsqp for code meaning.\n",
      "\n",
      " C:\\Users\\Georgy\\Anaconda3\\lib\\site-packages\\arch\\univariate\\base.py:711: ConvergenceWarning:The optimizer returned code 8. The message is:\n",
      "Positive directional derivative for linesearch\n",
      "See scipy.optimize.fmin_slsqp for code meaning.\n",
      "\n",
      " C:\\Users\\Georgy\\Anaconda3\\lib\\site-packages\\arch\\univariate\\base.py:711: ConvergenceWarning:The optimizer returned code 8. The message is:\n",
      "Positive directional derivative for linesearch\n",
      "See scipy.optimize.fmin_slsqp for code meaning.\n",
      "\n",
      " C:\\Users\\Georgy\\Anaconda3\\lib\\site-packages\\arch\\univariate\\base.py:711: ConvergenceWarning:The optimizer returned code 8. The message is:\n",
      "Positive directional derivative for linesearch\n",
      "See scipy.optimize.fmin_slsqp for code meaning.\n",
      "\n",
      " C:\\Users\\Georgy\\Anaconda3\\lib\\site-packages\\arch\\univariate\\base.py:711: ConvergenceWarning:The optimizer returned code 8. The message is:\n",
      "Positive directional derivative for linesearch\n",
      "See scipy.optimize.fmin_slsqp for code meaning.\n",
      "\n",
      " C:\\Users\\Georgy\\Anaconda3\\lib\\site-packages\\arch\\univariate\\base.py:711: ConvergenceWarning:The optimizer returned code 8. The message is:\n",
      "Positive directional derivative for linesearch\n",
      "See scipy.optimize.fmin_slsqp for code meaning.\n",
      "\n",
      " C:\\Users\\Georgy\\Anaconda3\\lib\\site-packages\\arch\\univariate\\base.py:711: ConvergenceWarning:The optimizer returned code 8. The message is:\n",
      "Positive directional derivative for linesearch\n",
      "See scipy.optimize.fmin_slsqp for code meaning.\n",
      "\n",
      " C:\\Users\\Georgy\\Anaconda3\\lib\\site-packages\\arch\\univariate\\base.py:711: ConvergenceWarning:The optimizer returned code 8. The message is:\n",
      "Positive directional derivative for linesearch\n",
      "See scipy.optimize.fmin_slsqp for code meaning.\n",
      "\n",
      " C:\\Users\\Georgy\\Anaconda3\\lib\\site-packages\\arch\\univariate\\base.py:711: ConvergenceWarning:The optimizer returned code 8. The message is:\n",
      "Positive directional derivative for linesearch\n",
      "See scipy.optimize.fmin_slsqp for code meaning.\n",
      "\n",
      " C:\\Users\\Georgy\\Anaconda3\\lib\\site-packages\\arch\\univariate\\base.py:711: ConvergenceWarning:The optimizer returned code 8. The message is:\n",
      "Positive directional derivative for linesearch\n",
      "See scipy.optimize.fmin_slsqp for code meaning.\n",
      "\n",
      " C:\\Users\\Georgy\\Anaconda3\\lib\\site-packages\\arch\\univariate\\base.py:711: ConvergenceWarning:The optimizer returned code 8. The message is:\n",
      "Positive directional derivative for linesearch\n",
      "See scipy.optimize.fmin_slsqp for code meaning.\n",
      "\n",
      " C:\\Users\\Georgy\\Anaconda3\\lib\\site-packages\\arch\\univariate\\base.py:711: ConvergenceWarning:The optimizer returned code 8. The message is:\n",
      "Positive directional derivative for linesearch\n",
      "See scipy.optimize.fmin_slsqp for code meaning.\n",
      "\n",
      " C:\\Users\\Georgy\\Anaconda3\\lib\\site-packages\\arch\\univariate\\base.py:711: ConvergenceWarning:The optimizer returned code 8. The message is:\n",
      "Positive directional derivative for linesearch\n",
      "See scipy.optimize.fmin_slsqp for code meaning.\n",
      "\n",
      " C:\\Users\\Georgy\\Anaconda3\\lib\\site-packages\\arch\\univariate\\base.py:711: ConvergenceWarning:The optimizer returned code 8. The message is:\n",
      "Positive directional derivative for linesearch\n",
      "See scipy.optimize.fmin_slsqp for code meaning.\n",
      "\n",
      " C:\\Users\\Georgy\\Anaconda3\\lib\\site-packages\\arch\\univariate\\base.py:711: ConvergenceWarning:The optimizer returned code 8. The message is:\n",
      "Positive directional derivative for linesearch\n",
      "See scipy.optimize.fmin_slsqp for code meaning.\n",
      "\n",
      " C:\\Users\\Georgy\\Anaconda3\\lib\\site-packages\\arch\\univariate\\base.py:711: ConvergenceWarning:The optimizer returned code 8. The message is:\n",
      "Positive directional derivative for linesearch\n",
      "See scipy.optimize.fmin_slsqp for code meaning.\n",
      "\n",
      " C:\\Users\\Georgy\\Anaconda3\\lib\\site-packages\\arch\\univariate\\base.py:711: ConvergenceWarning:The optimizer returned code 9. The message is:\n",
      "Iteration limit exceeded\n",
      "See scipy.optimize.fmin_slsqp for code meaning.\n",
      "\n"
     ]
    },
    {
     "name": "stdout",
     "output_type": "stream",
     "text": [
      "Модель GJR-GARCH: посчитана 2001 точка\n",
      "Модель GJR-GARCH: посчитана 2501 точка\n",
      "Модель GJR-GARCH: посчитана 3001 точка\n",
      "Модель GJR-GARCH: посчитана 3501 точка\n",
      "Модель GJR-GARCH: посчитана 4001 точка\n",
      "Модель GJR-GARCH: посчитана 4501 точка\n",
      "Модель GJR-GARCH: посчитана 5001 точка\n"
     ]
    },
    {
     "name": "stderr",
     "output_type": "stream",
     "text": [
      " C:\\Users\\Georgy\\Anaconda3\\lib\\site-packages\\arch\\univariate\\base.py:711: ConvergenceWarning:The optimizer returned code 8. The message is:\n",
      "Positive directional derivative for linesearch\n",
      "See scipy.optimize.fmin_slsqp for code meaning.\n",
      "\n"
     ]
    },
    {
     "name": "stdout",
     "output_type": "stream",
     "text": [
      "Модель GJR-GARCH: посчитана 5501 точка\n",
      "Выполнено за 0:04:38.510273\n",
      "Модель TARCH/ZARCH: посчитана 1 точка\n",
      "Модель TARCH/ZARCH: посчитана 501 точка\n",
      "Модель TARCH/ZARCH: посчитана 1001 точка\n",
      "Модель TARCH/ZARCH: посчитана 1501 точка\n",
      "Модель TARCH/ZARCH: посчитана 2001 точка\n",
      "Модель TARCH/ZARCH: посчитана 2501 точка\n",
      "Модель TARCH/ZARCH: посчитана 3001 точка\n",
      "Модель TARCH/ZARCH: посчитана 3501 точка\n",
      "Модель TARCH/ZARCH: посчитана 4001 точка\n",
      "Модель TARCH/ZARCH: посчитана 4501 точка\n",
      "Модель TARCH/ZARCH: посчитана 5001 точка\n",
      "Модель TARCH/ZARCH: посчитана 5501 точка\n",
      "Выполнено за 0:04:59.729761\n",
      "Модель GP (rbf): посчитана 1 точка\n",
      "Модель GP (rbf): посчитана 501 точка\n",
      "Модель GP (rbf): посчитана 1001 точка\n",
      "Модель GP (rbf): посчитана 1501 точка\n",
      "Модель GP (rbf): посчитана 2001 точка\n",
      "Модель GP (rbf): посчитана 2501 точка\n",
      "Модель GP (rbf): посчитана 3001 точка\n",
      "Модель GP (rbf): посчитана 3501 точка\n",
      "Модель GP (rbf): посчитана 4001 точка\n",
      "Модель GP (rbf): посчитана 4501 точка\n",
      "Модель GP (rbf): посчитана 5001 точка\n",
      "Модель GP (rbf): посчитана 5501 точка\n",
      "Выполнено за 0:22:19.520891\n",
      "Модель GP (Mat52): посчитана 1 точка\n",
      "Модель GP (Mat52): посчитана 501 точка\n",
      "Модель GP (Mat52): посчитана 1001 точка\n",
      "Модель GP (Mat52): посчитана 1501 точка\n",
      "Модель GP (Mat52): посчитана 2001 точка\n",
      "Модель GP (Mat52): посчитана 2501 точка\n",
      "Модель GP (Mat52): посчитана 3001 точка\n",
      "Модель GP (Mat52): посчитана 3501 точка\n",
      "Модель GP (Mat52): посчитана 4001 точка\n",
      "Модель GP (Mat52): посчитана 4501 точка\n",
      "Модель GP (Mat52): посчитана 5001 точка\n",
      "Модель GP (Mat52): посчитана 5501 точка\n",
      "Выполнено за 0:21:39.506603\n",
      "\"Наивная\" модель. Выполнено за 0:00:00.012963\n",
      "Работа с активом Евро/Доллар США\n",
      "-----------------------------------\n",
      "Модель GARCH: посчитана 1 точка\n",
      "Модель GARCH: посчитана 501 точка\n"
     ]
    },
    {
     "name": "stderr",
     "output_type": "stream",
     "text": [
      " C:\\Users\\Georgy\\Anaconda3\\lib\\site-packages\\arch\\univariate\\base.py:711: ConvergenceWarning:The optimizer returned code 8. The message is:\n",
      "Positive directional derivative for linesearch\n",
      "See scipy.optimize.fmin_slsqp for code meaning.\n",
      "\n",
      " C:\\Users\\Georgy\\Anaconda3\\lib\\site-packages\\arch\\univariate\\base.py:711: ConvergenceWarning:The optimizer returned code 8. The message is:\n",
      "Positive directional derivative for linesearch\n",
      "See scipy.optimize.fmin_slsqp for code meaning.\n",
      "\n"
     ]
    },
    {
     "name": "stdout",
     "output_type": "stream",
     "text": [
      "Модель GARCH: посчитана 1001 точка\n"
     ]
    },
    {
     "name": "stderr",
     "output_type": "stream",
     "text": [
      " C:\\Users\\Georgy\\Anaconda3\\lib\\site-packages\\arch\\univariate\\base.py:711: ConvergenceWarning:The optimizer returned code 8. The message is:\n",
      "Positive directional derivative for linesearch\n",
      "See scipy.optimize.fmin_slsqp for code meaning.\n",
      "\n"
     ]
    },
    {
     "name": "stdout",
     "output_type": "stream",
     "text": [
      "Модель GARCH: посчитана 1501 точка\n",
      "Модель GARCH: посчитана 2001 точка\n",
      "Модель GARCH: посчитана 2501 точка\n"
     ]
    },
    {
     "name": "stderr",
     "output_type": "stream",
     "text": [
      " C:\\Users\\Georgy\\Anaconda3\\lib\\site-packages\\arch\\univariate\\base.py:711: ConvergenceWarning:The optimizer returned code 8. The message is:\n",
      "Positive directional derivative for linesearch\n",
      "See scipy.optimize.fmin_slsqp for code meaning.\n",
      "\n"
     ]
    },
    {
     "name": "stdout",
     "output_type": "stream",
     "text": [
      "Модель GARCH: посчитана 3001 точка\n",
      "Модель GARCH: посчитана 3501 точка\n",
      "Модель GARCH: посчитана 4001 точка\n"
     ]
    },
    {
     "name": "stderr",
     "output_type": "stream",
     "text": [
      " C:\\Users\\Georgy\\Anaconda3\\lib\\site-packages\\arch\\univariate\\base.py:711: ConvergenceWarning:The optimizer returned code 8. The message is:\n",
      "Positive directional derivative for linesearch\n",
      "See scipy.optimize.fmin_slsqp for code meaning.\n",
      "\n",
      " C:\\Users\\Georgy\\Anaconda3\\lib\\site-packages\\arch\\univariate\\base.py:711: ConvergenceWarning:The optimizer returned code 8. The message is:\n",
      "Positive directional derivative for linesearch\n",
      "See scipy.optimize.fmin_slsqp for code meaning.\n",
      "\n",
      " C:\\Users\\Georgy\\Anaconda3\\lib\\site-packages\\arch\\univariate\\base.py:711: ConvergenceWarning:The optimizer returned code 8. The message is:\n",
      "Positive directional derivative for linesearch\n",
      "See scipy.optimize.fmin_slsqp for code meaning.\n",
      "\n",
      " C:\\Users\\Georgy\\Anaconda3\\lib\\site-packages\\arch\\univariate\\base.py:711: ConvergenceWarning:The optimizer returned code 8. The message is:\n",
      "Positive directional derivative for linesearch\n",
      "See scipy.optimize.fmin_slsqp for code meaning.\n",
      "\n",
      " C:\\Users\\Georgy\\Anaconda3\\lib\\site-packages\\arch\\univariate\\base.py:711: ConvergenceWarning:The optimizer returned code 8. The message is:\n",
      "Positive directional derivative for linesearch\n",
      "See scipy.optimize.fmin_slsqp for code meaning.\n",
      "\n",
      " C:\\Users\\Georgy\\Anaconda3\\lib\\site-packages\\arch\\univariate\\base.py:711: ConvergenceWarning:The optimizer returned code 8. The message is:\n",
      "Positive directional derivative for linesearch\n",
      "See scipy.optimize.fmin_slsqp for code meaning.\n",
      "\n",
      " C:\\Users\\Georgy\\Anaconda3\\lib\\site-packages\\arch\\univariate\\base.py:711: ConvergenceWarning:The optimizer returned code 8. The message is:\n",
      "Positive directional derivative for linesearch\n",
      "See scipy.optimize.fmin_slsqp for code meaning.\n",
      "\n",
      " C:\\Users\\Georgy\\Anaconda3\\lib\\site-packages\\arch\\univariate\\base.py:711: ConvergenceWarning:The optimizer returned code 8. The message is:\n",
      "Positive directional derivative for linesearch\n",
      "See scipy.optimize.fmin_slsqp for code meaning.\n",
      "\n",
      " C:\\Users\\Georgy\\Anaconda3\\lib\\site-packages\\arch\\univariate\\base.py:711: ConvergenceWarning:The optimizer returned code 8. The message is:\n",
      "Positive directional derivative for linesearch\n",
      "See scipy.optimize.fmin_slsqp for code meaning.\n",
      "\n",
      " C:\\Users\\Georgy\\Anaconda3\\lib\\site-packages\\arch\\univariate\\base.py:711: ConvergenceWarning:The optimizer returned code 8. The message is:\n",
      "Positive directional derivative for linesearch\n",
      "See scipy.optimize.fmin_slsqp for code meaning.\n",
      "\n",
      " C:\\Users\\Georgy\\Anaconda3\\lib\\site-packages\\arch\\univariate\\base.py:711: ConvergenceWarning:The optimizer returned code 8. The message is:\n",
      "Positive directional derivative for linesearch\n",
      "See scipy.optimize.fmin_slsqp for code meaning.\n",
      "\n",
      " C:\\Users\\Georgy\\Anaconda3\\lib\\site-packages\\arch\\univariate\\base.py:711: ConvergenceWarning:The optimizer returned code 8. The message is:\n",
      "Positive directional derivative for linesearch\n",
      "See scipy.optimize.fmin_slsqp for code meaning.\n",
      "\n",
      " C:\\Users\\Georgy\\Anaconda3\\lib\\site-packages\\arch\\univariate\\base.py:711: ConvergenceWarning:The optimizer returned code 8. The message is:\n",
      "Positive directional derivative for linesearch\n",
      "See scipy.optimize.fmin_slsqp for code meaning.\n",
      "\n",
      " C:\\Users\\Georgy\\Anaconda3\\lib\\site-packages\\arch\\univariate\\base.py:711: ConvergenceWarning:The optimizer returned code 8. The message is:\n",
      "Positive directional derivative for linesearch\n",
      "See scipy.optimize.fmin_slsqp for code meaning.\n",
      "\n",
      " C:\\Users\\Georgy\\Anaconda3\\lib\\site-packages\\arch\\univariate\\base.py:711: ConvergenceWarning:The optimizer returned code 8. The message is:\n",
      "Positive directional derivative for linesearch\n",
      "See scipy.optimize.fmin_slsqp for code meaning.\n",
      "\n",
      " C:\\Users\\Georgy\\Anaconda3\\lib\\site-packages\\arch\\univariate\\base.py:711: ConvergenceWarning:The optimizer returned code 8. The message is:\n",
      "Positive directional derivative for linesearch\n",
      "See scipy.optimize.fmin_slsqp for code meaning.\n",
      "\n",
      " C:\\Users\\Georgy\\Anaconda3\\lib\\site-packages\\arch\\univariate\\base.py:711: ConvergenceWarning:The optimizer returned code 8. The message is:\n",
      "Positive directional derivative for linesearch\n",
      "See scipy.optimize.fmin_slsqp for code meaning.\n",
      "\n",
      " C:\\Users\\Georgy\\Anaconda3\\lib\\site-packages\\arch\\univariate\\base.py:711: ConvergenceWarning:The optimizer returned code 8. The message is:\n",
      "Positive directional derivative for linesearch\n",
      "See scipy.optimize.fmin_slsqp for code meaning.\n",
      "\n",
      " C:\\Users\\Georgy\\Anaconda3\\lib\\site-packages\\arch\\univariate\\base.py:711: ConvergenceWarning:The optimizer returned code 8. The message is:\n",
      "Positive directional derivative for linesearch\n",
      "See scipy.optimize.fmin_slsqp for code meaning.\n",
      "\n",
      " C:\\Users\\Georgy\\Anaconda3\\lib\\site-packages\\arch\\univariate\\base.py:711: ConvergenceWarning:The optimizer returned code 8. The message is:\n",
      "Positive directional derivative for linesearch\n",
      "See scipy.optimize.fmin_slsqp for code meaning.\n",
      "\n",
      " C:\\Users\\Georgy\\Anaconda3\\lib\\site-packages\\arch\\univariate\\base.py:711: ConvergenceWarning:The optimizer returned code 8. The message is:\n",
      "Positive directional derivative for linesearch\n",
      "See scipy.optimize.fmin_slsqp for code meaning.\n",
      "\n",
      " C:\\Users\\Georgy\\Anaconda3\\lib\\site-packages\\arch\\univariate\\base.py:711: ConvergenceWarning:The optimizer returned code 8. The message is:\n",
      "Positive directional derivative for linesearch\n",
      "See scipy.optimize.fmin_slsqp for code meaning.\n",
      "\n",
      " C:\\Users\\Georgy\\Anaconda3\\lib\\site-packages\\arch\\univariate\\base.py:711: ConvergenceWarning:The optimizer returned code 8. The message is:\n",
      "Positive directional derivative for linesearch\n",
      "See scipy.optimize.fmin_slsqp for code meaning.\n",
      "\n",
      " C:\\Users\\Georgy\\Anaconda3\\lib\\site-packages\\arch\\univariate\\base.py:711: ConvergenceWarning:The optimizer returned code 8. The message is:\n",
      "Positive directional derivative for linesearch\n",
      "See scipy.optimize.fmin_slsqp for code meaning.\n",
      "\n"
     ]
    },
    {
     "name": "stdout",
     "output_type": "stream",
     "text": [
      "Модель GARCH: посчитана 4501 точка\n",
      "Модель GARCH: посчитана 5001 точка\n"
     ]
    },
    {
     "name": "stderr",
     "output_type": "stream",
     "text": [
      " C:\\Users\\Georgy\\Anaconda3\\lib\\site-packages\\arch\\univariate\\base.py:711: ConvergenceWarning:The optimizer returned code 8. The message is:\n",
      "Positive directional derivative for linesearch\n",
      "See scipy.optimize.fmin_slsqp for code meaning.\n",
      "\n",
      " C:\\Users\\Georgy\\Anaconda3\\lib\\site-packages\\arch\\univariate\\base.py:711: ConvergenceWarning:The optimizer returned code 8. The message is:\n",
      "Positive directional derivative for linesearch\n",
      "See scipy.optimize.fmin_slsqp for code meaning.\n",
      "\n"
     ]
    },
    {
     "name": "stdout",
     "output_type": "stream",
     "text": [
      "Модель GARCH: посчитана 5501 точка\n"
     ]
    },
    {
     "name": "stderr",
     "output_type": "stream",
     "text": [
      " C:\\Users\\Georgy\\Anaconda3\\lib\\site-packages\\arch\\univariate\\base.py:711: ConvergenceWarning:The optimizer returned code 8. The message is:\n",
      "Positive directional derivative for linesearch\n",
      "See scipy.optimize.fmin_slsqp for code meaning.\n",
      "\n",
      " C:\\Users\\Georgy\\Anaconda3\\lib\\site-packages\\arch\\univariate\\base.py:711: ConvergenceWarning:The optimizer returned code 8. The message is:\n",
      "Positive directional derivative for linesearch\n",
      "See scipy.optimize.fmin_slsqp for code meaning.\n",
      "\n",
      " C:\\Users\\Georgy\\Anaconda3\\lib\\site-packages\\arch\\univariate\\base.py:711: ConvergenceWarning:The optimizer returned code 8. The message is:\n",
      "Positive directional derivative for linesearch\n",
      "See scipy.optimize.fmin_slsqp for code meaning.\n",
      "\n",
      " C:\\Users\\Georgy\\Anaconda3\\lib\\site-packages\\arch\\univariate\\base.py:711: ConvergenceWarning:The optimizer returned code 8. The message is:\n",
      "Positive directional derivative for linesearch\n",
      "See scipy.optimize.fmin_slsqp for code meaning.\n",
      "\n",
      " C:\\Users\\Georgy\\Anaconda3\\lib\\site-packages\\arch\\univariate\\base.py:711: ConvergenceWarning:The optimizer returned code 8. The message is:\n",
      "Positive directional derivative for linesearch\n",
      "See scipy.optimize.fmin_slsqp for code meaning.\n",
      "\n",
      " C:\\Users\\Georgy\\Anaconda3\\lib\\site-packages\\arch\\univariate\\base.py:711: ConvergenceWarning:The optimizer returned code 8. The message is:\n",
      "Positive directional derivative for linesearch\n",
      "See scipy.optimize.fmin_slsqp for code meaning.\n",
      "\n",
      " C:\\Users\\Georgy\\Anaconda3\\lib\\site-packages\\arch\\univariate\\base.py:711: ConvergenceWarning:The optimizer returned code 8. The message is:\n",
      "Positive directional derivative for linesearch\n",
      "See scipy.optimize.fmin_slsqp for code meaning.\n",
      "\n",
      " C:\\Users\\Georgy\\Anaconda3\\lib\\site-packages\\arch\\univariate\\base.py:711: ConvergenceWarning:The optimizer returned code 8. The message is:\n",
      "Positive directional derivative for linesearch\n",
      "See scipy.optimize.fmin_slsqp for code meaning.\n",
      "\n"
     ]
    },
    {
     "name": "stdout",
     "output_type": "stream",
     "text": [
      "Модель GARCH: посчитана 6001 точка\n"
     ]
    },
    {
     "name": "stderr",
     "output_type": "stream",
     "text": [
      " C:\\Users\\Georgy\\Anaconda3\\lib\\site-packages\\arch\\univariate\\base.py:711: ConvergenceWarning:The optimizer returned code 8. The message is:\n",
      "Positive directional derivative for linesearch\n",
      "See scipy.optimize.fmin_slsqp for code meaning.\n",
      "\n"
     ]
    },
    {
     "name": "stdout",
     "output_type": "stream",
     "text": [
      "Выполнено за 0:03:39.583539\n",
      "Модель GJR-GARCH: посчитана 1 точка\n",
      "Модель GJR-GARCH: посчитана 501 точка\n"
     ]
    },
    {
     "name": "stderr",
     "output_type": "stream",
     "text": [
      " C:\\Users\\Georgy\\Anaconda3\\lib\\site-packages\\arch\\univariate\\base.py:711: ConvergenceWarning:The optimizer returned code 8. The message is:\n",
      "Positive directional derivative for linesearch\n",
      "See scipy.optimize.fmin_slsqp for code meaning.\n",
      "\n"
     ]
    },
    {
     "name": "stdout",
     "output_type": "stream",
     "text": [
      "Модель GJR-GARCH: посчитана 1001 точка\n"
     ]
    },
    {
     "name": "stderr",
     "output_type": "stream",
     "text": [
      " C:\\Users\\Georgy\\Anaconda3\\lib\\site-packages\\arch\\univariate\\base.py:711: ConvergenceWarning:The optimizer returned code 8. The message is:\n",
      "Positive directional derivative for linesearch\n",
      "See scipy.optimize.fmin_slsqp for code meaning.\n",
      "\n",
      " C:\\Users\\Georgy\\Anaconda3\\lib\\site-packages\\arch\\univariate\\base.py:711: ConvergenceWarning:The optimizer returned code 8. The message is:\n",
      "Positive directional derivative for linesearch\n",
      "See scipy.optimize.fmin_slsqp for code meaning.\n",
      "\n"
     ]
    },
    {
     "name": "stdout",
     "output_type": "stream",
     "text": [
      "Модель GJR-GARCH: посчитана 1501 точка\n",
      "Модель GJR-GARCH: посчитана 2001 точка\n"
     ]
    },
    {
     "name": "stderr",
     "output_type": "stream",
     "text": [
      " C:\\Users\\Georgy\\Anaconda3\\lib\\site-packages\\arch\\univariate\\base.py:711: ConvergenceWarning:The optimizer returned code 8. The message is:\n",
      "Positive directional derivative for linesearch\n",
      "See scipy.optimize.fmin_slsqp for code meaning.\n",
      "\n",
      " C:\\Users\\Georgy\\Anaconda3\\lib\\site-packages\\arch\\univariate\\base.py:711: ConvergenceWarning:The optimizer returned code 8. The message is:\n",
      "Positive directional derivative for linesearch\n",
      "See scipy.optimize.fmin_slsqp for code meaning.\n",
      "\n",
      " C:\\Users\\Georgy\\Anaconda3\\lib\\site-packages\\arch\\univariate\\base.py:711: ConvergenceWarning:The optimizer returned code 8. The message is:\n",
      "Positive directional derivative for linesearch\n",
      "See scipy.optimize.fmin_slsqp for code meaning.\n",
      "\n",
      " C:\\Users\\Georgy\\Anaconda3\\lib\\site-packages\\arch\\univariate\\base.py:711: ConvergenceWarning:The optimizer returned code 8. The message is:\n",
      "Positive directional derivative for linesearch\n",
      "See scipy.optimize.fmin_slsqp for code meaning.\n",
      "\n"
     ]
    },
    {
     "name": "stdout",
     "output_type": "stream",
     "text": [
      "Модель GJR-GARCH: посчитана 2501 точка\n",
      "Модель GJR-GARCH: посчитана 3001 точка\n"
     ]
    },
    {
     "name": "stderr",
     "output_type": "stream",
     "text": [
      " C:\\Users\\Georgy\\Anaconda3\\lib\\site-packages\\arch\\univariate\\base.py:711: ConvergenceWarning:The optimizer returned code 8. The message is:\n",
      "Positive directional derivative for linesearch\n",
      "See scipy.optimize.fmin_slsqp for code meaning.\n",
      "\n"
     ]
    },
    {
     "name": "stdout",
     "output_type": "stream",
     "text": [
      "Модель GJR-GARCH: посчитана 3501 точка\n",
      "Модель GJR-GARCH: посчитана 4001 точка\n"
     ]
    },
    {
     "name": "stderr",
     "output_type": "stream",
     "text": [
      " C:\\Users\\Georgy\\Anaconda3\\lib\\site-packages\\arch\\univariate\\base.py:711: ConvergenceWarning:The optimizer returned code 8. The message is:\n",
      "Positive directional derivative for linesearch\n",
      "See scipy.optimize.fmin_slsqp for code meaning.\n",
      "\n",
      " C:\\Users\\Georgy\\Anaconda3\\lib\\site-packages\\arch\\univariate\\base.py:711: ConvergenceWarning:The optimizer returned code 8. The message is:\n",
      "Positive directional derivative for linesearch\n",
      "See scipy.optimize.fmin_slsqp for code meaning.\n",
      "\n",
      " C:\\Users\\Georgy\\Anaconda3\\lib\\site-packages\\arch\\univariate\\base.py:711: ConvergenceWarning:The optimizer returned code 8. The message is:\n",
      "Positive directional derivative for linesearch\n",
      "See scipy.optimize.fmin_slsqp for code meaning.\n",
      "\n",
      " C:\\Users\\Georgy\\Anaconda3\\lib\\site-packages\\arch\\univariate\\base.py:711: ConvergenceWarning:The optimizer returned code 8. The message is:\n",
      "Positive directional derivative for linesearch\n",
      "See scipy.optimize.fmin_slsqp for code meaning.\n",
      "\n",
      " C:\\Users\\Georgy\\Anaconda3\\lib\\site-packages\\arch\\univariate\\base.py:711: ConvergenceWarning:The optimizer returned code 8. The message is:\n",
      "Positive directional derivative for linesearch\n",
      "See scipy.optimize.fmin_slsqp for code meaning.\n",
      "\n",
      " C:\\Users\\Georgy\\Anaconda3\\lib\\site-packages\\arch\\univariate\\base.py:711: ConvergenceWarning:The optimizer returned code 8. The message is:\n",
      "Positive directional derivative for linesearch\n",
      "See scipy.optimize.fmin_slsqp for code meaning.\n",
      "\n",
      " C:\\Users\\Georgy\\Anaconda3\\lib\\site-packages\\arch\\univariate\\base.py:711: ConvergenceWarning:The optimizer returned code 8. The message is:\n",
      "Positive directional derivative for linesearch\n",
      "See scipy.optimize.fmin_slsqp for code meaning.\n",
      "\n",
      " C:\\Users\\Georgy\\Anaconda3\\lib\\site-packages\\arch\\univariate\\base.py:711: ConvergenceWarning:The optimizer returned code 8. The message is:\n",
      "Positive directional derivative for linesearch\n",
      "See scipy.optimize.fmin_slsqp for code meaning.\n",
      "\n",
      " C:\\Users\\Georgy\\Anaconda3\\lib\\site-packages\\arch\\univariate\\base.py:711: ConvergenceWarning:The optimizer returned code 8. The message is:\n",
      "Positive directional derivative for linesearch\n",
      "See scipy.optimize.fmin_slsqp for code meaning.\n",
      "\n",
      " C:\\Users\\Georgy\\Anaconda3\\lib\\site-packages\\arch\\univariate\\base.py:711: ConvergenceWarning:The optimizer returned code 8. The message is:\n",
      "Positive directional derivative for linesearch\n",
      "See scipy.optimize.fmin_slsqp for code meaning.\n",
      "\n",
      " C:\\Users\\Georgy\\Anaconda3\\lib\\site-packages\\arch\\univariate\\base.py:711: ConvergenceWarning:The optimizer returned code 8. The message is:\n",
      "Positive directional derivative for linesearch\n",
      "See scipy.optimize.fmin_slsqp for code meaning.\n",
      "\n",
      " C:\\Users\\Georgy\\Anaconda3\\lib\\site-packages\\arch\\univariate\\base.py:711: ConvergenceWarning:The optimizer returned code 8. The message is:\n",
      "Positive directional derivative for linesearch\n",
      "See scipy.optimize.fmin_slsqp for code meaning.\n",
      "\n",
      " C:\\Users\\Georgy\\Anaconda3\\lib\\site-packages\\arch\\univariate\\base.py:711: ConvergenceWarning:The optimizer returned code 8. The message is:\n",
      "Positive directional derivative for linesearch\n",
      "See scipy.optimize.fmin_slsqp for code meaning.\n",
      "\n",
      " C:\\Users\\Georgy\\Anaconda3\\lib\\site-packages\\arch\\univariate\\base.py:711: ConvergenceWarning:The optimizer returned code 8. The message is:\n",
      "Positive directional derivative for linesearch\n",
      "See scipy.optimize.fmin_slsqp for code meaning.\n",
      "\n",
      " C:\\Users\\Georgy\\Anaconda3\\lib\\site-packages\\arch\\univariate\\base.py:711: ConvergenceWarning:The optimizer returned code 8. The message is:\n",
      "Positive directional derivative for linesearch\n",
      "See scipy.optimize.fmin_slsqp for code meaning.\n",
      "\n",
      " C:\\Users\\Georgy\\Anaconda3\\lib\\site-packages\\arch\\univariate\\base.py:711: ConvergenceWarning:The optimizer returned code 8. The message is:\n",
      "Positive directional derivative for linesearch\n",
      "See scipy.optimize.fmin_slsqp for code meaning.\n",
      "\n",
      " C:\\Users\\Georgy\\Anaconda3\\lib\\site-packages\\arch\\univariate\\base.py:711: ConvergenceWarning:The optimizer returned code 8. The message is:\n",
      "Positive directional derivative for linesearch\n",
      "See scipy.optimize.fmin_slsqp for code meaning.\n",
      "\n",
      " C:\\Users\\Georgy\\Anaconda3\\lib\\site-packages\\arch\\univariate\\base.py:711: ConvergenceWarning:The optimizer returned code 8. The message is:\n",
      "Positive directional derivative for linesearch\n",
      "See scipy.optimize.fmin_slsqp for code meaning.\n",
      "\n",
      " C:\\Users\\Georgy\\Anaconda3\\lib\\site-packages\\arch\\univariate\\base.py:711: ConvergenceWarning:The optimizer returned code 8. The message is:\n",
      "Positive directional derivative for linesearch\n",
      "See scipy.optimize.fmin_slsqp for code meaning.\n",
      "\n",
      " C:\\Users\\Georgy\\Anaconda3\\lib\\site-packages\\arch\\univariate\\base.py:711: ConvergenceWarning:The optimizer returned code 8. The message is:\n",
      "Positive directional derivative for linesearch\n",
      "See scipy.optimize.fmin_slsqp for code meaning.\n",
      "\n",
      " C:\\Users\\Georgy\\Anaconda3\\lib\\site-packages\\arch\\univariate\\base.py:711: ConvergenceWarning:The optimizer returned code 8. The message is:\n",
      "Positive directional derivative for linesearch\n",
      "See scipy.optimize.fmin_slsqp for code meaning.\n",
      "\n",
      " C:\\Users\\Georgy\\Anaconda3\\lib\\site-packages\\arch\\univariate\\base.py:711: ConvergenceWarning:The optimizer returned code 8. The message is:\n",
      "Positive directional derivative for linesearch\n",
      "See scipy.optimize.fmin_slsqp for code meaning.\n",
      "\n",
      " C:\\Users\\Georgy\\Anaconda3\\lib\\site-packages\\arch\\univariate\\base.py:711: ConvergenceWarning:The optimizer returned code 8. The message is:\n",
      "Positive directional derivative for linesearch\n",
      "See scipy.optimize.fmin_slsqp for code meaning.\n",
      "\n",
      " C:\\Users\\Georgy\\Anaconda3\\lib\\site-packages\\arch\\univariate\\base.py:711: ConvergenceWarning:The optimizer returned code 8. The message is:\n",
      "Positive directional derivative for linesearch\n",
      "See scipy.optimize.fmin_slsqp for code meaning.\n",
      "\n",
      " C:\\Users\\Georgy\\Anaconda3\\lib\\site-packages\\arch\\univariate\\base.py:711: ConvergenceWarning:The optimizer returned code 8. The message is:\n",
      "Positive directional derivative for linesearch\n",
      "See scipy.optimize.fmin_slsqp for code meaning.\n",
      "\n",
      " C:\\Users\\Georgy\\Anaconda3\\lib\\site-packages\\arch\\univariate\\base.py:711: ConvergenceWarning:The optimizer returned code 8. The message is:\n",
      "Positive directional derivative for linesearch\n",
      "See scipy.optimize.fmin_slsqp for code meaning.\n",
      "\n",
      " C:\\Users\\Georgy\\Anaconda3\\lib\\site-packages\\arch\\univariate\\base.py:711: ConvergenceWarning:The optimizer returned code 8. The message is:\n",
      "Positive directional derivative for linesearch\n",
      "See scipy.optimize.fmin_slsqp for code meaning.\n",
      "\n",
      " C:\\Users\\Georgy\\Anaconda3\\lib\\site-packages\\arch\\univariate\\base.py:711: ConvergenceWarning:The optimizer returned code 8. The message is:\n",
      "Positive directional derivative for linesearch\n",
      "See scipy.optimize.fmin_slsqp for code meaning.\n",
      "\n",
      " C:\\Users\\Georgy\\Anaconda3\\lib\\site-packages\\arch\\univariate\\base.py:711: ConvergenceWarning:The optimizer returned code 8. The message is:\n",
      "Positive directional derivative for linesearch\n",
      "See scipy.optimize.fmin_slsqp for code meaning.\n",
      "\n"
     ]
    },
    {
     "name": "stdout",
     "output_type": "stream",
     "text": [
      "Модель GJR-GARCH: посчитана 4501 точка\n",
      "Модель GJR-GARCH: посчитана 5001 точка\n"
     ]
    },
    {
     "name": "stderr",
     "output_type": "stream",
     "text": [
      " C:\\Users\\Georgy\\Anaconda3\\lib\\site-packages\\arch\\univariate\\base.py:711: ConvergenceWarning:The optimizer returned code 8. The message is:\n",
      "Positive directional derivative for linesearch\n",
      "See scipy.optimize.fmin_slsqp for code meaning.\n",
      "\n"
     ]
    },
    {
     "name": "stdout",
     "output_type": "stream",
     "text": [
      "Модель GJR-GARCH: посчитана 5501 точка\n"
     ]
    },
    {
     "name": "stderr",
     "output_type": "stream",
     "text": [
      " C:\\Users\\Georgy\\Anaconda3\\lib\\site-packages\\arch\\univariate\\base.py:711: ConvergenceWarning:The optimizer returned code 8. The message is:\n",
      "Positive directional derivative for linesearch\n",
      "See scipy.optimize.fmin_slsqp for code meaning.\n",
      "\n",
      " C:\\Users\\Georgy\\Anaconda3\\lib\\site-packages\\arch\\univariate\\base.py:711: ConvergenceWarning:The optimizer returned code 8. The message is:\n",
      "Positive directional derivative for linesearch\n",
      "See scipy.optimize.fmin_slsqp for code meaning.\n",
      "\n",
      " C:\\Users\\Georgy\\Anaconda3\\lib\\site-packages\\arch\\univariate\\base.py:711: ConvergenceWarning:The optimizer returned code 8. The message is:\n",
      "Positive directional derivative for linesearch\n",
      "See scipy.optimize.fmin_slsqp for code meaning.\n",
      "\n",
      " C:\\Users\\Georgy\\Anaconda3\\lib\\site-packages\\arch\\univariate\\base.py:711: ConvergenceWarning:The optimizer returned code 8. The message is:\n",
      "Positive directional derivative for linesearch\n",
      "See scipy.optimize.fmin_slsqp for code meaning.\n",
      "\n",
      " C:\\Users\\Georgy\\Anaconda3\\lib\\site-packages\\arch\\univariate\\base.py:711: ConvergenceWarning:The optimizer returned code 8. The message is:\n",
      "Positive directional derivative for linesearch\n",
      "See scipy.optimize.fmin_slsqp for code meaning.\n",
      "\n",
      " C:\\Users\\Georgy\\Anaconda3\\lib\\site-packages\\arch\\univariate\\base.py:711: ConvergenceWarning:The optimizer returned code 8. The message is:\n",
      "Positive directional derivative for linesearch\n",
      "See scipy.optimize.fmin_slsqp for code meaning.\n",
      "\n",
      " C:\\Users\\Georgy\\Anaconda3\\lib\\site-packages\\arch\\univariate\\base.py:711: ConvergenceWarning:The optimizer returned code 8. The message is:\n",
      "Positive directional derivative for linesearch\n",
      "See scipy.optimize.fmin_slsqp for code meaning.\n",
      "\n",
      " C:\\Users\\Georgy\\Anaconda3\\lib\\site-packages\\arch\\univariate\\base.py:711: ConvergenceWarning:The optimizer returned code 8. The message is:\n",
      "Positive directional derivative for linesearch\n",
      "See scipy.optimize.fmin_slsqp for code meaning.\n",
      "\n"
     ]
    },
    {
     "name": "stdout",
     "output_type": "stream",
     "text": [
      "Модель GJR-GARCH: посчитана 6001 точка\n"
     ]
    },
    {
     "name": "stderr",
     "output_type": "stream",
     "text": [
      " C:\\Users\\Georgy\\Anaconda3\\lib\\site-packages\\arch\\univariate\\base.py:711: ConvergenceWarning:The optimizer returned code 8. The message is:\n",
      "Positive directional derivative for linesearch\n",
      "See scipy.optimize.fmin_slsqp for code meaning.\n",
      "\n",
      " C:\\Users\\Georgy\\Anaconda3\\lib\\site-packages\\arch\\univariate\\base.py:711: ConvergenceWarning:The optimizer returned code 8. The message is:\n",
      "Positive directional derivative for linesearch\n",
      "See scipy.optimize.fmin_slsqp for code meaning.\n",
      "\n"
     ]
    },
    {
     "name": "stdout",
     "output_type": "stream",
     "text": [
      "Выполнено за 0:04:46.778110\n",
      "Модель TARCH/ZARCH: посчитана 1 точка\n",
      "Модель TARCH/ZARCH: посчитана 501 точка\n",
      "Модель TARCH/ZARCH: посчитана 1001 точка\n",
      "Модель TARCH/ZARCH: посчитана 1501 точка\n"
     ]
    },
    {
     "name": "stderr",
     "output_type": "stream",
     "text": [
      " C:\\Users\\Georgy\\Anaconda3\\lib\\site-packages\\arch\\univariate\\base.py:711: ConvergenceWarning:The optimizer returned code 8. The message is:\n",
      "Positive directional derivative for linesearch\n",
      "See scipy.optimize.fmin_slsqp for code meaning.\n",
      "\n",
      " C:\\Users\\Georgy\\Anaconda3\\lib\\site-packages\\arch\\univariate\\base.py:711: ConvergenceWarning:The optimizer returned code 8. The message is:\n",
      "Positive directional derivative for linesearch\n",
      "See scipy.optimize.fmin_slsqp for code meaning.\n",
      "\n",
      " C:\\Users\\Georgy\\Anaconda3\\lib\\site-packages\\arch\\univariate\\base.py:711: ConvergenceWarning:The optimizer returned code 8. The message is:\n",
      "Positive directional derivative for linesearch\n",
      "See scipy.optimize.fmin_slsqp for code meaning.\n",
      "\n"
     ]
    },
    {
     "name": "stdout",
     "output_type": "stream",
     "text": [
      "Модель TARCH/ZARCH: посчитана 2001 точка\n"
     ]
    },
    {
     "name": "stderr",
     "output_type": "stream",
     "text": [
      " C:\\Users\\Georgy\\Anaconda3\\lib\\site-packages\\arch\\univariate\\base.py:711: ConvergenceWarning:The optimizer returned code 8. The message is:\n",
      "Positive directional derivative for linesearch\n",
      "See scipy.optimize.fmin_slsqp for code meaning.\n",
      "\n",
      " C:\\Users\\Georgy\\Anaconda3\\lib\\site-packages\\arch\\univariate\\base.py:711: ConvergenceWarning:The optimizer returned code 8. The message is:\n",
      "Positive directional derivative for linesearch\n",
      "See scipy.optimize.fmin_slsqp for code meaning.\n",
      "\n",
      " C:\\Users\\Georgy\\Anaconda3\\lib\\site-packages\\arch\\univariate\\base.py:711: ConvergenceWarning:The optimizer returned code 8. The message is:\n",
      "Positive directional derivative for linesearch\n",
      "See scipy.optimize.fmin_slsqp for code meaning.\n",
      "\n"
     ]
    },
    {
     "name": "stdout",
     "output_type": "stream",
     "text": [
      "Модель TARCH/ZARCH: посчитана 2501 точка\n"
     ]
    },
    {
     "name": "stderr",
     "output_type": "stream",
     "text": [
      " C:\\Users\\Georgy\\Anaconda3\\lib\\site-packages\\arch\\univariate\\base.py:711: ConvergenceWarning:The optimizer returned code 8. The message is:\n",
      "Positive directional derivative for linesearch\n",
      "See scipy.optimize.fmin_slsqp for code meaning.\n",
      "\n"
     ]
    },
    {
     "name": "stdout",
     "output_type": "stream",
     "text": [
      "Модель TARCH/ZARCH: посчитана 3001 точка\n"
     ]
    },
    {
     "name": "stderr",
     "output_type": "stream",
     "text": [
      " C:\\Users\\Georgy\\Anaconda3\\lib\\site-packages\\arch\\univariate\\base.py:711: ConvergenceWarning:The optimizer returned code 8. The message is:\n",
      "Positive directional derivative for linesearch\n",
      "See scipy.optimize.fmin_slsqp for code meaning.\n",
      "\n",
      " C:\\Users\\Georgy\\Anaconda3\\lib\\site-packages\\arch\\univariate\\base.py:711: ConvergenceWarning:The optimizer returned code 8. The message is:\n",
      "Positive directional derivative for linesearch\n",
      "See scipy.optimize.fmin_slsqp for code meaning.\n",
      "\n"
     ]
    },
    {
     "name": "stdout",
     "output_type": "stream",
     "text": [
      "Модель TARCH/ZARCH: посчитана 3501 точка\n",
      "Модель TARCH/ZARCH: посчитана 4001 точка\n",
      "Модель TARCH/ZARCH: посчитана 4501 точка\n",
      "Модель TARCH/ZARCH: посчитана 5001 точка\n",
      "Модель TARCH/ZARCH: посчитана 5501 точка\n",
      "Модель TARCH/ZARCH: посчитана 6001 точка\n",
      "Выполнено за 0:04:17.102967\n",
      "Модель GP (rbf): посчитана 1 точка\n",
      "Модель GP (rbf): посчитана 501 точка\n",
      "Модель GP (rbf): посчитана 1001 точка\n",
      "Модель GP (rbf): посчитана 1501 точка\n",
      "Модель GP (rbf): посчитана 2001 точка\n",
      "Модель GP (rbf): посчитана 2501 точка\n",
      "Модель GP (rbf): посчитана 3001 точка\n",
      "Модель GP (rbf): посчитана 3501 точка\n",
      "Модель GP (rbf): посчитана 4001 точка\n",
      "Модель GP (rbf): посчитана 4501 точка\n",
      "Модель GP (rbf): посчитана 5001 точка\n",
      "Модель GP (rbf): посчитана 5501 точка\n",
      "Модель GP (rbf): посчитана 6001 точка\n",
      "Выполнено за 0:22:19.380013\n",
      "Модель GP (Mat52): посчитана 1 точка\n",
      "Модель GP (Mat52): посчитана 501 точка\n",
      "Модель GP (Mat52): посчитана 1001 точка\n",
      "Модель GP (Mat52): посчитана 1501 точка\n",
      "Модель GP (Mat52): посчитана 2001 точка\n",
      "Модель GP (Mat52): посчитана 2501 точка\n",
      "Модель GP (Mat52): посчитана 3001 точка\n",
      "Модель GP (Mat52): посчитана 3501 точка\n",
      "Модель GP (Mat52): посчитана 4001 точка\n",
      "Модель GP (Mat52): посчитана 4501 точка\n",
      "Модель GP (Mat52): посчитана 5001 точка\n",
      "Модель GP (Mat52): посчитана 5501 точка\n",
      "Модель GP (Mat52): посчитана 6001 точка\n",
      "Выполнено за 0:23:38.280278\n",
      "\"Наивная\" модель. Выполнено за 0:00:00.006982\n",
      "Работа с активом Доллар США/Российский рубль\n",
      "-----------------------------------\n",
      "Модель GARCH: посчитана 1 точка\n",
      "Модель GARCH: посчитана 501 точка\n"
     ]
    },
    {
     "name": "stderr",
     "output_type": "stream",
     "text": [
      " C:\\Users\\Georgy\\Anaconda3\\lib\\site-packages\\arch\\univariate\\base.py:711: ConvergenceWarning:The optimizer returned code 8. The message is:\n",
      "Positive directional derivative for linesearch\n",
      "See scipy.optimize.fmin_slsqp for code meaning.\n",
      "\n",
      " C:\\Users\\Georgy\\Anaconda3\\lib\\site-packages\\arch\\univariate\\base.py:711: ConvergenceWarning:The optimizer returned code 8. The message is:\n",
      "Positive directional derivative for linesearch\n",
      "See scipy.optimize.fmin_slsqp for code meaning.\n",
      "\n"
     ]
    },
    {
     "name": "stdout",
     "output_type": "stream",
     "text": [
      "Модель GARCH: посчитана 1001 точка\n",
      "Модель GARCH: посчитана 1501 точка\n",
      "Модель GARCH: посчитана 2001 точка\n"
     ]
    },
    {
     "name": "stderr",
     "output_type": "stream",
     "text": [
      " C:\\Users\\Georgy\\Anaconda3\\lib\\site-packages\\arch\\univariate\\base.py:711: ConvergenceWarning:The optimizer returned code 8. The message is:\n",
      "Positive directional derivative for linesearch\n",
      "See scipy.optimize.fmin_slsqp for code meaning.\n",
      "\n"
     ]
    },
    {
     "name": "stdout",
     "output_type": "stream",
     "text": [
      "Модель GARCH: посчитана 2501 точка\n",
      "Модель GARCH: посчитана 3001 точка\n"
     ]
    },
    {
     "name": "stderr",
     "output_type": "stream",
     "text": [
      " C:\\Users\\Georgy\\Anaconda3\\lib\\site-packages\\arch\\univariate\\base.py:711: ConvergenceWarning:The optimizer returned code 8. The message is:\n",
      "Positive directional derivative for linesearch\n",
      "See scipy.optimize.fmin_slsqp for code meaning.\n",
      "\n"
     ]
    },
    {
     "name": "stdout",
     "output_type": "stream",
     "text": [
      "Модель GARCH: посчитана 3501 точка\n",
      "Модель GARCH: посчитана 4001 точка\n"
     ]
    },
    {
     "name": "stderr",
     "output_type": "stream",
     "text": [
      " C:\\Users\\Georgy\\Anaconda3\\lib\\site-packages\\arch\\univariate\\base.py:711: ConvergenceWarning:The optimizer returned code 8. The message is:\n",
      "Positive directional derivative for linesearch\n",
      "See scipy.optimize.fmin_slsqp for code meaning.\n",
      "\n",
      " C:\\Users\\Georgy\\Anaconda3\\lib\\site-packages\\arch\\univariate\\base.py:711: ConvergenceWarning:The optimizer returned code 8. The message is:\n",
      "Positive directional derivative for linesearch\n",
      "See scipy.optimize.fmin_slsqp for code meaning.\n",
      "\n",
      " C:\\Users\\Georgy\\Anaconda3\\lib\\site-packages\\arch\\univariate\\base.py:711: ConvergenceWarning:The optimizer returned code 8. The message is:\n",
      "Positive directional derivative for linesearch\n",
      "See scipy.optimize.fmin_slsqp for code meaning.\n",
      "\n",
      " C:\\Users\\Georgy\\Anaconda3\\lib\\site-packages\\arch\\univariate\\base.py:711: ConvergenceWarning:The optimizer returned code 8. The message is:\n",
      "Positive directional derivative for linesearch\n",
      "See scipy.optimize.fmin_slsqp for code meaning.\n",
      "\n"
     ]
    },
    {
     "name": "stdout",
     "output_type": "stream",
     "text": [
      "Модель GARCH: посчитана 4501 точка\n",
      "Модель GARCH: посчитана 5001 точка\n",
      "Модель GARCH: посчитана 5501 точка\n",
      "Модель GARCH: посчитана 6001 точка\n",
      "Выполнено за 0:03:15.049328\n",
      "Модель GJR-GARCH: посчитана 1 точка\n"
     ]
    },
    {
     "name": "stderr",
     "output_type": "stream",
     "text": [
      " C:\\Users\\Georgy\\Anaconda3\\lib\\site-packages\\arch\\univariate\\base.py:711: ConvergenceWarning:The optimizer returned code 8. The message is:\n",
      "Positive directional derivative for linesearch\n",
      "See scipy.optimize.fmin_slsqp for code meaning.\n",
      "\n",
      " C:\\Users\\Georgy\\Anaconda3\\lib\\site-packages\\arch\\univariate\\base.py:711: ConvergenceWarning:The optimizer returned code 8. The message is:\n",
      "Positive directional derivative for linesearch\n",
      "See scipy.optimize.fmin_slsqp for code meaning.\n",
      "\n",
      " C:\\Users\\Georgy\\Anaconda3\\lib\\site-packages\\arch\\univariate\\base.py:711: ConvergenceWarning:The optimizer returned code 8. The message is:\n",
      "Positive directional derivative for linesearch\n",
      "See scipy.optimize.fmin_slsqp for code meaning.\n",
      "\n",
      " C:\\Users\\Georgy\\Anaconda3\\lib\\site-packages\\arch\\univariate\\base.py:711: ConvergenceWarning:The optimizer returned code 8. The message is:\n",
      "Positive directional derivative for linesearch\n",
      "See scipy.optimize.fmin_slsqp for code meaning.\n",
      "\n",
      " C:\\Users\\Georgy\\Anaconda3\\lib\\site-packages\\arch\\univariate\\base.py:711: ConvergenceWarning:The optimizer returned code 8. The message is:\n",
      "Positive directional derivative for linesearch\n",
      "See scipy.optimize.fmin_slsqp for code meaning.\n",
      "\n"
     ]
    },
    {
     "name": "stdout",
     "output_type": "stream",
     "text": [
      "Модель GJR-GARCH: посчитана 501 точка\n"
     ]
    },
    {
     "name": "stderr",
     "output_type": "stream",
     "text": [
      " C:\\Users\\Georgy\\Anaconda3\\lib\\site-packages\\arch\\univariate\\base.py:711: ConvergenceWarning:The optimizer returned code 8. The message is:\n",
      "Positive directional derivative for linesearch\n",
      "See scipy.optimize.fmin_slsqp for code meaning.\n",
      "\n",
      " C:\\Users\\Georgy\\Anaconda3\\lib\\site-packages\\arch\\univariate\\base.py:711: ConvergenceWarning:The optimizer returned code 8. The message is:\n",
      "Positive directional derivative for linesearch\n",
      "See scipy.optimize.fmin_slsqp for code meaning.\n",
      "\n",
      " C:\\Users\\Georgy\\Anaconda3\\lib\\site-packages\\arch\\univariate\\base.py:711: ConvergenceWarning:The optimizer returned code 8. The message is:\n",
      "Positive directional derivative for linesearch\n",
      "See scipy.optimize.fmin_slsqp for code meaning.\n",
      "\n",
      " C:\\Users\\Georgy\\Anaconda3\\lib\\site-packages\\arch\\univariate\\base.py:711: ConvergenceWarning:The optimizer returned code 8. The message is:\n",
      "Positive directional derivative for linesearch\n",
      "See scipy.optimize.fmin_slsqp for code meaning.\n",
      "\n",
      " C:\\Users\\Georgy\\Anaconda3\\lib\\site-packages\\arch\\univariate\\base.py:711: ConvergenceWarning:The optimizer returned code 8. The message is:\n",
      "Positive directional derivative for linesearch\n",
      "See scipy.optimize.fmin_slsqp for code meaning.\n",
      "\n"
     ]
    },
    {
     "name": "stdout",
     "output_type": "stream",
     "text": [
      "Модель GJR-GARCH: посчитана 1001 точка\n",
      "Модель GJR-GARCH: посчитана 1501 точка\n"
     ]
    },
    {
     "name": "stderr",
     "output_type": "stream",
     "text": [
      " C:\\Users\\Georgy\\Anaconda3\\lib\\site-packages\\arch\\univariate\\base.py:711: ConvergenceWarning:The optimizer returned code 8. The message is:\n",
      "Positive directional derivative for linesearch\n",
      "See scipy.optimize.fmin_slsqp for code meaning.\n",
      "\n",
      " C:\\Users\\Georgy\\Anaconda3\\lib\\site-packages\\arch\\univariate\\base.py:711: ConvergenceWarning:The optimizer returned code 8. The message is:\n",
      "Positive directional derivative for linesearch\n",
      "See scipy.optimize.fmin_slsqp for code meaning.\n",
      "\n",
      " C:\\Users\\Georgy\\Anaconda3\\lib\\site-packages\\arch\\univariate\\base.py:711: ConvergenceWarning:The optimizer returned code 8. The message is:\n",
      "Positive directional derivative for linesearch\n",
      "See scipy.optimize.fmin_slsqp for code meaning.\n",
      "\n",
      " C:\\Users\\Georgy\\Anaconda3\\lib\\site-packages\\arch\\univariate\\base.py:711: ConvergenceWarning:The optimizer returned code 8. The message is:\n",
      "Positive directional derivative for linesearch\n",
      "See scipy.optimize.fmin_slsqp for code meaning.\n",
      "\n"
     ]
    },
    {
     "name": "stdout",
     "output_type": "stream",
     "text": [
      "Модель GJR-GARCH: посчитана 2001 точка\n"
     ]
    },
    {
     "name": "stderr",
     "output_type": "stream",
     "text": [
      " C:\\Users\\Georgy\\Anaconda3\\lib\\site-packages\\arch\\univariate\\base.py:711: ConvergenceWarning:The optimizer returned code 8. The message is:\n",
      "Positive directional derivative for linesearch\n",
      "See scipy.optimize.fmin_slsqp for code meaning.\n",
      "\n"
     ]
    },
    {
     "name": "stdout",
     "output_type": "stream",
     "text": [
      "Модель GJR-GARCH: посчитана 2501 точка\n",
      "Модель GJR-GARCH: посчитана 3001 точка\n"
     ]
    },
    {
     "name": "stderr",
     "output_type": "stream",
     "text": [
      " C:\\Users\\Georgy\\Anaconda3\\lib\\site-packages\\arch\\univariate\\base.py:711: ConvergenceWarning:The optimizer returned code 8. The message is:\n",
      "Positive directional derivative for linesearch\n",
      "See scipy.optimize.fmin_slsqp for code meaning.\n",
      "\n"
     ]
    },
    {
     "name": "stdout",
     "output_type": "stream",
     "text": [
      "Модель GJR-GARCH: посчитана 3501 точка\n",
      "Модель GJR-GARCH: посчитана 4001 точка\n",
      "Модель GJR-GARCH: посчитана 4501 точка\n",
      "Модель GJR-GARCH: посчитана 5001 точка\n",
      "Модель GJR-GARCH: посчитана 5501 точка\n"
     ]
    },
    {
     "name": "stderr",
     "output_type": "stream",
     "text": [
      " C:\\Users\\Georgy\\Anaconda3\\lib\\site-packages\\arch\\univariate\\base.py:711: ConvergenceWarning:The optimizer returned code 4. The message is:\n",
      "Inequality constraints incompatible\n",
      "See scipy.optimize.fmin_slsqp for code meaning.\n",
      "\n"
     ]
    },
    {
     "name": "stdout",
     "output_type": "stream",
     "text": [
      "Модель GJR-GARCH: посчитана 6001 точка\n",
      "Выполнено за 0:03:50.145151\n",
      "Модель TARCH/ZARCH: посчитана 1 точка\n",
      "Модель TARCH/ZARCH: посчитана 501 точка\n",
      "Модель TARCH/ZARCH: посчитана 1001 точка\n",
      "Модель TARCH/ZARCH: посчитана 1501 точка\n"
     ]
    },
    {
     "name": "stderr",
     "output_type": "stream",
     "text": [
      " C:\\Users\\Georgy\\Anaconda3\\lib\\site-packages\\arch\\univariate\\base.py:711: ConvergenceWarning:The optimizer returned code 8. The message is:\n",
      "Positive directional derivative for linesearch\n",
      "See scipy.optimize.fmin_slsqp for code meaning.\n",
      "\n"
     ]
    },
    {
     "name": "stdout",
     "output_type": "stream",
     "text": [
      "Модель TARCH/ZARCH: посчитана 2001 точка\n"
     ]
    },
    {
     "name": "stderr",
     "output_type": "stream",
     "text": [
      " C:\\Users\\Georgy\\Anaconda3\\lib\\site-packages\\arch\\univariate\\base.py:711: ConvergenceWarning:The optimizer returned code 8. The message is:\n",
      "Positive directional derivative for linesearch\n",
      "See scipy.optimize.fmin_slsqp for code meaning.\n",
      "\n"
     ]
    },
    {
     "name": "stdout",
     "output_type": "stream",
     "text": [
      "Модель TARCH/ZARCH: посчитана 2501 точка\n",
      "Модель TARCH/ZARCH: посчитана 3001 точка\n",
      "Модель TARCH/ZARCH: посчитана 3501 точка\n",
      "Модель TARCH/ZARCH: посчитана 4001 точка\n",
      "Модель TARCH/ZARCH: посчитана 4501 точка\n",
      "Модель TARCH/ZARCH: посчитана 5001 точка\n",
      "Модель TARCH/ZARCH: посчитана 5501 точка\n",
      "Модель TARCH/ZARCH: посчитана 6001 точка\n",
      "Выполнено за 0:04:37.244972\n",
      "Модель GP (rbf): посчитана 1 точка\n",
      "Модель GP (rbf): посчитана 501 точка\n",
      "Модель GP (rbf): посчитана 1001 точка\n",
      "Модель GP (rbf): посчитана 1501 точка\n",
      "Модель GP (rbf): посчитана 2001 точка\n",
      "Модель GP (rbf): посчитана 2501 точка\n",
      "Модель GP (rbf): посчитана 3001 точка\n",
      "Модель GP (rbf): посчитана 3501 точка\n",
      "Модель GP (rbf): посчитана 4001 точка\n",
      "Модель GP (rbf): посчитана 4501 точка\n",
      "Модель GP (rbf): посчитана 5001 точка\n",
      "Модель GP (rbf): посчитана 5501 точка\n",
      "Модель GP (rbf): посчитана 6001 точка\n",
      "Выполнено за 0:21:45.783942\n",
      "Модель GP (Mat52): посчитана 1 точка\n",
      "Модель GP (Mat52): посчитана 501 точка\n",
      "Модель GP (Mat52): посчитана 1001 точка\n",
      "Модель GP (Mat52): посчитана 1501 точка\n",
      "Модель GP (Mat52): посчитана 2001 точка\n",
      "Модель GP (Mat52): посчитана 2501 точка\n",
      "Модель GP (Mat52): посчитана 3001 точка\n",
      "Модель GP (Mat52): посчитана 3501 точка\n",
      "Модель GP (Mat52): посчитана 4001 точка\n",
      "Модель GP (Mat52): посчитана 4501 точка\n",
      "Модель GP (Mat52): посчитана 5001 точка\n",
      "Модель GP (Mat52): посчитана 5501 точка\n",
      "Модель GP (Mat52): посчитана 6001 точка\n",
      "Выполнено за 0:22:34.085491\n",
      "\"Наивная\" модель. Выполнено за 0:00:00.009972\n"
     ]
    }
   ],
   "source": [
    "results_currencies={}\n",
    "for currency_name in currencies:\n",
    "    results_currencies[currency_name] = {}\n",
    "    ts = data[currency_name]['return']\n",
    "    ts = ts.reset_index(drop=True)\n",
    "    \n",
    "    ts_for_GP = data[currency_name]['return_abs']\n",
    "   \n",
    "    print('Работа с активом {}'.format(mapping[currency_name]))\n",
    "    print('-----------------------------------')\n",
    "    for garch_param in garch_param_dict:\n",
    "        results_currencies[currency_name][garch_param] = fixed_window_garch(ts, model_params=garch_param_dict[garch_param])\n",
    "    for GP_kernel in GP_kernel_dict:\n",
    "        results_currencies[currency_name][GP_kernel] = fixed_window_GP(ts_for_GP, kernel=GP_kernel_dict[GP_kernel])\n",
    "    results_currencies[currency_name]['naive'] = fixed_window_naive(ts_for_GP)\n",
    "        "
   ]
  },
  {
   "cell_type": "code",
   "execution_count": 10,
   "metadata": {},
   "outputs": [
    {
     "name": "stdout",
     "output_type": "stream",
     "text": [
      "Работа с активом Алюминий (тонна/доллар США)\n",
      "-----------------------------------\n",
      "Модель GARCH: посчитана 1 точка\n"
     ]
    },
    {
     "name": "stderr",
     "output_type": "stream",
     "text": [
      " C:\\Users\\Georgy\\Anaconda3\\lib\\site-packages\\arch\\univariate\\base.py:711: ConvergenceWarning:The optimizer returned code 8. The message is:\n",
      "Positive directional derivative for linesearch\n",
      "See scipy.optimize.fmin_slsqp for code meaning.\n",
      "\n"
     ]
    },
    {
     "name": "stdout",
     "output_type": "stream",
     "text": [
      "Модель GARCH: посчитана 501 точка\n",
      "Модель GARCH: посчитана 1001 точка\n"
     ]
    },
    {
     "name": "stderr",
     "output_type": "stream",
     "text": [
      " C:\\Users\\Georgy\\Anaconda3\\lib\\site-packages\\arch\\univariate\\base.py:711: ConvergenceWarning:The optimizer returned code 8. The message is:\n",
      "Positive directional derivative for linesearch\n",
      "See scipy.optimize.fmin_slsqp for code meaning.\n",
      "\n",
      " C:\\Users\\Georgy\\Anaconda3\\lib\\site-packages\\arch\\univariate\\base.py:711: ConvergenceWarning:The optimizer returned code 8. The message is:\n",
      "Positive directional derivative for linesearch\n",
      "See scipy.optimize.fmin_slsqp for code meaning.\n",
      "\n",
      " C:\\Users\\Georgy\\Anaconda3\\lib\\site-packages\\arch\\univariate\\base.py:711: ConvergenceWarning:The optimizer returned code 8. The message is:\n",
      "Positive directional derivative for linesearch\n",
      "See scipy.optimize.fmin_slsqp for code meaning.\n",
      "\n",
      " C:\\Users\\Georgy\\Anaconda3\\lib\\site-packages\\arch\\univariate\\base.py:711: ConvergenceWarning:The optimizer returned code 8. The message is:\n",
      "Positive directional derivative for linesearch\n",
      "See scipy.optimize.fmin_slsqp for code meaning.\n",
      "\n"
     ]
    },
    {
     "name": "stdout",
     "output_type": "stream",
     "text": [
      "Модель GARCH: посчитана 1501 точка\n",
      "Модель GARCH: посчитана 2001 точка\n",
      "Модель GARCH: посчитана 2501 точка\n",
      "Модель GARCH: посчитана 3001 точка\n",
      "Модель GARCH: посчитана 3501 точка\n",
      "Модель GARCH: посчитана 4001 точка\n",
      "Модель GARCH: посчитана 4501 точка\n",
      "Выполнено за 0:02:21.318605\n",
      "Модель GJR-GARCH: посчитана 1 точка\n",
      "Модель GJR-GARCH: посчитана 501 точка\n"
     ]
    },
    {
     "name": "stderr",
     "output_type": "stream",
     "text": [
      " C:\\Users\\Georgy\\Anaconda3\\lib\\site-packages\\arch\\univariate\\base.py:711: ConvergenceWarning:The optimizer returned code 8. The message is:\n",
      "Positive directional derivative for linesearch\n",
      "See scipy.optimize.fmin_slsqp for code meaning.\n",
      "\n"
     ]
    },
    {
     "name": "stdout",
     "output_type": "stream",
     "text": [
      "Модель GJR-GARCH: посчитана 1001 точка\n"
     ]
    },
    {
     "name": "stderr",
     "output_type": "stream",
     "text": [
      " C:\\Users\\Georgy\\Anaconda3\\lib\\site-packages\\arch\\univariate\\base.py:711: ConvergenceWarning:The optimizer returned code 8. The message is:\n",
      "Positive directional derivative for linesearch\n",
      "See scipy.optimize.fmin_slsqp for code meaning.\n",
      "\n",
      " C:\\Users\\Georgy\\Anaconda3\\lib\\site-packages\\arch\\univariate\\base.py:711: ConvergenceWarning:The optimizer returned code 8. The message is:\n",
      "Positive directional derivative for linesearch\n",
      "See scipy.optimize.fmin_slsqp for code meaning.\n",
      "\n",
      " C:\\Users\\Georgy\\Anaconda3\\lib\\site-packages\\arch\\univariate\\base.py:711: ConvergenceWarning:The optimizer returned code 8. The message is:\n",
      "Positive directional derivative for linesearch\n",
      "See scipy.optimize.fmin_slsqp for code meaning.\n",
      "\n",
      " C:\\Users\\Georgy\\Anaconda3\\lib\\site-packages\\arch\\univariate\\base.py:711: ConvergenceWarning:The optimizer returned code 8. The message is:\n",
      "Positive directional derivative for linesearch\n",
      "See scipy.optimize.fmin_slsqp for code meaning.\n",
      "\n",
      " C:\\Users\\Georgy\\Anaconda3\\lib\\site-packages\\arch\\univariate\\base.py:711: ConvergenceWarning:The optimizer returned code 8. The message is:\n",
      "Positive directional derivative for linesearch\n",
      "See scipy.optimize.fmin_slsqp for code meaning.\n",
      "\n",
      " C:\\Users\\Georgy\\Anaconda3\\lib\\site-packages\\arch\\univariate\\base.py:711: ConvergenceWarning:The optimizer returned code 8. The message is:\n",
      "Positive directional derivative for linesearch\n",
      "See scipy.optimize.fmin_slsqp for code meaning.\n",
      "\n",
      " C:\\Users\\Georgy\\Anaconda3\\lib\\site-packages\\arch\\univariate\\base.py:711: ConvergenceWarning:The optimizer returned code 8. The message is:\n",
      "Positive directional derivative for linesearch\n",
      "See scipy.optimize.fmin_slsqp for code meaning.\n",
      "\n",
      " C:\\Users\\Georgy\\Anaconda3\\lib\\site-packages\\arch\\univariate\\base.py:711: ConvergenceWarning:The optimizer returned code 8. The message is:\n",
      "Positive directional derivative for linesearch\n",
      "See scipy.optimize.fmin_slsqp for code meaning.\n",
      "\n",
      " C:\\Users\\Georgy\\Anaconda3\\lib\\site-packages\\arch\\univariate\\base.py:711: ConvergenceWarning:The optimizer returned code 8. The message is:\n",
      "Positive directional derivative for linesearch\n",
      "See scipy.optimize.fmin_slsqp for code meaning.\n",
      "\n"
     ]
    },
    {
     "name": "stdout",
     "output_type": "stream",
     "text": [
      "Модель GJR-GARCH: посчитана 1501 точка\n",
      "Модель GJR-GARCH: посчитана 2001 точка\n",
      "Модель GJR-GARCH: посчитана 2501 точка\n",
      "Модель GJR-GARCH: посчитана 3001 точка\n",
      "Модель GJR-GARCH: посчитана 3501 точка\n",
      "Модель GJR-GARCH: посчитана 4001 точка\n",
      "Модель GJR-GARCH: посчитана 4501 точка\n",
      "Выполнено за 0:02:47.878730\n",
      "Модель TARCH/ZARCH: посчитана 1 точка\n",
      "Модель TARCH/ZARCH: посчитана 501 точка\n",
      "Модель TARCH/ZARCH: посчитана 1001 точка\n",
      "Модель TARCH/ZARCH: посчитана 1501 точка\n",
      "Модель TARCH/ZARCH: посчитана 2001 точка\n",
      "Модель TARCH/ZARCH: посчитана 2501 точка\n",
      "Модель TARCH/ZARCH: посчитана 3001 точка\n",
      "Модель TARCH/ZARCH: посчитана 3501 точка\n",
      "Модель TARCH/ZARCH: посчитана 4001 точка\n",
      "Модель TARCH/ZARCH: посчитана 4501 точка\n",
      "Выполнено за 0:02:53.684972\n",
      "Модель GP (rbf): посчитана 1 точка\n",
      "Модель GP (rbf): посчитана 501 точка\n",
      "Модель GP (rbf): посчитана 1001 точка\n",
      "Модель GP (rbf): посчитана 1501 точка\n",
      "Модель GP (rbf): посчитана 2001 точка\n",
      "Модель GP (rbf): посчитана 2501 точка\n",
      "Модель GP (rbf): посчитана 3001 точка\n",
      "Модель GP (rbf): посчитана 3501 точка\n",
      "Модель GP (rbf): посчитана 4001 точка\n",
      "Модель GP (rbf): посчитана 4501 точка\n",
      "Выполнено за 0:14:37.900118\n",
      "Модель GP (Mat52): посчитана 1 точка\n",
      "Модель GP (Mat52): посчитана 501 точка\n",
      "Модель GP (Mat52): посчитана 1001 точка\n",
      "Модель GP (Mat52): посчитана 1501 точка\n",
      "Модель GP (Mat52): посчитана 2001 точка\n",
      "Модель GP (Mat52): посчитана 2501 точка\n",
      "Модель GP (Mat52): посчитана 3001 точка\n",
      "Модель GP (Mat52): посчитана 3501 точка\n",
      "Модель GP (Mat52): посчитана 4001 точка\n",
      "Модель GP (Mat52): посчитана 4501 точка\n",
      "Выполнено за 0:16:24.412424\n",
      "\"Наивная\" модель. Выполнено за 0:00:00.016561\n",
      "Работа с активом Нефть марки Brent (баррель/доллар США)\n",
      "-----------------------------------\n",
      "Модель GARCH: посчитана 1 точка\n",
      "Модель GARCH: посчитана 501 точка\n",
      "Модель GARCH: посчитана 1001 точка\n",
      "Модель GARCH: посчитана 1501 точка\n",
      "Модель GARCH: посчитана 2001 точка\n",
      "Модель GARCH: посчитана 2501 точка\n",
      "Модель GARCH: посчитана 3001 точка\n",
      "Модель GARCH: посчитана 3501 точка\n",
      "Модель GARCH: посчитана 4001 точка\n",
      "Модель GARCH: посчитана 4501 точка\n",
      "Модель GARCH: посчитана 5001 точка\n",
      "Модель GARCH: посчитана 5501 точка\n",
      "Модель GARCH: посчитана 6001 точка\n",
      "Выполнено за 0:04:00.266678\n",
      "Модель GJR-GARCH: посчитана 1 точка\n"
     ]
    },
    {
     "name": "stderr",
     "output_type": "stream",
     "text": [
      " C:\\Users\\Georgy\\Anaconda3\\lib\\site-packages\\arch\\univariate\\base.py:711: ConvergenceWarning:The optimizer returned code 8. The message is:\n",
      "Positive directional derivative for linesearch\n",
      "See scipy.optimize.fmin_slsqp for code meaning.\n",
      "\n"
     ]
    },
    {
     "name": "stdout",
     "output_type": "stream",
     "text": [
      "Модель GJR-GARCH: посчитана 501 точка\n",
      "Модель GJR-GARCH: посчитана 1001 точка\n",
      "Модель GJR-GARCH: посчитана 1501 точка\n",
      "Модель GJR-GARCH: посчитана 2001 точка\n",
      "Модель GJR-GARCH: посчитана 2501 точка\n"
     ]
    },
    {
     "name": "stderr",
     "output_type": "stream",
     "text": [
      " C:\\Users\\Georgy\\Anaconda3\\lib\\site-packages\\arch\\univariate\\base.py:711: ConvergenceWarning:The optimizer returned code 8. The message is:\n",
      "Positive directional derivative for linesearch\n",
      "See scipy.optimize.fmin_slsqp for code meaning.\n",
      "\n"
     ]
    },
    {
     "name": "stdout",
     "output_type": "stream",
     "text": [
      "Модель GJR-GARCH: посчитана 3001 точка\n",
      "Модель GJR-GARCH: посчитана 3501 точка\n",
      "Модель GJR-GARCH: посчитана 4001 точка\n",
      "Модель GJR-GARCH: посчитана 4501 точка\n"
     ]
    },
    {
     "name": "stderr",
     "output_type": "stream",
     "text": [
      " C:\\Users\\Georgy\\Anaconda3\\lib\\site-packages\\arch\\univariate\\base.py:711: ConvergenceWarning:The optimizer returned code 8. The message is:\n",
      "Positive directional derivative for linesearch\n",
      "See scipy.optimize.fmin_slsqp for code meaning.\n",
      "\n",
      " C:\\Users\\Georgy\\Anaconda3\\lib\\site-packages\\arch\\univariate\\base.py:711: ConvergenceWarning:The optimizer returned code 8. The message is:\n",
      "Positive directional derivative for linesearch\n",
      "See scipy.optimize.fmin_slsqp for code meaning.\n",
      "\n"
     ]
    },
    {
     "name": "stdout",
     "output_type": "stream",
     "text": [
      "Модель GJR-GARCH: посчитана 5001 точка\n",
      "Модель GJR-GARCH: посчитана 5501 точка\n",
      "Модель GJR-GARCH: посчитана 6001 точка\n",
      "Выполнено за 0:04:28.121318\n",
      "Модель TARCH/ZARCH: посчитана 1 точка\n",
      "Модель TARCH/ZARCH: посчитана 501 точка\n"
     ]
    },
    {
     "name": "stderr",
     "output_type": "stream",
     "text": [
      " C:\\Users\\Georgy\\Anaconda3\\lib\\site-packages\\arch\\univariate\\base.py:711: ConvergenceWarning:The optimizer returned code 8. The message is:\n",
      "Positive directional derivative for linesearch\n",
      "See scipy.optimize.fmin_slsqp for code meaning.\n",
      "\n"
     ]
    },
    {
     "name": "stdout",
     "output_type": "stream",
     "text": [
      "Модель TARCH/ZARCH: посчитана 1001 точка\n",
      "Модель TARCH/ZARCH: посчитана 1501 точка\n",
      "Модель TARCH/ZARCH: посчитана 2001 точка\n",
      "Модель TARCH/ZARCH: посчитана 2501 точка\n",
      "Модель TARCH/ZARCH: посчитана 3001 точка\n",
      "Модель TARCH/ZARCH: посчитана 3501 точка\n",
      "Модель TARCH/ZARCH: посчитана 4001 точка\n",
      "Модель TARCH/ZARCH: посчитана 4501 точка\n"
     ]
    },
    {
     "name": "stderr",
     "output_type": "stream",
     "text": [
      " C:\\Users\\Georgy\\Anaconda3\\lib\\site-packages\\arch\\univariate\\base.py:711: ConvergenceWarning:The optimizer returned code 8. The message is:\n",
      "Positive directional derivative for linesearch\n",
      "See scipy.optimize.fmin_slsqp for code meaning.\n",
      "\n",
      " C:\\Users\\Georgy\\Anaconda3\\lib\\site-packages\\arch\\univariate\\base.py:711: ConvergenceWarning:The optimizer returned code 8. The message is:\n",
      "Positive directional derivative for linesearch\n",
      "See scipy.optimize.fmin_slsqp for code meaning.\n",
      "\n"
     ]
    },
    {
     "name": "stdout",
     "output_type": "stream",
     "text": [
      "Модель TARCH/ZARCH: посчитана 5001 точка\n",
      "Модель TARCH/ZARCH: посчитана 5501 точка\n",
      "Модель TARCH/ZARCH: посчитана 6001 точка\n",
      "Выполнено за 0:04:10.887642\n",
      "Модель GP (rbf): посчитана 1 точка\n",
      "Модель GP (rbf): посчитана 501 точка\n",
      "Модель GP (rbf): посчитана 1001 точка\n",
      "Модель GP (rbf): посчитана 1501 точка\n",
      "Модель GP (rbf): посчитана 2001 точка\n",
      "Модель GP (rbf): посчитана 2501 точка\n",
      "Модель GP (rbf): посчитана 3001 точка\n",
      "Модель GP (rbf): посчитана 3501 точка\n",
      "Модель GP (rbf): посчитана 4001 точка\n",
      "Модель GP (rbf): посчитана 4501 точка\n",
      "Модель GP (rbf): посчитана 5001 точка\n",
      "Модель GP (rbf): посчитана 5501 точка\n",
      "Модель GP (rbf): посчитана 6001 точка\n",
      "Выполнено за 0:17:08.173458\n",
      "Модель GP (Mat52): посчитана 1 точка\n",
      "Модель GP (Mat52): посчитана 501 точка\n",
      "Модель GP (Mat52): посчитана 1001 точка\n",
      "Модель GP (Mat52): посчитана 1501 точка\n",
      "Модель GP (Mat52): посчитана 2001 точка\n",
      "Модель GP (Mat52): посчитана 2501 точка\n",
      "Модель GP (Mat52): посчитана 3001 точка\n",
      "Модель GP (Mat52): посчитана 3501 точка\n",
      "Модель GP (Mat52): посчитана 4001 точка\n",
      "Модель GP (Mat52): посчитана 4501 точка\n",
      "Модель GP (Mat52): посчитана 5001 точка\n",
      "Модель GP (Mat52): посчитана 5501 точка\n",
      "Модель GP (Mat52): посчитана 6001 точка\n",
      "Выполнено за 0:18:37.814871\n",
      "\"Наивная\" модель. Выполнено за 0:00:00\n",
      "Работа с активом Золото (унция/доллар США)\n",
      "-----------------------------------\n",
      "Модель GARCH: посчитана 1 точка\n",
      "Модель GARCH: посчитана 501 точка\n",
      "Модель GARCH: посчитана 1001 точка\n"
     ]
    },
    {
     "name": "stderr",
     "output_type": "stream",
     "text": [
      " C:\\Users\\Georgy\\Anaconda3\\lib\\site-packages\\arch\\univariate\\base.py:711: ConvergenceWarning:The optimizer returned code 8. The message is:\n",
      "Positive directional derivative for linesearch\n",
      "See scipy.optimize.fmin_slsqp for code meaning.\n",
      "\n"
     ]
    },
    {
     "name": "stdout",
     "output_type": "stream",
     "text": [
      "Модель GARCH: посчитана 1501 точка\n",
      "Модель GARCH: посчитана 2001 точка\n",
      "Модель GARCH: посчитана 2501 точка\n",
      "Модель GARCH: посчитана 3001 точка\n",
      "Модель GARCH: посчитана 3501 точка\n",
      "Модель GARCH: посчитана 4001 точка\n"
     ]
    },
    {
     "name": "stderr",
     "output_type": "stream",
     "text": [
      " C:\\Users\\Georgy\\Anaconda3\\lib\\site-packages\\arch\\univariate\\base.py:711: ConvergenceWarning:The optimizer returned code 8. The message is:\n",
      "Positive directional derivative for linesearch\n",
      "See scipy.optimize.fmin_slsqp for code meaning.\n",
      "\n"
     ]
    },
    {
     "name": "stdout",
     "output_type": "stream",
     "text": [
      "Модель GARCH: посчитана 4501 точка\n",
      "Модель GARCH: посчитана 5001 точка\n"
     ]
    },
    {
     "name": "stderr",
     "output_type": "stream",
     "text": [
      " C:\\Users\\Georgy\\Anaconda3\\lib\\site-packages\\arch\\univariate\\base.py:711: ConvergenceWarning:The optimizer returned code 8. The message is:\n",
      "Positive directional derivative for linesearch\n",
      "See scipy.optimize.fmin_slsqp for code meaning.\n",
      "\n"
     ]
    },
    {
     "name": "stdout",
     "output_type": "stream",
     "text": [
      "Модель GARCH: посчитана 5501 точка\n",
      "Выполнено за 0:02:44.538081\n",
      "Модель GJR-GARCH: посчитана 1 точка\n"
     ]
    },
    {
     "name": "stderr",
     "output_type": "stream",
     "text": [
      " C:\\Users\\Georgy\\Anaconda3\\lib\\site-packages\\arch\\univariate\\base.py:711: ConvergenceWarning:The optimizer returned code 8. The message is:\n",
      "Positive directional derivative for linesearch\n",
      "See scipy.optimize.fmin_slsqp for code meaning.\n",
      "\n"
     ]
    },
    {
     "name": "stdout",
     "output_type": "stream",
     "text": [
      "Модель GJR-GARCH: посчитана 501 точка\n",
      "Модель GJR-GARCH: посчитана 1001 точка\n",
      "Модель GJR-GARCH: посчитана 1501 точка\n",
      "Модель GJR-GARCH: посчитана 2001 точка\n"
     ]
    },
    {
     "name": "stderr",
     "output_type": "stream",
     "text": [
      " C:\\Users\\Georgy\\Anaconda3\\lib\\site-packages\\arch\\univariate\\base.py:711: ConvergenceWarning:The optimizer returned code 8. The message is:\n",
      "Positive directional derivative for linesearch\n",
      "See scipy.optimize.fmin_slsqp for code meaning.\n",
      "\n"
     ]
    },
    {
     "name": "stdout",
     "output_type": "stream",
     "text": [
      "Модель GJR-GARCH: посчитана 2501 точка\n",
      "Модель GJR-GARCH: посчитана 3001 точка\n",
      "Модель GJR-GARCH: посчитана 3501 точка\n",
      "Модель GJR-GARCH: посчитана 4001 точка\n"
     ]
    },
    {
     "name": "stderr",
     "output_type": "stream",
     "text": [
      " C:\\Users\\Georgy\\Anaconda3\\lib\\site-packages\\arch\\univariate\\base.py:711: ConvergenceWarning:The optimizer returned code 8. The message is:\n",
      "Positive directional derivative for linesearch\n",
      "See scipy.optimize.fmin_slsqp for code meaning.\n",
      "\n"
     ]
    },
    {
     "name": "stdout",
     "output_type": "stream",
     "text": [
      "Модель GJR-GARCH: посчитана 4501 точка\n",
      "Модель GJR-GARCH: посчитана 5001 точка\n",
      "Модель GJR-GARCH: посчитана 5501 точка\n",
      "Выполнено за 0:03:17.675356\n",
      "Модель TARCH/ZARCH: посчитана 1 точка\n"
     ]
    },
    {
     "name": "stderr",
     "output_type": "stream",
     "text": [
      " C:\\Users\\Georgy\\Anaconda3\\lib\\site-packages\\arch\\univariate\\base.py:711: ConvergenceWarning:The optimizer returned code 8. The message is:\n",
      "Positive directional derivative for linesearch\n",
      "See scipy.optimize.fmin_slsqp for code meaning.\n",
      "\n",
      " C:\\Users\\Georgy\\Anaconda3\\lib\\site-packages\\arch\\univariate\\base.py:711: ConvergenceWarning:The optimizer returned code 8. The message is:\n",
      "Positive directional derivative for linesearch\n",
      "See scipy.optimize.fmin_slsqp for code meaning.\n",
      "\n"
     ]
    },
    {
     "name": "stdout",
     "output_type": "stream",
     "text": [
      "Модель TARCH/ZARCH: посчитана 501 точка\n",
      "Модель TARCH/ZARCH: посчитана 1001 точка\n",
      "Модель TARCH/ZARCH: посчитана 1501 точка\n",
      "Модель TARCH/ZARCH: посчитана 2001 точка\n"
     ]
    },
    {
     "name": "stderr",
     "output_type": "stream",
     "text": [
      " C:\\Users\\Georgy\\Anaconda3\\lib\\site-packages\\arch\\univariate\\base.py:711: ConvergenceWarning:The optimizer returned code 8. The message is:\n",
      "Positive directional derivative for linesearch\n",
      "See scipy.optimize.fmin_slsqp for code meaning.\n",
      "\n"
     ]
    },
    {
     "name": "stdout",
     "output_type": "stream",
     "text": [
      "Модель TARCH/ZARCH: посчитана 2501 точка\n",
      "Модель TARCH/ZARCH: посчитана 3001 точка\n",
      "Модель TARCH/ZARCH: посчитана 3501 точка\n",
      "Модель TARCH/ZARCH: посчитана 4001 точка\n",
      "Модель TARCH/ZARCH: посчитана 4501 точка\n",
      "Модель TARCH/ZARCH: посчитана 5001 точка\n"
     ]
    },
    {
     "name": "stderr",
     "output_type": "stream",
     "text": [
      " C:\\Users\\Georgy\\Anaconda3\\lib\\site-packages\\arch\\univariate\\base.py:711: ConvergenceWarning:The optimizer returned code 8. The message is:\n",
      "Positive directional derivative for linesearch\n",
      "See scipy.optimize.fmin_slsqp for code meaning.\n",
      "\n"
     ]
    },
    {
     "name": "stdout",
     "output_type": "stream",
     "text": [
      "Модель TARCH/ZARCH: посчитана 5501 точка\n",
      "Выполнено за 0:03:19.876595\n",
      "Модель GP (rbf): посчитана 1 точка\n",
      "Модель GP (rbf): посчитана 501 точка\n",
      "Модель GP (rbf): посчитана 1001 точка\n",
      "Модель GP (rbf): посчитана 1501 точка\n",
      "Модель GP (rbf): посчитана 2001 точка\n",
      "Модель GP (rbf): посчитана 2501 точка\n",
      "Модель GP (rbf): посчитана 3001 точка\n",
      "Модель GP (rbf): посчитана 3501 точка\n",
      "Модель GP (rbf): посчитана 4001 точка\n",
      "Модель GP (rbf): посчитана 4501 точка\n",
      "Модель GP (rbf): посчитана 5001 точка\n",
      "Модель GP (rbf): посчитана 5501 точка\n",
      "Выполнено за 0:19:07.753297\n",
      "Модель GP (Mat52): посчитана 1 точка\n",
      "Модель GP (Mat52): посчитана 501 точка\n",
      "Модель GP (Mat52): посчитана 1001 точка\n",
      "Модель GP (Mat52): посчитана 1501 точка\n",
      "Модель GP (Mat52): посчитана 2001 точка\n",
      "Модель GP (Mat52): посчитана 2501 точка\n",
      "Модель GP (Mat52): посчитана 3001 точка\n",
      "Модель GP (Mat52): посчитана 3501 точка\n",
      "Модель GP (Mat52): посчитана 4001 точка\n",
      "Модель GP (Mat52): посчитана 4501 точка\n",
      "Модель GP (Mat52): посчитана 5001 точка\n",
      "Модель GP (Mat52): посчитана 5501 точка\n",
      "Выполнено за 0:18:46.359192\n",
      "\"Наивная\" модель. Выполнено за 0:00:00.006981\n",
      "Работа с активом Никель (тонна/доллар США)\n",
      "-----------------------------------\n",
      "Модель GARCH: посчитана 1 точка\n"
     ]
    },
    {
     "name": "stderr",
     "output_type": "stream",
     "text": [
      " C:\\Users\\Georgy\\Anaconda3\\lib\\site-packages\\arch\\univariate\\base.py:711: ConvergenceWarning:The optimizer returned code 8. The message is:\n",
      "Positive directional derivative for linesearch\n",
      "See scipy.optimize.fmin_slsqp for code meaning.\n",
      "\n",
      " C:\\Users\\Georgy\\Anaconda3\\lib\\site-packages\\arch\\univariate\\base.py:711: ConvergenceWarning:The optimizer returned code 8. The message is:\n",
      "Positive directional derivative for linesearch\n",
      "See scipy.optimize.fmin_slsqp for code meaning.\n",
      "\n",
      " C:\\Users\\Georgy\\Anaconda3\\lib\\site-packages\\arch\\univariate\\base.py:711: ConvergenceWarning:The optimizer returned code 8. The message is:\n",
      "Positive directional derivative for linesearch\n",
      "See scipy.optimize.fmin_slsqp for code meaning.\n",
      "\n",
      " C:\\Users\\Georgy\\Anaconda3\\lib\\site-packages\\arch\\univariate\\base.py:711: ConvergenceWarning:The optimizer returned code 8. The message is:\n",
      "Positive directional derivative for linesearch\n",
      "See scipy.optimize.fmin_slsqp for code meaning.\n",
      "\n",
      " C:\\Users\\Georgy\\Anaconda3\\lib\\site-packages\\arch\\univariate\\base.py:711: ConvergenceWarning:The optimizer returned code 8. The message is:\n",
      "Positive directional derivative for linesearch\n",
      "See scipy.optimize.fmin_slsqp for code meaning.\n",
      "\n",
      " C:\\Users\\Georgy\\Anaconda3\\lib\\site-packages\\arch\\univariate\\base.py:711: ConvergenceWarning:The optimizer returned code 8. The message is:\n",
      "Positive directional derivative for linesearch\n",
      "See scipy.optimize.fmin_slsqp for code meaning.\n",
      "\n",
      " C:\\Users\\Georgy\\Anaconda3\\lib\\site-packages\\arch\\univariate\\base.py:711: ConvergenceWarning:The optimizer returned code 8. The message is:\n",
      "Positive directional derivative for linesearch\n",
      "See scipy.optimize.fmin_slsqp for code meaning.\n",
      "\n",
      " C:\\Users\\Georgy\\Anaconda3\\lib\\site-packages\\arch\\univariate\\base.py:711: ConvergenceWarning:The optimizer returned code 4. The message is:\n",
      "Inequality constraints incompatible\n",
      "See scipy.optimize.fmin_slsqp for code meaning.\n",
      "\n"
     ]
    },
    {
     "name": "stdout",
     "output_type": "stream",
     "text": [
      "Модель GARCH: посчитана 501 точка\n",
      "Модель GARCH: посчитана 1001 точка\n"
     ]
    },
    {
     "name": "stderr",
     "output_type": "stream",
     "text": [
      " C:\\Users\\Georgy\\Anaconda3\\lib\\site-packages\\arch\\univariate\\base.py:711: ConvergenceWarning:The optimizer returned code 8. The message is:\n",
      "Positive directional derivative for linesearch\n",
      "See scipy.optimize.fmin_slsqp for code meaning.\n",
      "\n",
      " C:\\Users\\Georgy\\Anaconda3\\lib\\site-packages\\arch\\univariate\\base.py:711: ConvergenceWarning:The optimizer returned code 8. The message is:\n",
      "Positive directional derivative for linesearch\n",
      "See scipy.optimize.fmin_slsqp for code meaning.\n",
      "\n",
      " C:\\Users\\Georgy\\Anaconda3\\lib\\site-packages\\arch\\univariate\\base.py:711: ConvergenceWarning:The optimizer returned code 8. The message is:\n",
      "Positive directional derivative for linesearch\n",
      "See scipy.optimize.fmin_slsqp for code meaning.\n",
      "\n",
      " C:\\Users\\Georgy\\Anaconda3\\lib\\site-packages\\arch\\univariate\\base.py:711: ConvergenceWarning:The optimizer returned code 8. The message is:\n",
      "Positive directional derivative for linesearch\n",
      "See scipy.optimize.fmin_slsqp for code meaning.\n",
      "\n",
      " C:\\Users\\Georgy\\Anaconda3\\lib\\site-packages\\arch\\univariate\\base.py:711: ConvergenceWarning:The optimizer returned code 8. The message is:\n",
      "Positive directional derivative for linesearch\n",
      "See scipy.optimize.fmin_slsqp for code meaning.\n",
      "\n",
      " C:\\Users\\Georgy\\Anaconda3\\lib\\site-packages\\arch\\univariate\\base.py:711: ConvergenceWarning:The optimizer returned code 8. The message is:\n",
      "Positive directional derivative for linesearch\n",
      "See scipy.optimize.fmin_slsqp for code meaning.\n",
      "\n",
      " C:\\Users\\Georgy\\Anaconda3\\lib\\site-packages\\arch\\univariate\\base.py:711: ConvergenceWarning:The optimizer returned code 8. The message is:\n",
      "Positive directional derivative for linesearch\n",
      "See scipy.optimize.fmin_slsqp for code meaning.\n",
      "\n",
      " C:\\Users\\Georgy\\Anaconda3\\lib\\site-packages\\arch\\univariate\\base.py:711: ConvergenceWarning:The optimizer returned code 8. The message is:\n",
      "Positive directional derivative for linesearch\n",
      "See scipy.optimize.fmin_slsqp for code meaning.\n",
      "\n",
      " C:\\Users\\Georgy\\Anaconda3\\lib\\site-packages\\arch\\univariate\\base.py:711: ConvergenceWarning:The optimizer returned code 8. The message is:\n",
      "Positive directional derivative for linesearch\n",
      "See scipy.optimize.fmin_slsqp for code meaning.\n",
      "\n",
      " C:\\Users\\Georgy\\Anaconda3\\lib\\site-packages\\arch\\univariate\\base.py:711: ConvergenceWarning:The optimizer returned code 8. The message is:\n",
      "Positive directional derivative for linesearch\n",
      "See scipy.optimize.fmin_slsqp for code meaning.\n",
      "\n",
      " C:\\Users\\Georgy\\Anaconda3\\lib\\site-packages\\arch\\univariate\\base.py:711: ConvergenceWarning:The optimizer returned code 8. The message is:\n",
      "Positive directional derivative for linesearch\n",
      "See scipy.optimize.fmin_slsqp for code meaning.\n",
      "\n",
      " C:\\Users\\Georgy\\Anaconda3\\lib\\site-packages\\arch\\univariate\\base.py:711: ConvergenceWarning:The optimizer returned code 8. The message is:\n",
      "Positive directional derivative for linesearch\n",
      "See scipy.optimize.fmin_slsqp for code meaning.\n",
      "\n",
      " C:\\Users\\Georgy\\Anaconda3\\lib\\site-packages\\arch\\univariate\\base.py:711: ConvergenceWarning:The optimizer returned code 8. The message is:\n",
      "Positive directional derivative for linesearch\n",
      "See scipy.optimize.fmin_slsqp for code meaning.\n",
      "\n",
      " C:\\Users\\Georgy\\Anaconda3\\lib\\site-packages\\arch\\univariate\\base.py:711: ConvergenceWarning:The optimizer returned code 8. The message is:\n",
      "Positive directional derivative for linesearch\n",
      "See scipy.optimize.fmin_slsqp for code meaning.\n",
      "\n",
      " C:\\Users\\Georgy\\Anaconda3\\lib\\site-packages\\arch\\univariate\\base.py:711: ConvergenceWarning:The optimizer returned code 8. The message is:\n",
      "Positive directional derivative for linesearch\n",
      "See scipy.optimize.fmin_slsqp for code meaning.\n",
      "\n",
      " C:\\Users\\Georgy\\Anaconda3\\lib\\site-packages\\arch\\univariate\\base.py:711: ConvergenceWarning:The optimizer returned code 8. The message is:\n",
      "Positive directional derivative for linesearch\n",
      "See scipy.optimize.fmin_slsqp for code meaning.\n",
      "\n",
      " C:\\Users\\Georgy\\Anaconda3\\lib\\site-packages\\arch\\univariate\\base.py:711: ConvergenceWarning:The optimizer returned code 8. The message is:\n",
      "Positive directional derivative for linesearch\n",
      "See scipy.optimize.fmin_slsqp for code meaning.\n",
      "\n"
     ]
    },
    {
     "name": "stdout",
     "output_type": "stream",
     "text": [
      "Модель GARCH: посчитана 1501 точка\n",
      "Модель GARCH: посчитана 2001 точка\n",
      "Модель GARCH: посчитана 2501 точка\n",
      "Модель GARCH: посчитана 3001 точка\n",
      "Модель GARCH: посчитана 3501 точка\n",
      "Модель GARCH: посчитана 4001 точка\n",
      "Модель GARCH: посчитана 4501 точка\n",
      "Выполнено за 0:02:17.041121\n",
      "Модель GJR-GARCH: посчитана 1 точка\n"
     ]
    },
    {
     "name": "stderr",
     "output_type": "stream",
     "text": [
      " C:\\Users\\Georgy\\Anaconda3\\lib\\site-packages\\arch\\univariate\\base.py:711: ConvergenceWarning:The optimizer returned code 8. The message is:\n",
      "Positive directional derivative for linesearch\n",
      "See scipy.optimize.fmin_slsqp for code meaning.\n",
      "\n",
      " C:\\Users\\Georgy\\Anaconda3\\lib\\site-packages\\arch\\univariate\\base.py:711: ConvergenceWarning:The optimizer returned code 8. The message is:\n",
      "Positive directional derivative for linesearch\n",
      "See scipy.optimize.fmin_slsqp for code meaning.\n",
      "\n",
      " C:\\Users\\Georgy\\Anaconda3\\lib\\site-packages\\arch\\univariate\\base.py:711: ConvergenceWarning:The optimizer returned code 8. The message is:\n",
      "Positive directional derivative for linesearch\n",
      "See scipy.optimize.fmin_slsqp for code meaning.\n",
      "\n",
      " C:\\Users\\Georgy\\Anaconda3\\lib\\site-packages\\arch\\univariate\\base.py:711: ConvergenceWarning:The optimizer returned code 8. The message is:\n",
      "Positive directional derivative for linesearch\n",
      "See scipy.optimize.fmin_slsqp for code meaning.\n",
      "\n",
      " C:\\Users\\Georgy\\Anaconda3\\lib\\site-packages\\arch\\univariate\\base.py:711: ConvergenceWarning:The optimizer returned code 8. The message is:\n",
      "Positive directional derivative for linesearch\n",
      "See scipy.optimize.fmin_slsqp for code meaning.\n",
      "\n",
      " C:\\Users\\Georgy\\Anaconda3\\lib\\site-packages\\arch\\univariate\\base.py:711: ConvergenceWarning:The optimizer returned code 8. The message is:\n",
      "Positive directional derivative for linesearch\n",
      "See scipy.optimize.fmin_slsqp for code meaning.\n",
      "\n",
      " C:\\Users\\Georgy\\Anaconda3\\lib\\site-packages\\arch\\univariate\\base.py:711: ConvergenceWarning:The optimizer returned code 8. The message is:\n",
      "Positive directional derivative for linesearch\n",
      "See scipy.optimize.fmin_slsqp for code meaning.\n",
      "\n",
      " C:\\Users\\Georgy\\Anaconda3\\lib\\site-packages\\arch\\univariate\\base.py:711: ConvergenceWarning:The optimizer returned code 8. The message is:\n",
      "Positive directional derivative for linesearch\n",
      "See scipy.optimize.fmin_slsqp for code meaning.\n",
      "\n",
      " C:\\Users\\Georgy\\Anaconda3\\lib\\site-packages\\arch\\univariate\\base.py:711: ConvergenceWarning:The optimizer returned code 8. The message is:\n",
      "Positive directional derivative for linesearch\n",
      "See scipy.optimize.fmin_slsqp for code meaning.\n",
      "\n",
      " C:\\Users\\Georgy\\Anaconda3\\lib\\site-packages\\arch\\univariate\\base.py:711: ConvergenceWarning:The optimizer returned code 8. The message is:\n",
      "Positive directional derivative for linesearch\n",
      "See scipy.optimize.fmin_slsqp for code meaning.\n",
      "\n"
     ]
    },
    {
     "name": "stdout",
     "output_type": "stream",
     "text": [
      "Модель GJR-GARCH: посчитана 501 точка\n",
      "Модель GJR-GARCH: посчитана 1001 точка\n"
     ]
    },
    {
     "name": "stderr",
     "output_type": "stream",
     "text": [
      " C:\\Users\\Georgy\\Anaconda3\\lib\\site-packages\\arch\\univariate\\base.py:711: ConvergenceWarning:The optimizer returned code 8. The message is:\n",
      "Positive directional derivative for linesearch\n",
      "See scipy.optimize.fmin_slsqp for code meaning.\n",
      "\n",
      " C:\\Users\\Georgy\\Anaconda3\\lib\\site-packages\\arch\\univariate\\base.py:711: ConvergenceWarning:The optimizer returned code 8. The message is:\n",
      "Positive directional derivative for linesearch\n",
      "See scipy.optimize.fmin_slsqp for code meaning.\n",
      "\n",
      " C:\\Users\\Georgy\\Anaconda3\\lib\\site-packages\\arch\\univariate\\base.py:711: ConvergenceWarning:The optimizer returned code 8. The message is:\n",
      "Positive directional derivative for linesearch\n",
      "See scipy.optimize.fmin_slsqp for code meaning.\n",
      "\n",
      " C:\\Users\\Georgy\\Anaconda3\\lib\\site-packages\\arch\\univariate\\base.py:711: ConvergenceWarning:The optimizer returned code 8. The message is:\n",
      "Positive directional derivative for linesearch\n",
      "See scipy.optimize.fmin_slsqp for code meaning.\n",
      "\n",
      " C:\\Users\\Georgy\\Anaconda3\\lib\\site-packages\\arch\\univariate\\base.py:711: ConvergenceWarning:The optimizer returned code 8. The message is:\n",
      "Positive directional derivative for linesearch\n",
      "See scipy.optimize.fmin_slsqp for code meaning.\n",
      "\n",
      " C:\\Users\\Georgy\\Anaconda3\\lib\\site-packages\\arch\\univariate\\base.py:711: ConvergenceWarning:The optimizer returned code 8. The message is:\n",
      "Positive directional derivative for linesearch\n",
      "See scipy.optimize.fmin_slsqp for code meaning.\n",
      "\n",
      " C:\\Users\\Georgy\\Anaconda3\\lib\\site-packages\\arch\\univariate\\base.py:711: ConvergenceWarning:The optimizer returned code 8. The message is:\n",
      "Positive directional derivative for linesearch\n",
      "See scipy.optimize.fmin_slsqp for code meaning.\n",
      "\n",
      " C:\\Users\\Georgy\\Anaconda3\\lib\\site-packages\\arch\\univariate\\base.py:711: ConvergenceWarning:The optimizer returned code 8. The message is:\n",
      "Positive directional derivative for linesearch\n",
      "See scipy.optimize.fmin_slsqp for code meaning.\n",
      "\n",
      " C:\\Users\\Georgy\\Anaconda3\\lib\\site-packages\\arch\\univariate\\base.py:711: ConvergenceWarning:The optimizer returned code 8. The message is:\n",
      "Positive directional derivative for linesearch\n",
      "See scipy.optimize.fmin_slsqp for code meaning.\n",
      "\n",
      " C:\\Users\\Georgy\\Anaconda3\\lib\\site-packages\\arch\\univariate\\base.py:711: ConvergenceWarning:The optimizer returned code 8. The message is:\n",
      "Positive directional derivative for linesearch\n",
      "See scipy.optimize.fmin_slsqp for code meaning.\n",
      "\n",
      " C:\\Users\\Georgy\\Anaconda3\\lib\\site-packages\\arch\\univariate\\base.py:711: ConvergenceWarning:The optimizer returned code 8. The message is:\n",
      "Positive directional derivative for linesearch\n",
      "See scipy.optimize.fmin_slsqp for code meaning.\n",
      "\n",
      " C:\\Users\\Georgy\\Anaconda3\\lib\\site-packages\\arch\\univariate\\base.py:711: ConvergenceWarning:The optimizer returned code 8. The message is:\n",
      "Positive directional derivative for linesearch\n",
      "See scipy.optimize.fmin_slsqp for code meaning.\n",
      "\n",
      " C:\\Users\\Georgy\\Anaconda3\\lib\\site-packages\\arch\\univariate\\base.py:711: ConvergenceWarning:The optimizer returned code 8. The message is:\n",
      "Positive directional derivative for linesearch\n",
      "See scipy.optimize.fmin_slsqp for code meaning.\n",
      "\n",
      " C:\\Users\\Georgy\\Anaconda3\\lib\\site-packages\\arch\\univariate\\base.py:711: ConvergenceWarning:The optimizer returned code 8. The message is:\n",
      "Positive directional derivative for linesearch\n",
      "See scipy.optimize.fmin_slsqp for code meaning.\n",
      "\n",
      " C:\\Users\\Georgy\\Anaconda3\\lib\\site-packages\\arch\\univariate\\base.py:711: ConvergenceWarning:The optimizer returned code 8. The message is:\n",
      "Positive directional derivative for linesearch\n",
      "See scipy.optimize.fmin_slsqp for code meaning.\n",
      "\n",
      " C:\\Users\\Georgy\\Anaconda3\\lib\\site-packages\\arch\\univariate\\base.py:711: ConvergenceWarning:The optimizer returned code 8. The message is:\n",
      "Positive directional derivative for linesearch\n",
      "See scipy.optimize.fmin_slsqp for code meaning.\n",
      "\n"
     ]
    },
    {
     "name": "stdout",
     "output_type": "stream",
     "text": [
      "Модель GJR-GARCH: посчитана 1501 точка\n",
      "Модель GJR-GARCH: посчитана 2001 точка\n",
      "Модель GJR-GARCH: посчитана 2501 точка\n",
      "Модель GJR-GARCH: посчитана 3001 точка\n",
      "Модель GJR-GARCH: посчитана 3501 точка\n",
      "Модель GJR-GARCH: посчитана 4001 точка\n",
      "Модель GJR-GARCH: посчитана 4501 точка\n",
      "Выполнено за 0:02:46.295988\n",
      "Модель TARCH/ZARCH: посчитана 1 точка\n"
     ]
    },
    {
     "name": "stderr",
     "output_type": "stream",
     "text": [
      " C:\\Users\\Georgy\\Anaconda3\\lib\\site-packages\\arch\\univariate\\base.py:711: ConvergenceWarning:The optimizer returned code 8. The message is:\n",
      "Positive directional derivative for linesearch\n",
      "See scipy.optimize.fmin_slsqp for code meaning.\n",
      "\n",
      " C:\\Users\\Georgy\\Anaconda3\\lib\\site-packages\\arch\\univariate\\base.py:711: ConvergenceWarning:The optimizer returned code 8. The message is:\n",
      "Positive directional derivative for linesearch\n",
      "See scipy.optimize.fmin_slsqp for code meaning.\n",
      "\n",
      " C:\\Users\\Georgy\\Anaconda3\\lib\\site-packages\\arch\\univariate\\base.py:711: ConvergenceWarning:The optimizer returned code 8. The message is:\n",
      "Positive directional derivative for linesearch\n",
      "See scipy.optimize.fmin_slsqp for code meaning.\n",
      "\n",
      " C:\\Users\\Georgy\\Anaconda3\\lib\\site-packages\\arch\\univariate\\base.py:711: ConvergenceWarning:The optimizer returned code 8. The message is:\n",
      "Positive directional derivative for linesearch\n",
      "See scipy.optimize.fmin_slsqp for code meaning.\n",
      "\n",
      " C:\\Users\\Georgy\\Anaconda3\\lib\\site-packages\\arch\\univariate\\base.py:711: ConvergenceWarning:The optimizer returned code 8. The message is:\n",
      "Positive directional derivative for linesearch\n",
      "See scipy.optimize.fmin_slsqp for code meaning.\n",
      "\n"
     ]
    },
    {
     "name": "stdout",
     "output_type": "stream",
     "text": [
      "Модель TARCH/ZARCH: посчитана 501 точка\n",
      "Модель TARCH/ZARCH: посчитана 1001 точка\n"
     ]
    },
    {
     "name": "stderr",
     "output_type": "stream",
     "text": [
      " C:\\Users\\Georgy\\Anaconda3\\lib\\site-packages\\arch\\univariate\\base.py:711: ConvergenceWarning:The optimizer returned code 8. The message is:\n",
      "Positive directional derivative for linesearch\n",
      "See scipy.optimize.fmin_slsqp for code meaning.\n",
      "\n",
      " C:\\Users\\Georgy\\Anaconda3\\lib\\site-packages\\arch\\univariate\\base.py:711: ConvergenceWarning:The optimizer returned code 8. The message is:\n",
      "Positive directional derivative for linesearch\n",
      "See scipy.optimize.fmin_slsqp for code meaning.\n",
      "\n",
      " C:\\Users\\Georgy\\Anaconda3\\lib\\site-packages\\arch\\univariate\\base.py:711: ConvergenceWarning:The optimizer returned code 8. The message is:\n",
      "Positive directional derivative for linesearch\n",
      "See scipy.optimize.fmin_slsqp for code meaning.\n",
      "\n"
     ]
    },
    {
     "name": "stdout",
     "output_type": "stream",
     "text": [
      "Модель TARCH/ZARCH: посчитана 1501 точка\n",
      "Модель TARCH/ZARCH: посчитана 2001 точка\n",
      "Модель TARCH/ZARCH: посчитана 2501 точка\n",
      "Модель TARCH/ZARCH: посчитана 3001 точка\n",
      "Модель TARCH/ZARCH: посчитана 3501 точка\n",
      "Модель TARCH/ZARCH: посчитана 4001 точка\n",
      "Модель TARCH/ZARCH: посчитана 4501 точка\n",
      "Выполнено за 0:02:58.190163\n",
      "Модель GP (rbf): посчитана 1 точка\n",
      "Модель GP (rbf): посчитана 501 точка\n",
      "Модель GP (rbf): посчитана 1001 точка\n",
      "Модель GP (rbf): посчитана 1501 точка\n",
      "Модель GP (rbf): посчитана 2001 точка\n",
      "Модель GP (rbf): посчитана 2501 точка\n",
      "Модель GP (rbf): посчитана 3001 точка\n",
      "Модель GP (rbf): посчитана 3501 точка\n",
      "Модель GP (rbf): посчитана 4001 точка\n",
      "Модель GP (rbf): посчитана 4501 точка\n",
      "Выполнено за 0:12:59.274074\n",
      "Модель GP (Mat52): посчитана 1 точка\n",
      "Модель GP (Mat52): посчитана 501 точка\n",
      "Модель GP (Mat52): посчитана 1001 точка\n",
      "Модель GP (Mat52): посчитана 1501 точка\n",
      "Модель GP (Mat52): посчитана 2001 точка\n",
      "Модель GP (Mat52): посчитана 2501 точка\n",
      "Модель GP (Mat52): посчитана 3001 точка\n",
      "Модель GP (Mat52): посчитана 3501 точка\n",
      "Модель GP (Mat52): посчитана 4001 точка\n",
      "Модель GP (Mat52): посчитана 4501 точка\n",
      "Выполнено за 0:13:27.802153\n",
      "\"Наивная\" модель. Выполнено за 0:00:00\n",
      "Работа с активом Серебро (унция/доллар США)\n",
      "-----------------------------------\n",
      "Модель GARCH: посчитана 1 точка\n",
      "Модель GARCH: посчитана 501 точка\n"
     ]
    },
    {
     "name": "stderr",
     "output_type": "stream",
     "text": [
      " C:\\Users\\Georgy\\Anaconda3\\lib\\site-packages\\arch\\univariate\\base.py:711: ConvergenceWarning:The optimizer returned code 8. The message is:\n",
      "Positive directional derivative for linesearch\n",
      "See scipy.optimize.fmin_slsqp for code meaning.\n",
      "\n"
     ]
    },
    {
     "name": "stdout",
     "output_type": "stream",
     "text": [
      "Модель GARCH: посчитана 1001 точка\n",
      "Модель GARCH: посчитана 1501 точка\n",
      "Модель GARCH: посчитана 2001 точка\n",
      "Модель GARCH: посчитана 2501 точка\n",
      "Модель GARCH: посчитана 3001 точка\n",
      "Модель GARCH: посчитана 3501 точка\n",
      "Модель GARCH: посчитана 4001 точка\n",
      "Модель GARCH: посчитана 4501 точка\n",
      "Модель GARCH: посчитана 5001 точка\n",
      "Модель GARCH: посчитана 5501 точка\n"
     ]
    },
    {
     "name": "stderr",
     "output_type": "stream",
     "text": [
      " C:\\Users\\Georgy\\Anaconda3\\lib\\site-packages\\arch\\univariate\\base.py:711: ConvergenceWarning:The optimizer returned code 8. The message is:\n",
      "Positive directional derivative for linesearch\n",
      "See scipy.optimize.fmin_slsqp for code meaning.\n",
      "\n",
      " C:\\Users\\Georgy\\Anaconda3\\lib\\site-packages\\arch\\univariate\\base.py:711: ConvergenceWarning:The optimizer returned code 8. The message is:\n",
      "Positive directional derivative for linesearch\n",
      "See scipy.optimize.fmin_slsqp for code meaning.\n",
      "\n",
      " C:\\Users\\Georgy\\Anaconda3\\lib\\site-packages\\arch\\univariate\\base.py:711: ConvergenceWarning:The optimizer returned code 8. The message is:\n",
      "Positive directional derivative for linesearch\n",
      "See scipy.optimize.fmin_slsqp for code meaning.\n",
      "\n"
     ]
    },
    {
     "name": "stdout",
     "output_type": "stream",
     "text": [
      "Модель GARCH: посчитана 6001 точка\n",
      "Выполнено за 0:02:59.345419\n",
      "Модель GJR-GARCH: посчитана 1 точка\n",
      "Модель GJR-GARCH: посчитана 501 точка\n"
     ]
    },
    {
     "name": "stderr",
     "output_type": "stream",
     "text": [
      " C:\\Users\\Georgy\\Anaconda3\\lib\\site-packages\\arch\\univariate\\base.py:711: ConvergenceWarning:The optimizer returned code 8. The message is:\n",
      "Positive directional derivative for linesearch\n",
      "See scipy.optimize.fmin_slsqp for code meaning.\n",
      "\n",
      " C:\\Users\\Georgy\\Anaconda3\\lib\\site-packages\\arch\\univariate\\base.py:711: ConvergenceWarning:The optimizer returned code 8. The message is:\n",
      "Positive directional derivative for linesearch\n",
      "See scipy.optimize.fmin_slsqp for code meaning.\n",
      "\n"
     ]
    },
    {
     "name": "stdout",
     "output_type": "stream",
     "text": [
      "Модель GJR-GARCH: посчитана 1001 точка\n",
      "Модель GJR-GARCH: посчитана 1501 точка\n"
     ]
    },
    {
     "name": "stderr",
     "output_type": "stream",
     "text": [
      " C:\\Users\\Georgy\\Anaconda3\\lib\\site-packages\\arch\\univariate\\base.py:711: ConvergenceWarning:The optimizer returned code 8. The message is:\n",
      "Positive directional derivative for linesearch\n",
      "See scipy.optimize.fmin_slsqp for code meaning.\n",
      "\n"
     ]
    },
    {
     "name": "stdout",
     "output_type": "stream",
     "text": [
      "Модель GJR-GARCH: посчитана 2001 точка\n"
     ]
    },
    {
     "name": "stderr",
     "output_type": "stream",
     "text": [
      " C:\\Users\\Georgy\\Anaconda3\\lib\\site-packages\\arch\\univariate\\base.py:711: ConvergenceWarning:The optimizer returned code 8. The message is:\n",
      "Positive directional derivative for linesearch\n",
      "See scipy.optimize.fmin_slsqp for code meaning.\n",
      "\n"
     ]
    },
    {
     "name": "stdout",
     "output_type": "stream",
     "text": [
      "Модель GJR-GARCH: посчитана 2501 точка\n",
      "Модель GJR-GARCH: посчитана 3001 точка\n",
      "Модель GJR-GARCH: посчитана 3501 точка\n",
      "Модель GJR-GARCH: посчитана 4001 точка\n",
      "Модель GJR-GARCH: посчитана 4501 точка\n",
      "Модель GJR-GARCH: посчитана 5001 точка\n",
      "Модель GJR-GARCH: посчитана 5501 точка\n"
     ]
    },
    {
     "name": "stderr",
     "output_type": "stream",
     "text": [
      " C:\\Users\\Georgy\\Anaconda3\\lib\\site-packages\\arch\\univariate\\base.py:711: ConvergenceWarning:The optimizer returned code 8. The message is:\n",
      "Positive directional derivative for linesearch\n",
      "See scipy.optimize.fmin_slsqp for code meaning.\n",
      "\n",
      " C:\\Users\\Georgy\\Anaconda3\\lib\\site-packages\\arch\\univariate\\base.py:711: ConvergenceWarning:The optimizer returned code 8. The message is:\n",
      "Positive directional derivative for linesearch\n",
      "See scipy.optimize.fmin_slsqp for code meaning.\n",
      "\n"
     ]
    },
    {
     "name": "stdout",
     "output_type": "stream",
     "text": [
      "Модель GJR-GARCH: посчитана 6001 точка\n",
      "Выполнено за 0:03:38.274889\n",
      "Модель TARCH/ZARCH: посчитана 1 точка\n",
      "Модель TARCH/ZARCH: посчитана 501 точка\n",
      "Модель TARCH/ZARCH: посчитана 1001 точка\n",
      "Модель TARCH/ZARCH: посчитана 1501 точка\n"
     ]
    },
    {
     "name": "stderr",
     "output_type": "stream",
     "text": [
      " C:\\Users\\Georgy\\Anaconda3\\lib\\site-packages\\arch\\univariate\\base.py:711: ConvergenceWarning:The optimizer returned code 8. The message is:\n",
      "Positive directional derivative for linesearch\n",
      "See scipy.optimize.fmin_slsqp for code meaning.\n",
      "\n",
      " C:\\Users\\Georgy\\Anaconda3\\lib\\site-packages\\arch\\univariate\\base.py:711: ConvergenceWarning:The optimizer returned code 8. The message is:\n",
      "Positive directional derivative for linesearch\n",
      "See scipy.optimize.fmin_slsqp for code meaning.\n",
      "\n",
      " C:\\Users\\Georgy\\Anaconda3\\lib\\site-packages\\arch\\univariate\\base.py:711: ConvergenceWarning:The optimizer returned code 8. The message is:\n",
      "Positive directional derivative for linesearch\n",
      "See scipy.optimize.fmin_slsqp for code meaning.\n",
      "\n",
      " C:\\Users\\Georgy\\Anaconda3\\lib\\site-packages\\arch\\univariate\\base.py:711: ConvergenceWarning:The optimizer returned code 8. The message is:\n",
      "Positive directional derivative for linesearch\n",
      "See scipy.optimize.fmin_slsqp for code meaning.\n",
      "\n",
      " C:\\Users\\Georgy\\Anaconda3\\lib\\site-packages\\arch\\univariate\\base.py:711: ConvergenceWarning:The optimizer returned code 8. The message is:\n",
      "Positive directional derivative for linesearch\n",
      "See scipy.optimize.fmin_slsqp for code meaning.\n",
      "\n",
      " C:\\Users\\Georgy\\Anaconda3\\lib\\site-packages\\arch\\univariate\\base.py:711: ConvergenceWarning:The optimizer returned code 8. The message is:\n",
      "Positive directional derivative for linesearch\n",
      "See scipy.optimize.fmin_slsqp for code meaning.\n",
      "\n",
      " C:\\Users\\Georgy\\Anaconda3\\lib\\site-packages\\arch\\univariate\\base.py:711: ConvergenceWarning:The optimizer returned code 8. The message is:\n",
      "Positive directional derivative for linesearch\n",
      "See scipy.optimize.fmin_slsqp for code meaning.\n",
      "\n",
      " C:\\Users\\Georgy\\Anaconda3\\lib\\site-packages\\arch\\univariate\\base.py:711: ConvergenceWarning:The optimizer returned code 8. The message is:\n",
      "Positive directional derivative for linesearch\n",
      "See scipy.optimize.fmin_slsqp for code meaning.\n",
      "\n",
      " C:\\Users\\Georgy\\Anaconda3\\lib\\site-packages\\arch\\univariate\\base.py:711: ConvergenceWarning:The optimizer returned code 8. The message is:\n",
      "Positive directional derivative for linesearch\n",
      "See scipy.optimize.fmin_slsqp for code meaning.\n",
      "\n",
      " C:\\Users\\Georgy\\Anaconda3\\lib\\site-packages\\arch\\univariate\\base.py:711: ConvergenceWarning:The optimizer returned code 8. The message is:\n",
      "Positive directional derivative for linesearch\n",
      "See scipy.optimize.fmin_slsqp for code meaning.\n",
      "\n",
      " C:\\Users\\Georgy\\Anaconda3\\lib\\site-packages\\arch\\univariate\\base.py:711: ConvergenceWarning:The optimizer returned code 8. The message is:\n",
      "Positive directional derivative for linesearch\n",
      "See scipy.optimize.fmin_slsqp for code meaning.\n",
      "\n",
      " C:\\Users\\Georgy\\Anaconda3\\lib\\site-packages\\arch\\univariate\\base.py:711: ConvergenceWarning:The optimizer returned code 8. The message is:\n",
      "Positive directional derivative for linesearch\n",
      "See scipy.optimize.fmin_slsqp for code meaning.\n",
      "\n",
      " C:\\Users\\Georgy\\Anaconda3\\lib\\site-packages\\arch\\univariate\\base.py:711: ConvergenceWarning:The optimizer returned code 8. The message is:\n",
      "Positive directional derivative for linesearch\n",
      "See scipy.optimize.fmin_slsqp for code meaning.\n",
      "\n",
      " C:\\Users\\Georgy\\Anaconda3\\lib\\site-packages\\arch\\univariate\\base.py:711: ConvergenceWarning:The optimizer returned code 8. The message is:\n",
      "Positive directional derivative for linesearch\n",
      "See scipy.optimize.fmin_slsqp for code meaning.\n",
      "\n",
      " C:\\Users\\Georgy\\Anaconda3\\lib\\site-packages\\arch\\univariate\\base.py:711: ConvergenceWarning:The optimizer returned code 8. The message is:\n",
      "Positive directional derivative for linesearch\n",
      "See scipy.optimize.fmin_slsqp for code meaning.\n",
      "\n",
      " C:\\Users\\Georgy\\Anaconda3\\lib\\site-packages\\arch\\univariate\\base.py:711: ConvergenceWarning:The optimizer returned code 8. The message is:\n",
      "Positive directional derivative for linesearch\n",
      "See scipy.optimize.fmin_slsqp for code meaning.\n",
      "\n",
      " C:\\Users\\Georgy\\Anaconda3\\lib\\site-packages\\arch\\univariate\\base.py:711: ConvergenceWarning:The optimizer returned code 8. The message is:\n",
      "Positive directional derivative for linesearch\n",
      "See scipy.optimize.fmin_slsqp for code meaning.\n",
      "\n"
     ]
    },
    {
     "name": "stdout",
     "output_type": "stream",
     "text": [
      "Модель TARCH/ZARCH: посчитана 2001 точка\n",
      "Модель TARCH/ZARCH: посчитана 2501 точка\n",
      "Модель TARCH/ZARCH: посчитана 3001 точка\n",
      "Модель TARCH/ZARCH: посчитана 3501 точка\n",
      "Модель TARCH/ZARCH: посчитана 4001 точка\n",
      "Модель TARCH/ZARCH: посчитана 4501 точка\n",
      "Модель TARCH/ZARCH: посчитана 5001 точка\n",
      "Модель TARCH/ZARCH: посчитана 5501 точка\n",
      "Модель TARCH/ZARCH: посчитана 6001 точка\n",
      "Выполнено за 0:03:36.264149\n",
      "Модель GP (rbf): посчитана 1 точка\n",
      "Модель GP (rbf): посчитана 501 точка\n",
      "Модель GP (rbf): посчитана 1001 точка\n",
      "Модель GP (rbf): посчитана 1501 точка\n",
      "Модель GP (rbf): посчитана 2001 точка\n",
      "Модель GP (rbf): посчитана 2501 точка\n",
      "Модель GP (rbf): посчитана 3001 точка\n",
      "Модель GP (rbf): посчитана 3501 точка\n",
      "Модель GP (rbf): посчитана 4001 точка\n",
      "Модель GP (rbf): посчитана 4501 точка\n",
      "Модель GP (rbf): посчитана 5001 точка\n",
      "Модель GP (rbf): посчитана 5501 точка\n",
      "Модель GP (rbf): посчитана 6001 точка\n",
      "Выполнено за 0:16:59.496172\n",
      "Модель GP (Mat52): посчитана 1 точка\n",
      "Модель GP (Mat52): посчитана 501 точка\n",
      "Модель GP (Mat52): посчитана 1001 точка\n",
      "Модель GP (Mat52): посчитана 1501 точка\n",
      "Модель GP (Mat52): посчитана 2001 точка\n",
      "Модель GP (Mat52): посчитана 2501 точка\n",
      "Модель GP (Mat52): посчитана 3001 точка\n",
      "Модель GP (Mat52): посчитана 3501 точка\n",
      "Модель GP (Mat52): посчитана 4001 точка\n",
      "Модель GP (Mat52): посчитана 4501 точка\n",
      "Модель GP (Mat52): посчитана 5001 точка\n",
      "Модель GP (Mat52): посчитана 5501 точка\n",
      "Модель GP (Mat52): посчитана 6001 точка\n",
      "Выполнено за 0:17:30.017410\n",
      "\"Наивная\" модель. Выполнено за 0:00:00.004987\n",
      "Работа с активом Пшеница (5000 бушелей/доллар США)\n",
      "-----------------------------------\n",
      "Модель GARCH: посчитана 1 точка\n",
      "Модель GARCH: посчитана 501 точка\n",
      "Модель GARCH: посчитана 1001 точка\n",
      "Модель GARCH: посчитана 1501 точка\n",
      "Модель GARCH: посчитана 2001 точка\n",
      "Модель GARCH: посчитана 2501 точка\n",
      "Модель GARCH: посчитана 3001 точка\n",
      "Модель GARCH: посчитана 3501 точка\n",
      "Модель GARCH: посчитана 4001 точка\n",
      "Модель GARCH: посчитана 4501 точка\n",
      "Модель GARCH: посчитана 5001 точка\n",
      "Выполнено за 0:02:28.781389\n",
      "Модель GJR-GARCH: посчитана 1 точка\n",
      "Модель GJR-GARCH: посчитана 501 точка\n",
      "Модель GJR-GARCH: посчитана 1001 точка\n",
      "Модель GJR-GARCH: посчитана 1501 точка\n",
      "Модель GJR-GARCH: посчитана 2001 точка\n",
      "Модель GJR-GARCH: посчитана 2501 точка\n",
      "Модель GJR-GARCH: посчитана 3001 точка\n",
      "Модель GJR-GARCH: посчитана 3501 точка\n",
      "Модель GJR-GARCH: посчитана 4001 точка\n",
      "Модель GJR-GARCH: посчитана 4501 точка\n",
      "Модель GJR-GARCH: посчитана 5001 точка\n",
      "Выполнено за 0:03:04.498242\n",
      "Модель TARCH/ZARCH: посчитана 1 точка\n",
      "Модель TARCH/ZARCH: посчитана 501 точка\n",
      "Модель TARCH/ZARCH: посчитана 1001 точка\n",
      "Модель TARCH/ZARCH: посчитана 1501 точка\n",
      "Модель TARCH/ZARCH: посчитана 2001 точка\n",
      "Модель TARCH/ZARCH: посчитана 2501 точка\n",
      "Модель TARCH/ZARCH: посчитана 3001 точка\n",
      "Модель TARCH/ZARCH: посчитана 3501 точка\n",
      "Модель TARCH/ZARCH: посчитана 4001 точка\n",
      "Модель TARCH/ZARCH: посчитана 4501 точка\n",
      "Модель TARCH/ZARCH: посчитана 5001 точка\n",
      "Выполнено за 0:03:15.949584\n",
      "Модель GP (rbf): посчитана 1 точка\n",
      "Модель GP (rbf): посчитана 501 точка\n",
      "Модель GP (rbf): посчитана 1001 точка\n",
      "Модель GP (rbf): посчитана 1501 точка\n",
      "Модель GP (rbf): посчитана 2001 точка\n",
      "Модель GP (rbf): посчитана 2501 точка\n",
      "Модель GP (rbf): посчитана 3001 точка\n",
      "Модель GP (rbf): посчитана 3501 точка\n",
      "Модель GP (rbf): посчитана 4001 точка\n",
      "Модель GP (rbf): посчитана 4501 точка\n",
      "Модель GP (rbf): посчитана 5001 точка\n",
      "Выполнено за 0:14:59.587524\n",
      "Модель GP (Mat52): посчитана 1 точка\n",
      "Модель GP (Mat52): посчитана 501 точка\n",
      "Модель GP (Mat52): посчитана 1001 точка\n",
      "Модель GP (Mat52): посчитана 1501 точка\n",
      "Модель GP (Mat52): посчитана 2001 точка\n",
      "Модель GP (Mat52): посчитана 2501 точка\n",
      "Модель GP (Mat52): посчитана 3001 точка\n",
      "Модель GP (Mat52): посчитана 3501 точка\n",
      "Модель GP (Mat52): посчитана 4001 точка\n",
      "Модель GP (Mat52): посчитана 4501 точка\n",
      "Модель GP (Mat52): посчитана 5001 точка\n",
      "Выполнено за 0:16:15.849518\n",
      "\"Наивная\" модель. Выполнено за 0:00:00.013767\n"
     ]
    }
   ],
   "source": [
    "results_commodities={}\n",
    "for com_name in commodities:\n",
    "    results_commodities[com_name] = {}\n",
    "    ts = data[com_name]['return']\n",
    "    ts = ts.reset_index(drop=True)\n",
    "    \n",
    "    ts_for_GP = data[com_name]['return_abs']\n",
    "   \n",
    "    print('Работа с активом {}'.format(mapping[com_name]))\n",
    "    print('-----------------------------------')\n",
    "    for garch_param in garch_param_dict:\n",
    "        results_commodities[com_name][garch_param] = fixed_window_garch(ts, model_params=garch_param_dict[garch_param])\n",
    "    for GP_kernel in GP_kernel_dict:\n",
    "        results_commodities[com_name][GP_kernel] = fixed_window_GP(ts_for_GP, kernel=GP_kernel_dict[GP_kernel])\n",
    "    results_commodities[com_name]['naive'] = fixed_window_naive(ts_for_GP)\n",
    "        "
   ]
  },
  {
   "cell_type": "code",
   "execution_count": 11,
   "metadata": {},
   "outputs": [],
   "source": [
    "# with open('results_commodities1804.pickle', 'wb') as rcom:\n",
    "#     pickle.dump(results_commodities, rcom)"
   ]
  },
  {
   "cell_type": "code",
   "execution_count": 928,
   "metadata": {},
   "outputs": [],
   "source": [
    "# with open('results_currencies1604.pickle', 'wb') as rc:\n",
    "#     pickle.dump(results_currencies, rc)"
   ]
  },
  {
   "cell_type": "code",
   "execution_count": 891,
   "metadata": {},
   "outputs": [],
   "source": [
    "# with open('results_indicies1604.pickle', 'wb') as ri:\n",
    "#     pickle.dump(results_indicies, ri)"
   ]
  },
  {
   "cell_type": "code",
   "execution_count": 901,
   "metadata": {},
   "outputs": [
    {
     "data": {
      "text/plain": [
       "<matplotlib.axes._subplots.AxesSubplot at 0x20ace118208>"
      ]
     },
     "execution_count": 901,
     "metadata": {},
     "output_type": "execute_result"
    },
    {
     "data": {
      "image/png": "[encoded data removed]",
      "text/plain": [
       "<Figure size 432x288 with 1 Axes>"
      ]
     },
     "metadata": {
      "needs_background": "light"
     },
     "output_type": "display_data"
    }
   ],
   "source": [
    "results_indicies['nasdaq']['TGARCH'].plot()"
   ]
  },
  {
   "cell_type": "code",
   "execution_count": 801,
   "metadata": {},
   "outputs": [],
   "source": [
    "# with open('results_stocks1504.pickle', 'wb') as rs:\n",
    "#     pickle.dump(results_stocks, rs)"
   ]
  },
  {
   "cell_type": "code",
   "execution_count": 844,
   "metadata": {},
   "outputs": [
    {
     "data": {
      "text/plain": [
       "<matplotlib.axes._subplots.AxesSubplot at 0x20ace7cfda0>"
      ]
     },
     "execution_count": 844,
     "metadata": {},
     "output_type": "execute_result"
    },
    {
     "data": {
      "image/png": "[encoded data removed]",
      "text/plain": [
       "<Figure size 432x288 with 1 Axes>"
      ]
     },
     "metadata": {
      "needs_background": "light"
     },
     "output_type": "display_data"
    }
   ],
   "source": [
    "results_stocks['lukoil']['GP (Matern52)'].plot()"
   ]
  },
  {
   "cell_type": "code",
   "execution_count": 866,
   "metadata": {},
   "outputs": [],
   "source": [
    "results_stocks['lukoil']['GP (Matern52)'] = results_stocks['lukoil']['GP (Matern52)'][168:]"
   ]
  },
  {
   "cell_type": "code",
   "execution_count": 867,
   "metadata": {},
   "outputs": [],
   "source": [
    "results_stocks['lukoil']['GP (RBF)'] = results_stocks['lukoil']['GP (RBF)'][169:]"
   ]
  },
  {
   "cell_type": "code",
   "execution_count": 724,
   "metadata": {},
   "outputs": [
    {
     "data": {
      "text/plain": [
       "<matplotlib.axes._subplots.AxesSubplot at 0x20aa0fe24a8>"
      ]
     },
     "execution_count": 724,
     "metadata": {},
     "output_type": "execute_result"
    },
    {
     "data": {
      "image/png": "[encoded data removed]",
      "text/plain": [
       "<Figure size 432x288 with 1 Axes>"
      ]
     },
     "metadata": {
      "needs_background": "light"
     },
     "output_type": "display_data"
    }
   ],
   "source": [
    "np.exp(np.log(data['lukoil']['return_abs'])).plot()"
   ]
  },
  {
   "cell_type": "code",
   "execution_count": 591,
   "metadata": {},
   "outputs": [
    {
     "name": "stdout",
     "output_type": "stream",
     "text": [
      "Работа с активом Акции Лукойл\n",
      "-----------------------------------\n",
      "Модель GARCH: посчитана 1 точка\n",
      "Модель GARCH: посчитана 501 точка\n",
      "Модель GARCH: посчитана 1001 точка\n",
      "Модель GARCH: посчитана 1501 точка\n",
      "Модель GARCH: посчитана 2001 точка\n",
      "Модель GARCH: посчитана 2501 точка\n",
      "Модель GARCH: посчитана 3001 точка\n",
      "Модель GARCH: посчитана 3501 точка\n",
      "Модель GARCH: посчитана 4001 точка\n",
      "Модель GARCH: посчитана 4501 точка\n",
      "Выполнено за 0:02:26.929839\n",
      "Модель GJR-GARCH: посчитана 1 точка\n",
      "Модель GJR-GARCH: посчитана 501 точка\n",
      "Модель GJR-GARCH: посчитана 1001 точка\n",
      "Модель GJR-GARCH: посчитана 1501 точка\n",
      "Модель GJR-GARCH: посчитана 2001 точка\n",
      "Модель GJR-GARCH: посчитана 2501 точка\n",
      "Модель GJR-GARCH: посчитана 3001 точка\n",
      "Модель GJR-GARCH: посчитана 3501 точка\n",
      "Модель GJR-GARCH: посчитана 4001 точка\n",
      "Модель GJR-GARCH: посчитана 4501 точка\n",
      "Выполнено за 0:02:40.724241\n",
      "Модель TARCH/ZARCH: посчитана 1 точка\n",
      "Модель TARCH/ZARCH: посчитана 501 точка\n",
      "Модель TARCH/ZARCH: посчитана 1001 точка\n",
      "Модель TARCH/ZARCH: посчитана 1501 точка\n",
      "Модель TARCH/ZARCH: посчитана 2001 точка\n",
      "Модель TARCH/ZARCH: посчитана 2501 точка\n"
     ]
    },
    {
     "name": "stderr",
     "output_type": "stream",
     "text": [
      " C:\\Users\\Georgy\\Anaconda3\\lib\\site-packages\\arch\\univariate\\base.py:711: ConvergenceWarning:The optimizer returned code 8. The message is:\n",
      "Positive directional derivative for linesearch\n",
      "See scipy.optimize.fmin_slsqp for code meaning.\n",
      "\n",
      " C:\\Users\\Georgy\\Anaconda3\\lib\\site-packages\\arch\\univariate\\base.py:711: ConvergenceWarning:The optimizer returned code 8. The message is:\n",
      "Positive directional derivative for linesearch\n",
      "See scipy.optimize.fmin_slsqp for code meaning.\n",
      "\n"
     ]
    },
    {
     "name": "stdout",
     "output_type": "stream",
     "text": [
      "Модель TARCH/ZARCH: посчитана 3001 точка\n",
      "Модель TARCH/ZARCH: посчитана 3501 точка\n",
      "Модель TARCH/ZARCH: посчитана 4001 точка\n"
     ]
    },
    {
     "name": "stderr",
     "output_type": "stream",
     "text": [
      " C:\\Users\\Georgy\\Anaconda3\\lib\\site-packages\\arch\\univariate\\base.py:711: ConvergenceWarning:The optimizer returned code 8. The message is:\n",
      "Positive directional derivative for linesearch\n",
      "See scipy.optimize.fmin_slsqp for code meaning.\n",
      "\n"
     ]
    },
    {
     "name": "stdout",
     "output_type": "stream",
     "text": [
      "Модель TARCH/ZARCH: посчитана 4501 точка\n",
      "Выполнено за 0:02:54.804535\n",
      "Модель GP (rbf): посчитана 1 точка\n",
      "Модель GP (rbf): посчитана 501 точка\n",
      "Модель GP (rbf): посчитана 1001 точка\n",
      "Модель GP (rbf): посчитана 1501 точка\n",
      "Модель GP (rbf): посчитана 2001 точка\n",
      "Модель GP (rbf): посчитана 2501 точка\n",
      "Модель GP (rbf): посчитана 3001 точка\n",
      "Модель GP (rbf): посчитана 3501 точка\n",
      "Модель GP (rbf): посчитана 4001 точка\n",
      "Модель GP (rbf): посчитана 4501 точка\n",
      "Выполнено за 0:13:09.127430\n",
      "Модель GP (Mat32): посчитана 1 точка\n",
      "Модель GP (Mat32): посчитана 501 точка\n",
      "Модель GP (Mat32): посчитана 1001 точка\n",
      "Модель GP (Mat32): посчитана 1501 точка\n",
      "Модель GP (Mat32): посчитана 2001 точка\n",
      "Модель GP (Mat32): посчитана 2501 точка\n",
      "Модель GP (Mat32): посчитана 3001 точка\n",
      "Модель GP (Mat32): посчитана 3501 точка\n",
      "Модель GP (Mat32): посчитана 4001 точка\n",
      "Модель GP (Mat32): посчитана 4501 точка\n",
      "Выполнено за 0:13:52.328877\n",
      "Модель GP (Mat52): посчитана 1 точка\n",
      "Модель GP (Mat52): посчитана 501 точка\n",
      "Модель GP (Mat52): посчитана 1001 точка\n",
      "Модель GP (Mat52): посчитана 1501 точка\n",
      "Модель GP (Mat52): посчитана 2001 точка\n",
      "Модель GP (Mat52): посчитана 2501 точка\n",
      "Модель GP (Mat52): посчитана 3001 точка\n",
      "Модель GP (Mat52): посчитана 3501 точка\n",
      "Модель GP (Mat52): посчитана 4001 точка\n",
      "Модель GP (Mat52): посчитана 4501 точка\n",
      "Выполнено за 0:14:05.778566\n",
      "Работа с активом Акции Мегафон\n",
      "-----------------------------------\n",
      "Модель GARCH: посчитана 1 точка\n",
      "Модель GARCH: посчитана 501 точка\n",
      "Модель GARCH: посчитана 1001 точка\n",
      "Выполнено за 0:00:41.056191\n",
      "Модель GJR-GARCH: посчитана 1 точка\n",
      "Модель GJR-GARCH: посчитана 501 точка\n",
      "Модель GJR-GARCH: посчитана 1001 точка\n",
      "Выполнено за 0:00:46.989388\n",
      "Модель TARCH/ZARCH: посчитана 1 точка\n",
      "Модель TARCH/ZARCH: посчитана 501 точка\n",
      "Модель TARCH/ZARCH: посчитана 1001 точка\n",
      "Выполнено за 0:00:51.509279\n",
      "Модель GP (rbf): посчитана 1 точка\n",
      "Модель GP (rbf): посчитана 501 точка\n",
      "Модель GP (rbf): посчитана 1001 точка\n",
      "Выполнено за 0:03:36.668914\n",
      "Модель GP (Mat32): посчитана 1 точка\n",
      "Модель GP (Mat32): посчитана 501 точка\n",
      "Модель GP (Mat32): посчитана 1001 точка\n",
      "Выполнено за 0:03:32.921236\n",
      "Модель GP (Mat52): посчитана 1 точка\n",
      "Модель GP (Mat52): посчитана 501 точка\n",
      "Модель GP (Mat52): посчитана 1001 точка\n",
      "Выполнено за 0:03:48.290777\n",
      "Работа с активом Акции МТС\n",
      "-----------------------------------\n",
      "Модель GARCH: посчитана 1 точка\n",
      "Модель GARCH: посчитана 501 точка\n",
      "Модель GARCH: посчитана 1001 точка\n",
      "Модель GARCH: посчитана 1501 точка\n"
     ]
    },
    {
     "name": "stderr",
     "output_type": "stream",
     "text": [
      " C:\\Users\\Georgy\\Anaconda3\\lib\\site-packages\\arch\\univariate\\base.py:711: ConvergenceWarning:The optimizer returned code 8. The message is:\n",
      "Positive directional derivative for linesearch\n",
      "See scipy.optimize.fmin_slsqp for code meaning.\n",
      "\n",
      " C:\\Users\\Georgy\\Anaconda3\\lib\\site-packages\\arch\\univariate\\base.py:711: ConvergenceWarning:The optimizer returned code 8. The message is:\n",
      "Positive directional derivative for linesearch\n",
      "See scipy.optimize.fmin_slsqp for code meaning.\n",
      "\n",
      " C:\\Users\\Georgy\\Anaconda3\\lib\\site-packages\\arch\\univariate\\base.py:711: ConvergenceWarning:The optimizer returned code 8. The message is:\n",
      "Positive directional derivative for linesearch\n",
      "See scipy.optimize.fmin_slsqp for code meaning.\n",
      "\n",
      " C:\\Users\\Georgy\\Anaconda3\\lib\\site-packages\\arch\\univariate\\base.py:711: ConvergenceWarning:The optimizer returned code 8. The message is:\n",
      "Positive directional derivative for linesearch\n",
      "See scipy.optimize.fmin_slsqp for code meaning.\n",
      "\n",
      " C:\\Users\\Georgy\\Anaconda3\\lib\\site-packages\\arch\\univariate\\base.py:711: ConvergenceWarning:The optimizer returned code 8. The message is:\n",
      "Positive directional derivative for linesearch\n",
      "See scipy.optimize.fmin_slsqp for code meaning.\n",
      "\n",
      " C:\\Users\\Georgy\\Anaconda3\\lib\\site-packages\\arch\\univariate\\base.py:711: ConvergenceWarning:The optimizer returned code 8. The message is:\n",
      "Positive directional derivative for linesearch\n",
      "See scipy.optimize.fmin_slsqp for code meaning.\n",
      "\n"
     ]
    },
    {
     "name": "stdout",
     "output_type": "stream",
     "text": [
      "Модель GARCH: посчитана 2001 точка\n",
      "Модель GARCH: посчитана 2501 точка\n"
     ]
    },
    {
     "ename": "KeyboardInterrupt",
     "evalue": "",
     "output_type": "error",
     "traceback": [
      "\u001b[1;31m---------------------------------------------------------------------------\u001b[0m",
      "\u001b[1;31mKeyboardInterrupt\u001b[0m                         Traceback (most recent call last)",
      "\u001b[1;32m<ipython-input-591-d32880b5c035>\u001b[0m in \u001b[0;36m<module>\u001b[1;34m\u001b[0m\n\u001b[0;32m     12\u001b[0m         \u001b[0mprint\u001b[0m\u001b[1;33m(\u001b[0m\u001b[1;34m'-----------------------------------'\u001b[0m\u001b[1;33m)\u001b[0m\u001b[1;33m\u001b[0m\u001b[1;33m\u001b[0m\u001b[0m\n\u001b[0;32m     13\u001b[0m         \u001b[1;32mfor\u001b[0m \u001b[0mgarch_param\u001b[0m \u001b[1;32min\u001b[0m \u001b[0mgarch_param_dict\u001b[0m\u001b[1;33m:\u001b[0m\u001b[1;33m\u001b[0m\u001b[1;33m\u001b[0m\u001b[0m\n\u001b[1;32m---> 14\u001b[1;33m             \u001b[0mresults_all\u001b[0m\u001b[1;33m[\u001b[0m\u001b[0masset_name\u001b[0m\u001b[1;33m]\u001b[0m\u001b[1;33m[\u001b[0m\u001b[0mgarch_param\u001b[0m\u001b[1;33m]\u001b[0m \u001b[1;33m=\u001b[0m \u001b[0mfixed_window_garch\u001b[0m\u001b[1;33m(\u001b[0m\u001b[0mts\u001b[0m\u001b[1;33m,\u001b[0m \u001b[0mmodel_params\u001b[0m\u001b[1;33m=\u001b[0m\u001b[0mgarch_param_dict\u001b[0m\u001b[1;33m[\u001b[0m\u001b[0mgarch_param\u001b[0m\u001b[1;33m]\u001b[0m\u001b[1;33m)\u001b[0m\u001b[1;33m\u001b[0m\u001b[1;33m\u001b[0m\u001b[0m\n\u001b[0m\u001b[0;32m     15\u001b[0m         \u001b[1;32mfor\u001b[0m \u001b[0mGP_kernel\u001b[0m \u001b[1;32min\u001b[0m \u001b[0mGP_kernel_dict\u001b[0m\u001b[1;33m:\u001b[0m\u001b[1;33m\u001b[0m\u001b[1;33m\u001b[0m\u001b[0m\n\u001b[0;32m     16\u001b[0m             \u001b[0mresults_all\u001b[0m\u001b[1;33m[\u001b[0m\u001b[0masset_name\u001b[0m\u001b[1;33m]\u001b[0m\u001b[1;33m[\u001b[0m\u001b[0mGP_kernel\u001b[0m\u001b[1;33m]\u001b[0m \u001b[1;33m=\u001b[0m \u001b[0mfixed_window_GP\u001b[0m\u001b[1;33m(\u001b[0m\u001b[0mts_for_GP\u001b[0m\u001b[1;33m,\u001b[0m \u001b[0mkernel\u001b[0m\u001b[1;33m=\u001b[0m\u001b[0mGP_kernel_dict\u001b[0m\u001b[1;33m[\u001b[0m\u001b[0mGP_kernel\u001b[0m\u001b[1;33m]\u001b[0m\u001b[1;33m)\u001b[0m\u001b[1;33m\u001b[0m\u001b[1;33m\u001b[0m\u001b[0m\n",
      "\u001b[1;32m<ipython-input-184-8bda8a638f60>\u001b[0m in \u001b[0;36mfixed_window_garch\u001b[1;34m(ts, window_size, model_params)\u001b[0m\n\u001b[0;32m     16\u001b[0m                             dist=model_params[5])\n\u001b[0;32m     17\u001b[0m     \u001b[1;32mfor\u001b[0m \u001b[0mt\u001b[0m \u001b[1;32min\u001b[0m \u001b[0mrange\u001b[0m\u001b[1;33m(\u001b[0m\u001b[0mts\u001b[0m\u001b[1;33m.\u001b[0m\u001b[0mshape\u001b[0m\u001b[1;33m[\u001b[0m\u001b[1;36m0\u001b[0m\u001b[1;33m]\u001b[0m \u001b[1;33m-\u001b[0m \u001b[0mwindow_size\u001b[0m\u001b[1;33m)\u001b[0m\u001b[1;33m:\u001b[0m\u001b[1;33m\u001b[0m\u001b[1;33m\u001b[0m\u001b[0m\n\u001b[1;32m---> 18\u001b[1;33m         \u001b[0mgarch_results\u001b[0m \u001b[1;33m=\u001b[0m \u001b[0mmodel_to_fit\u001b[0m\u001b[1;33m.\u001b[0m\u001b[0mfit\u001b[0m\u001b[1;33m(\u001b[0m\u001b[0mfirst_obs\u001b[0m\u001b[1;33m=\u001b[0m\u001b[0mfirst\u001b[0m\u001b[1;33m+\u001b[0m\u001b[0mt\u001b[0m\u001b[1;33m,\u001b[0m \u001b[0mlast_obs\u001b[0m\u001b[1;33m=\u001b[0m\u001b[0mlast\u001b[0m\u001b[1;33m+\u001b[0m\u001b[0mt\u001b[0m\u001b[1;33m,\u001b[0m \u001b[0mupdate_freq\u001b[0m\u001b[1;33m=\u001b[0m\u001b[1;36m0\u001b[0m\u001b[1;33m,\u001b[0m \u001b[0mdisp\u001b[0m\u001b[1;33m=\u001b[0m\u001b[1;34m'off'\u001b[0m\u001b[1;33m)\u001b[0m\u001b[1;33m\u001b[0m\u001b[1;33m\u001b[0m\u001b[0m\n\u001b[0m\u001b[0;32m     19\u001b[0m         \u001b[0mtemp_res\u001b[0m \u001b[1;33m=\u001b[0m \u001b[0mgarch_results\u001b[0m\u001b[1;33m.\u001b[0m\u001b[0mforecast\u001b[0m\u001b[1;33m(\u001b[0m\u001b[0mhorizon\u001b[0m\u001b[1;33m=\u001b[0m\u001b[1;36m1\u001b[0m\u001b[1;33m)\u001b[0m\u001b[1;33m.\u001b[0m\u001b[0mvariance\u001b[0m\u001b[1;33m\u001b[0m\u001b[1;33m\u001b[0m\u001b[0m\n\u001b[0;32m     20\u001b[0m         \u001b[0mtemp_forecast\u001b[0m \u001b[1;33m=\u001b[0m \u001b[0mtemp_res\u001b[0m\u001b[1;33m.\u001b[0m\u001b[0miloc\u001b[0m\u001b[1;33m[\u001b[0m\u001b[0mlast\u001b[0m\u001b[1;33m+\u001b[0m\u001b[0mt\u001b[0m\u001b[1;33m]\u001b[0m\u001b[1;33m\u001b[0m\u001b[1;33m\u001b[0m\u001b[0m\n",
      "\u001b[1;32m~\\Anaconda3\\lib\\site-packages\\arch\\univariate\\base.py\u001b[0m in \u001b[0;36mfit\u001b[1;34m(self, update_freq, disp, starting_values, cov_type, show_warning, first_obs, last_obs, tol, options, backcast)\u001b[0m\n\u001b[0;32m    698\u001b[0m             \u001b[0mtol\u001b[0m\u001b[1;33m=\u001b[0m\u001b[0mtol\u001b[0m\u001b[1;33m,\u001b[0m\u001b[1;33m\u001b[0m\u001b[1;33m\u001b[0m\u001b[0m\n\u001b[0;32m    699\u001b[0m             \u001b[0mcallback\u001b[0m\u001b[1;33m=\u001b[0m\u001b[0m_callback\u001b[0m\u001b[1;33m,\u001b[0m\u001b[1;33m\u001b[0m\u001b[1;33m\u001b[0m\u001b[0m\n\u001b[1;32m--> 700\u001b[1;33m             \u001b[0moptions\u001b[0m\u001b[1;33m=\u001b[0m\u001b[0moptions\u001b[0m\u001b[1;33m,\u001b[0m\u001b[1;33m\u001b[0m\u001b[1;33m\u001b[0m\u001b[0m\n\u001b[0m\u001b[0;32m    701\u001b[0m         )\n\u001b[0;32m    702\u001b[0m \u001b[1;33m\u001b[0m\u001b[0m\n",
      "\u001b[1;32m~\\Anaconda3\\lib\\site-packages\\scipy\\optimize\\_minimize.py\u001b[0m in \u001b[0;36mminimize\u001b[1;34m(fun, x0, args, method, jac, hess, hessp, bounds, constraints, tol, callback, options)\u001b[0m\n\u001b[0;32m    606\u001b[0m     \u001b[1;32melif\u001b[0m \u001b[0mmeth\u001b[0m \u001b[1;33m==\u001b[0m \u001b[1;34m'slsqp'\u001b[0m\u001b[1;33m:\u001b[0m\u001b[1;33m\u001b[0m\u001b[1;33m\u001b[0m\u001b[0m\n\u001b[0;32m    607\u001b[0m         return _minimize_slsqp(fun, x0, args, jac, bounds,\n\u001b[1;32m--> 608\u001b[1;33m                                constraints, callback=callback, **options)\n\u001b[0m\u001b[0;32m    609\u001b[0m     \u001b[1;32melif\u001b[0m \u001b[0mmeth\u001b[0m \u001b[1;33m==\u001b[0m \u001b[1;34m'trust-constr'\u001b[0m\u001b[1;33m:\u001b[0m\u001b[1;33m\u001b[0m\u001b[1;33m\u001b[0m\u001b[0m\n\u001b[0;32m    610\u001b[0m         return _minimize_trustregion_constr(fun, x0, args, jac, hess, hessp,\n",
      "\u001b[1;32m~\\Anaconda3\\lib\\site-packages\\scipy\\optimize\\slsqp.py\u001b[0m in \u001b[0;36m_minimize_slsqp\u001b[1;34m(func, x0, args, jac, bounds, constraints, maxiter, ftol, iprint, disp, eps, callback, **unknown_options)\u001b[0m\n\u001b[0;32m    432\u001b[0m             \u001b[1;32mif\u001b[0m \u001b[0mcons\u001b[0m\u001b[1;33m[\u001b[0m\u001b[1;34m'ineq'\u001b[0m\u001b[1;33m]\u001b[0m\u001b[1;33m:\u001b[0m\u001b[1;33m\u001b[0m\u001b[1;33m\u001b[0m\u001b[0m\n\u001b[0;32m    433\u001b[0m                 a_ieq = vstack([con['jac'](x, *con['args'])\n\u001b[1;32m--> 434\u001b[1;33m                                 for con in cons['ineq']])\n\u001b[0m\u001b[0;32m    435\u001b[0m             \u001b[1;32melse\u001b[0m\u001b[1;33m:\u001b[0m  \u001b[1;31m# no inequality constraint\u001b[0m\u001b[1;33m\u001b[0m\u001b[1;33m\u001b[0m\u001b[0m\n\u001b[0;32m    436\u001b[0m                 \u001b[0ma_ieq\u001b[0m \u001b[1;33m=\u001b[0m \u001b[0mzeros\u001b[0m\u001b[1;33m(\u001b[0m\u001b[1;33m(\u001b[0m\u001b[0mmieq\u001b[0m\u001b[1;33m,\u001b[0m \u001b[0mn\u001b[0m\u001b[1;33m)\u001b[0m\u001b[1;33m)\u001b[0m\u001b[1;33m\u001b[0m\u001b[1;33m\u001b[0m\u001b[0m\n",
      "\u001b[1;32m~\\Anaconda3\\lib\\site-packages\\scipy\\optimize\\slsqp.py\u001b[0m in \u001b[0;36m<listcomp>\u001b[1;34m(.0)\u001b[0m\n\u001b[0;32m    432\u001b[0m             \u001b[1;32mif\u001b[0m \u001b[0mcons\u001b[0m\u001b[1;33m[\u001b[0m\u001b[1;34m'ineq'\u001b[0m\u001b[1;33m]\u001b[0m\u001b[1;33m:\u001b[0m\u001b[1;33m\u001b[0m\u001b[1;33m\u001b[0m\u001b[0m\n\u001b[0;32m    433\u001b[0m                 a_ieq = vstack([con['jac'](x, *con['args'])\n\u001b[1;32m--> 434\u001b[1;33m                                 for con in cons['ineq']])\n\u001b[0m\u001b[0;32m    435\u001b[0m             \u001b[1;32melse\u001b[0m\u001b[1;33m:\u001b[0m  \u001b[1;31m# no inequality constraint\u001b[0m\u001b[1;33m\u001b[0m\u001b[1;33m\u001b[0m\u001b[0m\n\u001b[0;32m    436\u001b[0m                 \u001b[0ma_ieq\u001b[0m \u001b[1;33m=\u001b[0m \u001b[0mzeros\u001b[0m\u001b[1;33m(\u001b[0m\u001b[1;33m(\u001b[0m\u001b[0mmieq\u001b[0m\u001b[1;33m,\u001b[0m \u001b[0mn\u001b[0m\u001b[1;33m)\u001b[0m\u001b[1;33m)\u001b[0m\u001b[1;33m\u001b[0m\u001b[1;33m\u001b[0m\u001b[0m\n",
      "\u001b[1;32m~\\Anaconda3\\lib\\site-packages\\scipy\\optimize\\slsqp.py\u001b[0m in \u001b[0;36mcjac\u001b[1;34m(x, *args)\u001b[0m\n\u001b[0;32m    275\u001b[0m             \u001b[1;32mdef\u001b[0m \u001b[0mcjac_factory\u001b[0m\u001b[1;33m(\u001b[0m\u001b[0mfun\u001b[0m\u001b[1;33m)\u001b[0m\u001b[1;33m:\u001b[0m\u001b[1;33m\u001b[0m\u001b[1;33m\u001b[0m\u001b[0m\n\u001b[0;32m    276\u001b[0m                 \u001b[1;32mdef\u001b[0m \u001b[0mcjac\u001b[0m\u001b[1;33m(\u001b[0m\u001b[0mx\u001b[0m\u001b[1;33m,\u001b[0m \u001b[1;33m*\u001b[0m\u001b[0margs\u001b[0m\u001b[1;33m)\u001b[0m\u001b[1;33m:\u001b[0m\u001b[1;33m\u001b[0m\u001b[1;33m\u001b[0m\u001b[0m\n\u001b[1;32m--> 277\u001b[1;33m                     \u001b[1;32mreturn\u001b[0m \u001b[0mapprox_jacobian\u001b[0m\u001b[1;33m(\u001b[0m\u001b[0mx\u001b[0m\u001b[1;33m,\u001b[0m \u001b[0mfun\u001b[0m\u001b[1;33m,\u001b[0m \u001b[0mepsilon\u001b[0m\u001b[1;33m,\u001b[0m \u001b[1;33m*\u001b[0m\u001b[0margs\u001b[0m\u001b[1;33m)\u001b[0m\u001b[1;33m\u001b[0m\u001b[1;33m\u001b[0m\u001b[0m\n\u001b[0m\u001b[0;32m    278\u001b[0m                 \u001b[1;32mreturn\u001b[0m \u001b[0mcjac\u001b[0m\u001b[1;33m\u001b[0m\u001b[1;33m\u001b[0m\u001b[0m\n\u001b[0;32m    279\u001b[0m             \u001b[0mcjac\u001b[0m \u001b[1;33m=\u001b[0m \u001b[0mcjac_factory\u001b[0m\u001b[1;33m(\u001b[0m\u001b[0mcon\u001b[0m\u001b[1;33m[\u001b[0m\u001b[1;34m'fun'\u001b[0m\u001b[1;33m]\u001b[0m\u001b[1;33m)\u001b[0m\u001b[1;33m\u001b[0m\u001b[1;33m\u001b[0m\u001b[0m\n",
      "\u001b[1;32m~\\Anaconda3\\lib\\site-packages\\scipy\\optimize\\slsqp.py\u001b[0m in \u001b[0;36mapprox_jacobian\u001b[1;34m(x, func, epsilon, *args)\u001b[0m\n\u001b[0;32m     61\u001b[0m     \u001b[1;32mfor\u001b[0m \u001b[0mi\u001b[0m \u001b[1;32min\u001b[0m \u001b[0mrange\u001b[0m\u001b[1;33m(\u001b[0m\u001b[0mlen\u001b[0m\u001b[1;33m(\u001b[0m\u001b[0mx0\u001b[0m\u001b[1;33m)\u001b[0m\u001b[1;33m)\u001b[0m\u001b[1;33m:\u001b[0m\u001b[1;33m\u001b[0m\u001b[1;33m\u001b[0m\u001b[0m\n\u001b[0;32m     62\u001b[0m         \u001b[0mdx\u001b[0m\u001b[1;33m[\u001b[0m\u001b[0mi\u001b[0m\u001b[1;33m]\u001b[0m \u001b[1;33m=\u001b[0m \u001b[0mepsilon\u001b[0m\u001b[1;33m\u001b[0m\u001b[1;33m\u001b[0m\u001b[0m\n\u001b[1;32m---> 63\u001b[1;33m         \u001b[0mjac\u001b[0m\u001b[1;33m[\u001b[0m\u001b[0mi\u001b[0m\u001b[1;33m]\u001b[0m \u001b[1;33m=\u001b[0m \u001b[1;33m(\u001b[0m\u001b[0mfunc\u001b[0m\u001b[1;33m(\u001b[0m\u001b[1;33m*\u001b[0m\u001b[1;33m(\u001b[0m\u001b[1;33m(\u001b[0m\u001b[0mx0\u001b[0m\u001b[1;33m+\u001b[0m\u001b[0mdx\u001b[0m\u001b[1;33m,\u001b[0m\u001b[1;33m)\u001b[0m\u001b[1;33m+\u001b[0m\u001b[0margs\u001b[0m\u001b[1;33m)\u001b[0m\u001b[1;33m)\u001b[0m \u001b[1;33m-\u001b[0m \u001b[0mf0\u001b[0m\u001b[1;33m)\u001b[0m\u001b[1;33m/\u001b[0m\u001b[0mepsilon\u001b[0m\u001b[1;33m\u001b[0m\u001b[1;33m\u001b[0m\u001b[0m\n\u001b[0m\u001b[0;32m     64\u001b[0m         \u001b[0mdx\u001b[0m\u001b[1;33m[\u001b[0m\u001b[0mi\u001b[0m\u001b[1;33m]\u001b[0m \u001b[1;33m=\u001b[0m \u001b[1;36m0.0\u001b[0m\u001b[1;33m\u001b[0m\u001b[1;33m\u001b[0m\u001b[0m\n\u001b[0;32m     65\u001b[0m \u001b[1;33m\u001b[0m\u001b[0m\n",
      "\u001b[1;32m~\\Anaconda3\\lib\\site-packages\\arch\\univariate\\base.py\u001b[0m in \u001b[0;36mf\u001b[1;34m(params, *args)\u001b[0m\n\u001b[0;32m    107\u001b[0m     \u001b[1;32mdef\u001b[0m \u001b[0mfactory\u001b[0m\u001b[1;33m(\u001b[0m\u001b[0mcoeff\u001b[0m\u001b[1;33m:\u001b[0m \u001b[0mNDArray\u001b[0m\u001b[1;33m,\u001b[0m \u001b[0mval\u001b[0m\u001b[1;33m:\u001b[0m \u001b[0mfloat\u001b[0m\u001b[1;33m)\u001b[0m \u001b[1;33m->\u001b[0m \u001b[0mCallable\u001b[0m\u001b[1;33m[\u001b[0m\u001b[1;33m...\u001b[0m\u001b[1;33m,\u001b[0m \u001b[0mfloat\u001b[0m\u001b[1;33m]\u001b[0m\u001b[1;33m:\u001b[0m\u001b[1;33m\u001b[0m\u001b[1;33m\u001b[0m\u001b[0m\n\u001b[0;32m    108\u001b[0m         \u001b[1;32mdef\u001b[0m \u001b[0mf\u001b[0m\u001b[1;33m(\u001b[0m\u001b[0mparams\u001b[0m\u001b[1;33m:\u001b[0m \u001b[0mNDArray\u001b[0m\u001b[1;33m,\u001b[0m \u001b[1;33m*\u001b[0m\u001b[0margs\u001b[0m\u001b[1;33m:\u001b[0m \u001b[0mAny\u001b[0m\u001b[1;33m)\u001b[0m \u001b[1;33m->\u001b[0m \u001b[0mfloat\u001b[0m\u001b[1;33m:\u001b[0m\u001b[1;33m\u001b[0m\u001b[1;33m\u001b[0m\u001b[0m\n\u001b[1;32m--> 109\u001b[1;33m             \u001b[1;32mreturn\u001b[0m \u001b[0mnp\u001b[0m\u001b[1;33m.\u001b[0m\u001b[0mdot\u001b[0m\u001b[1;33m(\u001b[0m\u001b[0mcoeff\u001b[0m\u001b[1;33m,\u001b[0m \u001b[0mparams\u001b[0m\u001b[1;33m)\u001b[0m \u001b[1;33m-\u001b[0m \u001b[0mval\u001b[0m\u001b[1;33m\u001b[0m\u001b[1;33m\u001b[0m\u001b[0m\n\u001b[0m\u001b[0;32m    110\u001b[0m \u001b[1;33m\u001b[0m\u001b[0m\n\u001b[0;32m    111\u001b[0m         \u001b[1;32mreturn\u001b[0m \u001b[0mf\u001b[0m\u001b[1;33m\u001b[0m\u001b[1;33m\u001b[0m\u001b[0m\n",
      "\u001b[1;31mKeyboardInterrupt\u001b[0m: "
     ]
    }
   ],
   "source": [
    "results_all={}\n",
    "for asset_group in [stocks, indicies, currencies, commodities]:\n",
    "    for asset_name in asset_group:\n",
    "\n",
    "        results_all[asset_name] = {}\n",
    "        ts = data[asset_name]['return']\n",
    "        ts = ts.reset_index(drop=True)\n",
    "        \n",
    "        ts_for_GP = data[asset_name]['return_abs']\n",
    "\n",
    "        print('Работа с активом {}'.format(mapping[asset_name]))\n",
    "        print('-----------------------------------')\n",
    "        for garch_param in garch_param_dict:\n",
    "            results_all[asset_name][garch_param] = fixed_window_garch(ts, model_params=garch_param_dict[garch_param])\n",
    "        for GP_kernel in GP_kernel_dict:\n",
    "            results_all[asset_name][GP_kernel] = fixed_window_GP(ts_for_GP, kernel=GP_kernel_dict[GP_kernel])\n",
    "        \n",
    "        "
   ]
  },
  {
   "cell_type": "code",
   "execution_count": 926,
   "metadata": {},
   "outputs": [
    {
     "data": {
      "text/plain": [
       "<matplotlib.legend.Legend at 0x20b137e8e48>"
      ]
     },
     "execution_count": 926,
     "metadata": {},
     "output_type": "execute_result"
    },
    {
     "data": {
      "image/png": "[encoded data removed]",
      "text/plain": [
       "<Figure size 1440x576 with 1 Axes>"
      ]
     },
     "metadata": {
      "needs_background": "light"
     },
     "output_type": "display_data"
    }
   ],
   "source": [
    "\n",
    "plt.figure(figsize=(20,8))\n",
    "plt.title('Сравнение GARCH(1,1) и регрессии на ГП (RBF-ядро) для волатильности (корня абсолютной доходности) индекса МосБиржи')\n",
    "plt.plot(np.sqrt(data['imoex']['return_abs'].reset_index(drop=True)[252:]), color='grey', label='Абсолютная доходность (кв. корень)',  alpha=0.3)\n",
    "plt.plot(np.sqrt(results_indicies['imoex']['GARCH']), label='GARCH(1,1)')\n",
    "# plt.plot(np.sqrt(results_indicies['imoex']['GARCH']), label='GJR-GARCH')\n",
    "# plt.plot(np.sqrt(results_indicies['imoex']['GARCH']), label='TGARCH')\n",
    "plt.plot(results_indicies['imoex']['GP (RBF)'], label='Регрессия на ГП (RBF-ядро)')\n",
    "# plt.plot(results_indicies['imoex']['GP (Matern52)'], label = 'Matern52')\n",
    "plt.legend()"
   ]
  },
  {
   "cell_type": "code",
   "execution_count": 334,
   "metadata": {},
   "outputs": [],
   "source": [
    "# with open('results_stocks1104.pickle', 'wb') as rs:\n",
    "#     pickle.dump(results_stocks, rs)"
   ]
  },
  {
   "cell_type": "code",
   "execution_count": 584,
   "metadata": {},
   "outputs": [
    {
     "data": {
      "text/plain": [
       "[<matplotlib.lines.Line2D at 0x20aadc2fa20>]"
      ]
     },
     "execution_count": 584,
     "metadata": {},
     "output_type": "execute_result"
    },
    {
     "data": {
      "image/png": "[encoded data removed]",
      "text/plain": [
       "<Figure size 1440x720 with 1 Axes>"
      ]
     },
     "metadata": {
      "needs_background": "light"
     },
     "output_type": "display_data"
    }
   ],
   "source": [
    "plt.figure(figsize=(20,10))\n",
    "plt.plot(np.sqrt(ff))\n",
    "plt.plot(ts_eval[252:], alpha=0.3)"
   ]
  },
  {
   "cell_type": "code",
   "execution_count": 911,
   "metadata": {},
   "outputs": [],
   "source": [
    "def model_quality(data_true, data_eval, asset_group=stocks, window_size=252, vol_proxy='return_abs'):\n",
    "\n",
    "    ql=[]\n",
    "    ql_dict = {}\n",
    "    for asset_name in data_eval:\n",
    "        ql_dict[asset_name] = {}\n",
    "        for model_name in data_eval[asset_name]:\n",
    "            if asset_name == 'lukoil' and model_name =='GP (RBF)':\n",
    "\n",
    "                y_true = data_true[asset_name][vol_proxy][window_size+169:]\n",
    "                y_eval = data_eval[asset_name][model_name]\n",
    "            elif  asset_name == 'lukoil' and model_name == 'GP (Matern52)':\n",
    "                y_true = data_true[asset_name][vol_proxy][window_size+168:]\n",
    "                y_eval = data_eval[asset_name][model_name]\n",
    "            else:\n",
    "                y_true = data_true[asset_name][vol_proxy][window_size:]\n",
    "                y_eval = data_eval[asset_name][model_name]\n",
    "                \n",
    "\n",
    "            mse1 = mean_squared_error(y_true, y_eval)\n",
    "            mae1 = mean_absolute_error(y_true, y_eval)\n",
    "            mdrae = MdRAE(y_true, y_eval)\n",
    "            smape =sMAPE(y_true, y_eval)\n",
    "            \n",
    "            ql_dict[asset_name][model_name] = [mse1,\n",
    "                       mae1,\n",
    "                       mdrae,smape]\n",
    "            ql.append([mse1,\n",
    "                       mae1,\n",
    "                       mdrae,smape])\n",
    "            \n",
    "    ql = np.array(ql).reshape(6,-1)\n",
    "            \n",
    "    multi_index = pd.MultiIndex.from_product([['GARCH','GJR-GARCH','TGARCH', 'GP (RBF)', 'GP (Matern52)', '\"Наивная\" модель'],\n",
    "                                              ['MSE1','MAE1', 'MdRAE', 'sMAPE']], \n",
    "                                              names=['Модель','Метрика качества']) \n",
    "    \n",
    "    return pd.DataFrame(ql, index=asset_group, columns=multi_index)\n",
    "    \n",
    "    \n",
    "    "
   ]
  },
  {
   "cell_type": "code",
   "execution_count": 909,
   "metadata": {},
   "outputs": [],
   "source": [
    "df = model_quality(data,results_indicies, asset_group=indicies)\n",
    "# df.T.to_excel('indicies_dfT1604.xls')"
   ]
  },
  {
   "cell_type": "code",
   "execution_count": 910,
   "metadata": {},
   "outputs": [
    {
     "data": {
      "text/html": [
       "<div>\n",
       "<style scoped>\n",
       "    .dataframe tbody tr th:only-of-type {\n",
       "        vertical-align: middle;\n",
       "    }\n",
       "\n",
       "    .dataframe tbody tr th {\n",
       "        vertical-align: top;\n",
       "    }\n",
       "\n",
       "    .dataframe thead th {\n",
       "        text-align: right;\n",
       "    }\n",
       "</style>\n",
       "<table border=\"1\" class=\"dataframe\">\n",
       "  <thead>\n",
       "    <tr style=\"text-align: right;\">\n",
       "      <th></th>\n",
       "      <th></th>\n",
       "      <th>bovespa</th>\n",
       "      <th>bse_sensex</th>\n",
       "      <th>imoex</th>\n",
       "      <th>n225</th>\n",
       "      <th>nasdaq</th>\n",
       "      <th>rtsi</th>\n",
       "    </tr>\n",
       "    <tr>\n",
       "      <th>Модель</th>\n",
       "      <th>Метрика качества</th>\n",
       "      <th></th>\n",
       "      <th></th>\n",
       "      <th></th>\n",
       "      <th></th>\n",
       "      <th></th>\n",
       "      <th></th>\n",
       "    </tr>\n",
       "  </thead>\n",
       "  <tbody>\n",
       "    <tr>\n",
       "      <th rowspan=\"4\" valign=\"top\">GARCH</th>\n",
       "      <th>MSE1</th>\n",
       "      <td>0.299707</td>\n",
       "      <td>0.201883</td>\n",
       "      <td>0.294095</td>\n",
       "      <td>0.319161</td>\n",
       "      <td>0.220026</td>\n",
       "      <td>0.317657</td>\n",
       "    </tr>\n",
       "    <tr>\n",
       "      <th>MAE1</th>\n",
       "      <td>0.443563</td>\n",
       "      <td>0.357072</td>\n",
       "      <td>0.426143</td>\n",
       "      <td>0.456341</td>\n",
       "      <td>0.378823</td>\n",
       "      <td>0.450791</td>\n",
       "    </tr>\n",
       "    <tr>\n",
       "      <th>MdRAE</th>\n",
       "      <td>0.837093</td>\n",
       "      <td>0.833134</td>\n",
       "      <td>0.861878</td>\n",
       "      <td>0.884281</td>\n",
       "      <td>0.810120</td>\n",
       "      <td>0.864989</td>\n",
       "    </tr>\n",
       "    <tr>\n",
       "      <th>sMAPE</th>\n",
       "      <td>46.328379</td>\n",
       "      <td>44.138706</td>\n",
       "      <td>43.493803</td>\n",
       "      <td>59.816343</td>\n",
       "      <td>44.563343</td>\n",
       "      <td>43.316079</td>\n",
       "    </tr>\n",
       "    <tr>\n",
       "      <th rowspan=\"4\" valign=\"top\">GJR-GARCH</th>\n",
       "      <th>MSE1</th>\n",
       "      <td>0.293378</td>\n",
       "      <td>0.195142</td>\n",
       "      <td>0.290025</td>\n",
       "      <td>0.313448</td>\n",
       "      <td>0.208693</td>\n",
       "      <td>19.138496</td>\n",
       "    </tr>\n",
       "    <tr>\n",
       "      <th>MAE1</th>\n",
       "      <td>0.438798</td>\n",
       "      <td>0.350942</td>\n",
       "      <td>0.424407</td>\n",
       "      <td>0.449182</td>\n",
       "      <td>0.368606</td>\n",
       "      <td>0.510283</td>\n",
       "    </tr>\n",
       "    <tr>\n",
       "      <th>MdRAE</th>\n",
       "      <td>0.826217</td>\n",
       "      <td>0.824745</td>\n",
       "      <td>0.861088</td>\n",
       "      <td>0.867256</td>\n",
       "      <td>0.795457</td>\n",
       "      <td>0.859322</td>\n",
       "    </tr>\n",
       "    <tr>\n",
       "      <th>sMAPE</th>\n",
       "      <td>46.003022</td>\n",
       "      <td>43.595525</td>\n",
       "      <td>43.403735</td>\n",
       "      <td>59.162585</td>\n",
       "      <td>43.749972</td>\n",
       "      <td>43.130885</td>\n",
       "    </tr>\n",
       "    <tr>\n",
       "      <th rowspan=\"4\" valign=\"top\">TGARCH</th>\n",
       "      <th>MSE1</th>\n",
       "      <td>0.294489</td>\n",
       "      <td>0.192309</td>\n",
       "      <td>0.286123</td>\n",
       "      <td>0.313135</td>\n",
       "      <td>0.207628</td>\n",
       "      <td>0.311106</td>\n",
       "    </tr>\n",
       "    <tr>\n",
       "      <th>MAE1</th>\n",
       "      <td>0.440676</td>\n",
       "      <td>0.348374</td>\n",
       "      <td>0.423396</td>\n",
       "      <td>0.448251</td>\n",
       "      <td>0.367075</td>\n",
       "      <td>0.447663</td>\n",
       "    </tr>\n",
       "    <tr>\n",
       "      <th>MdRAE</th>\n",
       "      <td>0.835533</td>\n",
       "      <td>0.824408</td>\n",
       "      <td>0.870585</td>\n",
       "      <td>0.864151</td>\n",
       "      <td>0.798736</td>\n",
       "      <td>0.867722</td>\n",
       "    </tr>\n",
       "    <tr>\n",
       "      <th>sMAPE</th>\n",
       "      <td>46.164000</td>\n",
       "      <td>43.434676</td>\n",
       "      <td>43.429014</td>\n",
       "      <td>58.990912</td>\n",
       "      <td>43.602172</td>\n",
       "      <td>43.193492</td>\n",
       "    </tr>\n",
       "    <tr>\n",
       "      <th rowspan=\"4\" valign=\"top\">GP (RBF)</th>\n",
       "      <th>MSE1</th>\n",
       "      <td>0.249046</td>\n",
       "      <td>0.166684</td>\n",
       "      <td>0.247144</td>\n",
       "      <td>0.247008</td>\n",
       "      <td>0.197219</td>\n",
       "      <td>0.276393</td>\n",
       "    </tr>\n",
       "    <tr>\n",
       "      <th>MAE1</th>\n",
       "      <td>0.393977</td>\n",
       "      <td>0.318486</td>\n",
       "      <td>0.378462</td>\n",
       "      <td>0.399630</td>\n",
       "      <td>0.350025</td>\n",
       "      <td>0.404137</td>\n",
       "    </tr>\n",
       "    <tr>\n",
       "      <th>MdRAE</th>\n",
       "      <td>0.706417</td>\n",
       "      <td>0.730263</td>\n",
       "      <td>0.735507</td>\n",
       "      <td>0.769608</td>\n",
       "      <td>0.734791</td>\n",
       "      <td>0.748556</td>\n",
       "    </tr>\n",
       "    <tr>\n",
       "      <th>sMAPE</th>\n",
       "      <td>43.403050</td>\n",
       "      <td>41.332429</td>\n",
       "      <td>40.670641</td>\n",
       "      <td>58.207798</td>\n",
       "      <td>42.653593</td>\n",
       "      <td>40.674277</td>\n",
       "    </tr>\n",
       "    <tr>\n",
       "      <th rowspan=\"4\" valign=\"top\">GP (Matern52)</th>\n",
       "      <th>MSE1</th>\n",
       "      <td>0.249076</td>\n",
       "      <td>0.166724</td>\n",
       "      <td>0.247210</td>\n",
       "      <td>0.247043</td>\n",
       "      <td>0.197269</td>\n",
       "      <td>0.276474</td>\n",
       "    </tr>\n",
       "    <tr>\n",
       "      <th>MAE1</th>\n",
       "      <td>0.393996</td>\n",
       "      <td>0.318525</td>\n",
       "      <td>0.378502</td>\n",
       "      <td>0.399657</td>\n",
       "      <td>0.350063</td>\n",
       "      <td>0.404190</td>\n",
       "    </tr>\n",
       "    <tr>\n",
       "      <th>MdRAE</th>\n",
       "      <td>0.706943</td>\n",
       "      <td>0.731525</td>\n",
       "      <td>0.735856</td>\n",
       "      <td>0.769210</td>\n",
       "      <td>0.734906</td>\n",
       "      <td>0.748171</td>\n",
       "    </tr>\n",
       "    <tr>\n",
       "      <th>sMAPE</th>\n",
       "      <td>43.404680</td>\n",
       "      <td>41.335829</td>\n",
       "      <td>40.673766</td>\n",
       "      <td>58.210223</td>\n",
       "      <td>42.656858</td>\n",
       "      <td>40.678319</td>\n",
       "    </tr>\n",
       "    <tr>\n",
       "      <th rowspan=\"4\" valign=\"top\">\"Наивная\" модель</th>\n",
       "      <th>MSE1</th>\n",
       "      <td>0.453225</td>\n",
       "      <td>0.298561</td>\n",
       "      <td>0.425909</td>\n",
       "      <td>0.410764</td>\n",
       "      <td>0.341538</td>\n",
       "      <td>0.464835</td>\n",
       "    </tr>\n",
       "    <tr>\n",
       "      <th>MAE1</th>\n",
       "      <td>0.537512</td>\n",
       "      <td>0.426944</td>\n",
       "      <td>0.503646</td>\n",
       "      <td>0.498123</td>\n",
       "      <td>0.461834</td>\n",
       "      <td>0.530356</td>\n",
       "    </tr>\n",
       "    <tr>\n",
       "      <th>MdRAE</th>\n",
       "      <td>1.000000</td>\n",
       "      <td>1.000000</td>\n",
       "      <td>1.000000</td>\n",
       "      <td>1.000000</td>\n",
       "      <td>1.000000</td>\n",
       "      <td>1.000000</td>\n",
       "    </tr>\n",
       "    <tr>\n",
       "      <th>sMAPE</th>\n",
       "      <td>59.326489</td>\n",
       "      <td>55.913475</td>\n",
       "      <td>54.737330</td>\n",
       "      <td>NaN</td>\n",
       "      <td>56.842412</td>\n",
       "      <td>53.888907</td>\n",
       "    </tr>\n",
       "  </tbody>\n",
       "</table>\n",
       "</div>"
      ],
      "text/plain": [
       "                                     bovespa  bse_sensex      imoex  \\\n",
       "Модель           Метрика качества                                     \n",
       "GARCH            MSE1               0.299707    0.201883   0.294095   \n",
       "                 MAE1               0.443563    0.357072   0.426143   \n",
       "                 MdRAE              0.837093    0.833134   0.861878   \n",
       "                 sMAPE             46.328379   44.138706  43.493803   \n",
       "GJR-GARCH        MSE1               0.293378    0.195142   0.290025   \n",
       "                 MAE1               0.438798    0.350942   0.424407   \n",
       "                 MdRAE              0.826217    0.824745   0.861088   \n",
       "                 sMAPE             46.003022   43.595525  43.403735   \n",
       "TGARCH           MSE1               0.294489    0.192309   0.286123   \n",
       "                 MAE1               0.440676    0.348374   0.423396   \n",
       "                 MdRAE              0.835533    0.824408   0.870585   \n",
       "                 sMAPE             46.164000   43.434676  43.429014   \n",
       "GP (RBF)         MSE1               0.249046    0.166684   0.247144   \n",
       "                 MAE1               0.393977    0.318486   0.378462   \n",
       "                 MdRAE              0.706417    0.730263   0.735507   \n",
       "                 sMAPE             43.403050   41.332429  40.670641   \n",
       "GP (Matern52)    MSE1               0.249076    0.166724   0.247210   \n",
       "                 MAE1               0.393996    0.318525   0.378502   \n",
       "                 MdRAE              0.706943    0.731525   0.735856   \n",
       "                 sMAPE             43.404680   41.335829  40.673766   \n",
       "\"Наивная\" модель MSE1               0.453225    0.298561   0.425909   \n",
       "                 MAE1               0.537512    0.426944   0.503646   \n",
       "                 MdRAE              1.000000    1.000000   1.000000   \n",
       "                 sMAPE             59.326489   55.913475  54.737330   \n",
       "\n",
       "                                        n225     nasdaq       rtsi  \n",
       "Модель           Метрика качества                                   \n",
       "GARCH            MSE1               0.319161   0.220026   0.317657  \n",
       "                 MAE1               0.456341   0.378823   0.450791  \n",
       "                 MdRAE              0.884281   0.810120   0.864989  \n",
       "                 sMAPE             59.816343  44.563343  43.316079  \n",
       "GJR-GARCH        MSE1               0.313448   0.208693  19.138496  \n",
       "                 MAE1               0.449182   0.368606   0.510283  \n",
       "                 MdRAE              0.867256   0.795457   0.859322  \n",
       "                 sMAPE             59.162585  43.749972  43.130885  \n",
       "TGARCH           MSE1               0.313135   0.207628   0.311106  \n",
       "                 MAE1               0.448251   0.367075   0.447663  \n",
       "                 MdRAE              0.864151   0.798736   0.867722  \n",
       "                 sMAPE             58.990912  43.602172  43.193492  \n",
       "GP (RBF)         MSE1               0.247008   0.197219   0.276393  \n",
       "                 MAE1               0.399630   0.350025   0.404137  \n",
       "                 MdRAE              0.769608   0.734791   0.748556  \n",
       "                 sMAPE             58.207798  42.653593  40.674277  \n",
       "GP (Matern52)    MSE1               0.247043   0.197269   0.276474  \n",
       "                 MAE1               0.399657   0.350063   0.404190  \n",
       "                 MdRAE              0.769210   0.734906   0.748171  \n",
       "                 sMAPE             58.210223  42.656858  40.678319  \n",
       "\"Наивная\" модель MSE1               0.410764   0.341538   0.464835  \n",
       "                 MAE1               0.498123   0.461834   0.530356  \n",
       "                 MdRAE              1.000000   1.000000   1.000000  \n",
       "                 sMAPE                   NaN  56.842412  53.888907  "
      ]
     },
     "execution_count": 910,
     "metadata": {},
     "output_type": "execute_result"
    }
   ],
   "source": [
    "df.T"
   ]
  },
  {
   "cell_type": "code",
   "execution_count": 585,
   "metadata": {},
   "outputs": [
    {
     "data": {
      "text/plain": [
       "(11.988831218656076, 1039.0429648643708)"
      ]
     },
     "execution_count": 585,
     "metadata": {},
     "output_type": "execute_result"
    }
   ],
   "source": [
    "mean_squared_error(ts_eval[252:], np.sqrt(ff)), mean_squared_error(ts_eval[252:], ff)"
   ]
  },
  {
   "cell_type": "code",
   "execution_count": 586,
   "metadata": {},
   "outputs": [
    {
     "data": {
      "text/plain": [
       "89.30065111312251"
      ]
     },
     "execution_count": 586,
     "metadata": {},
     "output_type": "execute_result"
    }
   ],
   "source": [
    "sMAPE(ts_eval[252:], np.sqrt(ff))"
   ]
  },
  {
   "cell_type": "code",
   "execution_count": 134,
   "metadata": {},
   "outputs": [],
   "source": [
    "gjr = arch.arch_model(ts, vol='Garch', p=1, o=0, q=1, power=2.0)\n",
    "# garch = arch.arch_model(ts['return'], vol='Garch', p=1, o=0, q=1, power=1.0)"
   ]
  },
  {
   "cell_type": "code",
   "execution_count": 124,
   "metadata": {},
   "outputs": [],
   "source": [
    "# gjr_result = gjr.fit()\n",
    "garch_result = garch.fit(update_freq=0, disp='off', show_warning=False)"
   ]
  },
  {
   "cell_type": "code",
   "execution_count": 143,
   "metadata": {},
   "outputs": [
    {
     "data": {
      "text/plain": [
       "'GARCH'"
      ]
     },
     "execution_count": 143,
     "metadata": {},
     "output_type": "execute_result"
    }
   ],
   "source": [
    "gjr.volatility.name"
   ]
  },
  {
   "cell_type": "code",
   "execution_count": 45,
   "metadata": {},
   "outputs": [
    {
     "data": {
      "text/plain": [
       "[<matplotlib.lines.Line2D at 0x20af625aef0>]"
      ]
     },
     "execution_count": 45,
     "metadata": {},
     "output_type": "execute_result"
    },
    {
     "data": {
      "image/png": "[encoded data removed]",
      "text/plain": [
       "<Figure size 1080x720 with 1 Axes>"
      ]
     },
     "metadata": {
      "needs_background": "light"
     },
     "output_type": "display_data"
    }
   ],
   "source": [
    "plt.figure(figsize=(15,10))\n",
    "plt.plot(gjr_result.conditional_volatility)\n",
    "plt.plot(garch_result.conditional_volatility, c='red')\n",
    "plt.plot(ts['return_abs'], color='grey', alpha=0.3)"
   ]
  },
  {
   "cell_type": "code",
   "execution_count": null,
   "metadata": {},
   "outputs": [],
   "source": []
  }
 ],
 "metadata": {
  "kernelspec": {
   "display_name": "Python 3",
   "language": "python",
   "name": "python3"
  },
  "language_info": {
   "codemirror_mode": {
    "name": "ipython",
    "version": 3
   },
   "file_extension": ".py",
   "mimetype": "text/x-python",
   "name": "python",
   "nbconvert_exporter": "python",
   "pygments_lexer": "ipython3",
   "version": "3.7.3"
  }
 },
 "nbformat": 4,
 "nbformat_minor": 2
}
